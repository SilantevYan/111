{
 "cells": [
  {
   "cell_type": "markdown",
   "metadata": {
    "toc": true
   },
   "source": [
    "<h1>Содержание<span class=\"tocSkip\"></span></h1>\n",
    "<div class=\"toc\"><ul class=\"toc-item\"><li><span><a href=\"#Подготовка-данных\" data-toc-modified-id=\"Подготовка-данных-1\"><span class=\"toc-item-num\">1&nbsp;&nbsp;</span>Подготовка данных</a></span><ul class=\"toc-item\"><li><span><a href=\"#Предобработка-данных\" data-toc-modified-id=\"Предобработка-данных-1.1\"><span class=\"toc-item-num\">1.1&nbsp;&nbsp;</span>Предобработка данных</a></span></li><li><span><a href=\"#Прямое-кодирование-категориальных-признаков\" data-toc-modified-id=\"Прямое-кодирование-категориальных-признаков-1.2\"><span class=\"toc-item-num\">1.2&nbsp;&nbsp;</span>Прямое кодирование категориальных признаков</a></span></li><li><span><a href=\"#Масштабирование-признаков\" data-toc-modified-id=\"Масштабирование-признаков-1.3\"><span class=\"toc-item-num\">1.3&nbsp;&nbsp;</span>Масштабирование признаков</a></span></li></ul></li><li><span><a href=\"#Исследование-задачи\" data-toc-modified-id=\"Исследование-задачи-2\"><span class=\"toc-item-num\">2&nbsp;&nbsp;</span>Исследование задачи</a></span><ul class=\"toc-item\"><li><span><a href=\"#Выбор-лучшей-модели\" data-toc-modified-id=\"Выбор-лучшей-модели-2.1\"><span class=\"toc-item-num\">2.1&nbsp;&nbsp;</span>Выбор лучшей модели</a></span><ul class=\"toc-item\"><li><span><a href=\"#Решающее-дерево\" data-toc-modified-id=\"Решающее-дерево-2.1.1\"><span class=\"toc-item-num\">2.1.1&nbsp;&nbsp;</span>Решающее дерево</a></span></li><li><span><a href=\"#Лес-случайных-деревьев\" data-toc-modified-id=\"Лес-случайных-деревьев-2.1.2\"><span class=\"toc-item-num\">2.1.2&nbsp;&nbsp;</span>Лес случайных деревьев</a></span></li><li><span><a href=\"#Логистическая-регрессия\" data-toc-modified-id=\"Логистическая-регрессия-2.1.3\"><span class=\"toc-item-num\">2.1.3&nbsp;&nbsp;</span>Логистическая регрессия</a></span></li></ul></li><li><span><a href=\"#Выводы\" data-toc-modified-id=\"Выводы-2.2\"><span class=\"toc-item-num\">2.2&nbsp;&nbsp;</span>Выводы</a></span></li></ul></li><li><span><a href=\"#Борьба-с-дисбалансом\" data-toc-modified-id=\"Борьба-с-дисбалансом-3\"><span class=\"toc-item-num\">3&nbsp;&nbsp;</span>Борьба с дисбалансом</a></span><ul class=\"toc-item\"><li><span><a href=\"#Решающее-дерево\" data-toc-modified-id=\"Решающее-дерево-3.1\"><span class=\"toc-item-num\">3.1&nbsp;&nbsp;</span>Решающее дерево</a></span></li><li><span><a href=\"#Лес-случайных-деревьев\" data-toc-modified-id=\"Лес-случайных-деревьев-3.2\"><span class=\"toc-item-num\">3.2&nbsp;&nbsp;</span>Лес случайных деревьев</a></span></li><li><span><a href=\"#Логистическая-регрессия\" data-toc-modified-id=\"Логистическая-регрессия-3.3\"><span class=\"toc-item-num\">3.3&nbsp;&nbsp;</span>Логистическая регрессия</a></span></li><li><span><a href=\"#Выводы\" data-toc-modified-id=\"Выводы-3.4\"><span class=\"toc-item-num\">3.4&nbsp;&nbsp;</span>Выводы</a></span></li></ul></li><li><span><a href=\"#Тестирование-модели\" data-toc-modified-id=\"Тестирование-модели-4\"><span class=\"toc-item-num\">4&nbsp;&nbsp;</span>Тестирование модели</a></span><ul class=\"toc-item\"><li><span><a href=\"#Выводы\" data-toc-modified-id=\"Выводы-4.1\"><span class=\"toc-item-num\">4.1&nbsp;&nbsp;</span>Выводы</a></span></li></ul></li><li><span><a href=\"#Чек-лист-готовности-проекта\" data-toc-modified-id=\"Чек-лист-готовности-проекта-5\"><span class=\"toc-item-num\">5&nbsp;&nbsp;</span>Чек-лист готовности проекта</a></span></li></ul></div>"
   ]
  },
  {
   "cell_type": "markdown",
   "metadata": {},
   "source": [
    "# Отток клиентов"
   ]
  },
  {
   "cell_type": "markdown",
   "metadata": {},
   "source": [
    "Из «Бета-Банка» стали уходить клиенты. Каждый месяц. Немного, но заметно. Банковские маркетологи посчитали: сохранять текущих клиентов дешевле, чем привлекать новых.\n",
    "\n",
    "Нужно спрогнозировать, уйдёт клиент из банка в ближайшее время или нет. Вам предоставлены исторические данные о поведении клиентов и расторжении договоров с банком. \n",
    "\n",
    "Постройте модель с предельно большим значением *F1*-меры. Чтобы сдать проект успешно, нужно довести метрику до 0.59. Проверьте *F1*-меру на тестовой выборке самостоятельно.\n",
    "\n",
    "Дополнительно измеряйте *AUC-ROC*, сравнивайте её значение с *F1*-мерой.\n",
    "\n",
    "Источник данных: [https://www.kaggle.com/barelydedicated/bank-customer-churn-modeling](https://www.kaggle.com/barelydedicated/bank-customer-churn-modeling)"
   ]
  },
  {
   "cell_type": "markdown",
   "metadata": {},
   "source": [
    "**Признаки**\n",
    "- **RowNumber** — индекс строки в данных\n",
    "- **CustomerId** — уникальный идентификатор клиента\n",
    "- **Surname** — фамилия\n",
    "- **CreditScore** — кредитный рейтинг\n",
    "- **Geography** — страна проживания\n",
    "- **Gender** — пол\n",
    "- **Age** — возраст\n",
    "- **Tenure** — сколько лет человек является клиентом банка\n",
    "- **Balance** — баланс на счёте\n",
    "- **NumOfProducts** — количество продуктов банка, используемых клиентом\n",
    "- **HasCrCard** — наличие кредитной карты\n",
    "- **IsActiveMember** — активность клиента\n",
    "- **EstimatedSalary** — предполагаемая зарплата\n",
    "\n",
    "\n",
    "**Целевой признак**\n",
    "- **Exited** — факт ухода клиента"
   ]
  },
  {
   "cell_type": "markdown",
   "metadata": {},
   "source": [
    "## Подготовка данных"
   ]
  },
  {
   "cell_type": "markdown",
   "metadata": {},
   "source": [
    "Импортируем нужные библиотеки"
   ]
  },
  {
   "cell_type": "code",
   "execution_count": 1,
   "metadata": {},
   "outputs": [],
   "source": [
    "from tqdm.notebook import tqdm, trange\n",
    "import time\n",
    "\n",
    "# Импортируем основные средства обработки датафреймов\n",
    "import pandas as pd\n",
    "import numpy as np\n",
    "import random\n",
    "import matplotlib.pyplot as plt\n",
    "\n",
    "# Импортируем инструменты\n",
    "from sklearn.model_selection import train_test_split\n",
    "from sklearn.preprocessing import StandardScaler\n",
    "from sklearn.utils import shuffle\n",
    "from sklearn.model_selection import GridSearchCV\n",
    "\n",
    "\n",
    "# Импортируем метрики\n",
    "from sklearn.metrics import roc_auc_score\n",
    "from sklearn.metrics import f1_score\n",
    "from sklearn.metrics import r2_score\n",
    "from sklearn.metrics import roc_curve\n",
    "from sklearn.metrics import confusion_matrix\n",
    "from sklearn.model_selection import cross_val_score\n",
    "\n",
    "\n",
    "# Импортируем модели\n",
    "from sklearn.linear_model import LogisticRegression\n",
    "from sklearn.tree import DecisionTreeClassifier\n",
    "from sklearn.ensemble import RandomForestClassifier\n",
    "\n",
    "\n",
    "\n",
    "pd.options.mode.chained_assignment = None  # default='warn'"
   ]
  },
  {
   "cell_type": "markdown",
   "metadata": {},
   "source": [
    "Читаем файл и проверим данные"
   ]
  },
  {
   "cell_type": "code",
   "execution_count": 2,
   "metadata": {},
   "outputs": [],
   "source": [
    "data = pd.read_csv('/datasets/Churn.csv')"
   ]
  },
  {
   "cell_type": "code",
   "execution_count": 3,
   "metadata": {},
   "outputs": [
    {
     "name": "stdout",
     "output_type": "stream",
     "text": [
      "<class 'pandas.core.frame.DataFrame'>\n",
      "RangeIndex: 10000 entries, 0 to 9999\n",
      "Data columns (total 14 columns):\n",
      " #   Column           Non-Null Count  Dtype  \n",
      "---  ------           --------------  -----  \n",
      " 0   RowNumber        10000 non-null  int64  \n",
      " 1   CustomerId       10000 non-null  int64  \n",
      " 2   Surname          10000 non-null  object \n",
      " 3   CreditScore      10000 non-null  int64  \n",
      " 4   Geography        10000 non-null  object \n",
      " 5   Gender           10000 non-null  object \n",
      " 6   Age              10000 non-null  int64  \n",
      " 7   Tenure           9091 non-null   float64\n",
      " 8   Balance          10000 non-null  float64\n",
      " 9   NumOfProducts    10000 non-null  int64  \n",
      " 10  HasCrCard        10000 non-null  int64  \n",
      " 11  IsActiveMember   10000 non-null  int64  \n",
      " 12  EstimatedSalary  10000 non-null  float64\n",
      " 13  Exited           10000 non-null  int64  \n",
      "dtypes: float64(3), int64(8), object(3)\n",
      "memory usage: 1.1+ MB\n"
     ]
    },
    {
     "data": {
      "text/html": [
       "<div>\n",
       "<style scoped>\n",
       "    .dataframe tbody tr th:only-of-type {\n",
       "        vertical-align: middle;\n",
       "    }\n",
       "\n",
       "    .dataframe tbody tr th {\n",
       "        vertical-align: top;\n",
       "    }\n",
       "\n",
       "    .dataframe thead th {\n",
       "        text-align: right;\n",
       "    }\n",
       "</style>\n",
       "<table border=\"1\" class=\"dataframe\">\n",
       "  <thead>\n",
       "    <tr style=\"text-align: right;\">\n",
       "      <th></th>\n",
       "      <th>count</th>\n",
       "      <th>mean</th>\n",
       "      <th>std</th>\n",
       "      <th>min</th>\n",
       "      <th>25%</th>\n",
       "      <th>50%</th>\n",
       "      <th>75%</th>\n",
       "      <th>max</th>\n",
       "    </tr>\n",
       "  </thead>\n",
       "  <tbody>\n",
       "    <tr>\n",
       "      <th>RowNumber</th>\n",
       "      <td>10000.0</td>\n",
       "      <td>5.000500e+03</td>\n",
       "      <td>2886.895680</td>\n",
       "      <td>1.00</td>\n",
       "      <td>2500.75</td>\n",
       "      <td>5.000500e+03</td>\n",
       "      <td>7.500250e+03</td>\n",
       "      <td>10000.00</td>\n",
       "    </tr>\n",
       "    <tr>\n",
       "      <th>CustomerId</th>\n",
       "      <td>10000.0</td>\n",
       "      <td>1.569094e+07</td>\n",
       "      <td>71936.186123</td>\n",
       "      <td>15565701.00</td>\n",
       "      <td>15628528.25</td>\n",
       "      <td>1.569074e+07</td>\n",
       "      <td>1.575323e+07</td>\n",
       "      <td>15815690.00</td>\n",
       "    </tr>\n",
       "    <tr>\n",
       "      <th>CreditScore</th>\n",
       "      <td>10000.0</td>\n",
       "      <td>6.505288e+02</td>\n",
       "      <td>96.653299</td>\n",
       "      <td>350.00</td>\n",
       "      <td>584.00</td>\n",
       "      <td>6.520000e+02</td>\n",
       "      <td>7.180000e+02</td>\n",
       "      <td>850.00</td>\n",
       "    </tr>\n",
       "    <tr>\n",
       "      <th>Age</th>\n",
       "      <td>10000.0</td>\n",
       "      <td>3.892180e+01</td>\n",
       "      <td>10.487806</td>\n",
       "      <td>18.00</td>\n",
       "      <td>32.00</td>\n",
       "      <td>3.700000e+01</td>\n",
       "      <td>4.400000e+01</td>\n",
       "      <td>92.00</td>\n",
       "    </tr>\n",
       "    <tr>\n",
       "      <th>Tenure</th>\n",
       "      <td>9091.0</td>\n",
       "      <td>4.997690e+00</td>\n",
       "      <td>2.894723</td>\n",
       "      <td>0.00</td>\n",
       "      <td>2.00</td>\n",
       "      <td>5.000000e+00</td>\n",
       "      <td>7.000000e+00</td>\n",
       "      <td>10.00</td>\n",
       "    </tr>\n",
       "    <tr>\n",
       "      <th>Balance</th>\n",
       "      <td>10000.0</td>\n",
       "      <td>7.648589e+04</td>\n",
       "      <td>62397.405202</td>\n",
       "      <td>0.00</td>\n",
       "      <td>0.00</td>\n",
       "      <td>9.719854e+04</td>\n",
       "      <td>1.276442e+05</td>\n",
       "      <td>250898.09</td>\n",
       "    </tr>\n",
       "    <tr>\n",
       "      <th>NumOfProducts</th>\n",
       "      <td>10000.0</td>\n",
       "      <td>1.530200e+00</td>\n",
       "      <td>0.581654</td>\n",
       "      <td>1.00</td>\n",
       "      <td>1.00</td>\n",
       "      <td>1.000000e+00</td>\n",
       "      <td>2.000000e+00</td>\n",
       "      <td>4.00</td>\n",
       "    </tr>\n",
       "    <tr>\n",
       "      <th>HasCrCard</th>\n",
       "      <td>10000.0</td>\n",
       "      <td>7.055000e-01</td>\n",
       "      <td>0.455840</td>\n",
       "      <td>0.00</td>\n",
       "      <td>0.00</td>\n",
       "      <td>1.000000e+00</td>\n",
       "      <td>1.000000e+00</td>\n",
       "      <td>1.00</td>\n",
       "    </tr>\n",
       "    <tr>\n",
       "      <th>IsActiveMember</th>\n",
       "      <td>10000.0</td>\n",
       "      <td>5.151000e-01</td>\n",
       "      <td>0.499797</td>\n",
       "      <td>0.00</td>\n",
       "      <td>0.00</td>\n",
       "      <td>1.000000e+00</td>\n",
       "      <td>1.000000e+00</td>\n",
       "      <td>1.00</td>\n",
       "    </tr>\n",
       "    <tr>\n",
       "      <th>EstimatedSalary</th>\n",
       "      <td>10000.0</td>\n",
       "      <td>1.000902e+05</td>\n",
       "      <td>57510.492818</td>\n",
       "      <td>11.58</td>\n",
       "      <td>51002.11</td>\n",
       "      <td>1.001939e+05</td>\n",
       "      <td>1.493882e+05</td>\n",
       "      <td>199992.48</td>\n",
       "    </tr>\n",
       "    <tr>\n",
       "      <th>Exited</th>\n",
       "      <td>10000.0</td>\n",
       "      <td>2.037000e-01</td>\n",
       "      <td>0.402769</td>\n",
       "      <td>0.00</td>\n",
       "      <td>0.00</td>\n",
       "      <td>0.000000e+00</td>\n",
       "      <td>0.000000e+00</td>\n",
       "      <td>1.00</td>\n",
       "    </tr>\n",
       "  </tbody>\n",
       "</table>\n",
       "</div>"
      ],
      "text/plain": [
       "                   count          mean           std          min  \\\n",
       "RowNumber        10000.0  5.000500e+03   2886.895680         1.00   \n",
       "CustomerId       10000.0  1.569094e+07  71936.186123  15565701.00   \n",
       "CreditScore      10000.0  6.505288e+02     96.653299       350.00   \n",
       "Age              10000.0  3.892180e+01     10.487806        18.00   \n",
       "Tenure            9091.0  4.997690e+00      2.894723         0.00   \n",
       "Balance          10000.0  7.648589e+04  62397.405202         0.00   \n",
       "NumOfProducts    10000.0  1.530200e+00      0.581654         1.00   \n",
       "HasCrCard        10000.0  7.055000e-01      0.455840         0.00   \n",
       "IsActiveMember   10000.0  5.151000e-01      0.499797         0.00   \n",
       "EstimatedSalary  10000.0  1.000902e+05  57510.492818        11.58   \n",
       "Exited           10000.0  2.037000e-01      0.402769         0.00   \n",
       "\n",
       "                         25%           50%           75%          max  \n",
       "RowNumber            2500.75  5.000500e+03  7.500250e+03     10000.00  \n",
       "CustomerId       15628528.25  1.569074e+07  1.575323e+07  15815690.00  \n",
       "CreditScore           584.00  6.520000e+02  7.180000e+02       850.00  \n",
       "Age                    32.00  3.700000e+01  4.400000e+01        92.00  \n",
       "Tenure                  2.00  5.000000e+00  7.000000e+00        10.00  \n",
       "Balance                 0.00  9.719854e+04  1.276442e+05    250898.09  \n",
       "NumOfProducts           1.00  1.000000e+00  2.000000e+00         4.00  \n",
       "HasCrCard               0.00  1.000000e+00  1.000000e+00         1.00  \n",
       "IsActiveMember          0.00  1.000000e+00  1.000000e+00         1.00  \n",
       "EstimatedSalary     51002.11  1.001939e+05  1.493882e+05    199992.48  \n",
       "Exited                  0.00  0.000000e+00  0.000000e+00         1.00  "
      ]
     },
     "execution_count": 3,
     "metadata": {},
     "output_type": "execute_result"
    }
   ],
   "source": [
    "data.info()\n",
    "data.describe().T"
   ]
  },
  {
   "cell_type": "markdown",
   "metadata": {},
   "source": [
    "Есть пропуски в информации о том, сколько клиент является клиентом банка"
   ]
  },
  {
   "cell_type": "code",
   "execution_count": 4,
   "metadata": {},
   "outputs": [
    {
     "data": {
      "text/html": [
       "<div>\n",
       "<style scoped>\n",
       "    .dataframe tbody tr th:only-of-type {\n",
       "        vertical-align: middle;\n",
       "    }\n",
       "\n",
       "    .dataframe tbody tr th {\n",
       "        vertical-align: top;\n",
       "    }\n",
       "\n",
       "    .dataframe thead th {\n",
       "        text-align: right;\n",
       "    }\n",
       "</style>\n",
       "<table border=\"1\" class=\"dataframe\">\n",
       "  <thead>\n",
       "    <tr style=\"text-align: right;\">\n",
       "      <th></th>\n",
       "      <th>RowNumber</th>\n",
       "      <th>CustomerId</th>\n",
       "      <th>Surname</th>\n",
       "      <th>CreditScore</th>\n",
       "      <th>Geography</th>\n",
       "      <th>Gender</th>\n",
       "      <th>Age</th>\n",
       "      <th>Tenure</th>\n",
       "      <th>Balance</th>\n",
       "      <th>NumOfProducts</th>\n",
       "      <th>HasCrCard</th>\n",
       "      <th>IsActiveMember</th>\n",
       "      <th>EstimatedSalary</th>\n",
       "      <th>Exited</th>\n",
       "    </tr>\n",
       "  </thead>\n",
       "  <tbody>\n",
       "    <tr>\n",
       "      <th>0</th>\n",
       "      <td>1</td>\n",
       "      <td>15634602</td>\n",
       "      <td>Hargrave</td>\n",
       "      <td>619</td>\n",
       "      <td>France</td>\n",
       "      <td>Female</td>\n",
       "      <td>42</td>\n",
       "      <td>2.0</td>\n",
       "      <td>0.00</td>\n",
       "      <td>1</td>\n",
       "      <td>1</td>\n",
       "      <td>1</td>\n",
       "      <td>101348.88</td>\n",
       "      <td>1</td>\n",
       "    </tr>\n",
       "    <tr>\n",
       "      <th>1</th>\n",
       "      <td>2</td>\n",
       "      <td>15647311</td>\n",
       "      <td>Hill</td>\n",
       "      <td>608</td>\n",
       "      <td>Spain</td>\n",
       "      <td>Female</td>\n",
       "      <td>41</td>\n",
       "      <td>1.0</td>\n",
       "      <td>83807.86</td>\n",
       "      <td>1</td>\n",
       "      <td>0</td>\n",
       "      <td>1</td>\n",
       "      <td>112542.58</td>\n",
       "      <td>0</td>\n",
       "    </tr>\n",
       "    <tr>\n",
       "      <th>2</th>\n",
       "      <td>3</td>\n",
       "      <td>15619304</td>\n",
       "      <td>Onio</td>\n",
       "      <td>502</td>\n",
       "      <td>France</td>\n",
       "      <td>Female</td>\n",
       "      <td>42</td>\n",
       "      <td>8.0</td>\n",
       "      <td>159660.80</td>\n",
       "      <td>3</td>\n",
       "      <td>1</td>\n",
       "      <td>0</td>\n",
       "      <td>113931.57</td>\n",
       "      <td>1</td>\n",
       "    </tr>\n",
       "    <tr>\n",
       "      <th>3</th>\n",
       "      <td>4</td>\n",
       "      <td>15701354</td>\n",
       "      <td>Boni</td>\n",
       "      <td>699</td>\n",
       "      <td>France</td>\n",
       "      <td>Female</td>\n",
       "      <td>39</td>\n",
       "      <td>1.0</td>\n",
       "      <td>0.00</td>\n",
       "      <td>2</td>\n",
       "      <td>0</td>\n",
       "      <td>0</td>\n",
       "      <td>93826.63</td>\n",
       "      <td>0</td>\n",
       "    </tr>\n",
       "    <tr>\n",
       "      <th>4</th>\n",
       "      <td>5</td>\n",
       "      <td>15737888</td>\n",
       "      <td>Mitchell</td>\n",
       "      <td>850</td>\n",
       "      <td>Spain</td>\n",
       "      <td>Female</td>\n",
       "      <td>43</td>\n",
       "      <td>2.0</td>\n",
       "      <td>125510.82</td>\n",
       "      <td>1</td>\n",
       "      <td>1</td>\n",
       "      <td>1</td>\n",
       "      <td>79084.10</td>\n",
       "      <td>0</td>\n",
       "    </tr>\n",
       "  </tbody>\n",
       "</table>\n",
       "</div>"
      ],
      "text/plain": [
       "   RowNumber  CustomerId   Surname  CreditScore Geography  Gender  Age  \\\n",
       "0          1    15634602  Hargrave          619    France  Female   42   \n",
       "1          2    15647311      Hill          608     Spain  Female   41   \n",
       "2          3    15619304      Onio          502    France  Female   42   \n",
       "3          4    15701354      Boni          699    France  Female   39   \n",
       "4          5    15737888  Mitchell          850     Spain  Female   43   \n",
       "\n",
       "   Tenure    Balance  NumOfProducts  HasCrCard  IsActiveMember  \\\n",
       "0     2.0       0.00              1          1               1   \n",
       "1     1.0   83807.86              1          0               1   \n",
       "2     8.0  159660.80              3          1               0   \n",
       "3     1.0       0.00              2          0               0   \n",
       "4     2.0  125510.82              1          1               1   \n",
       "\n",
       "   EstimatedSalary  Exited  \n",
       "0        101348.88       1  \n",
       "1        112542.58       0  \n",
       "2        113931.57       1  \n",
       "3         93826.63       0  \n",
       "4         79084.10       0  "
      ]
     },
     "execution_count": 4,
     "metadata": {},
     "output_type": "execute_result"
    }
   ],
   "source": [
    "data.head()"
   ]
  },
  {
   "cell_type": "markdown",
   "metadata": {},
   "source": [
    "Посмотрим так же матрицу корреляции признаков."
   ]
  },
  {
   "cell_type": "code",
   "execution_count": 5,
   "metadata": {},
   "outputs": [
    {
     "data": {
      "text/html": [
       "<style  type=\"text/css\" >\n",
       "#T_a5ee8_row0_col0,#T_a5ee8_row1_col1,#T_a5ee8_row2_col2,#T_a5ee8_row3_col3,#T_a5ee8_row4_col4,#T_a5ee8_row5_col5,#T_a5ee8_row6_col6,#T_a5ee8_row7_col7,#T_a5ee8_row8_col8,#T_a5ee8_row9_col9,#T_a5ee8_row10_col10{\n",
       "            background-color:  #b40426;\n",
       "            color:  #f1f1f1;\n",
       "        }#T_a5ee8_row0_col1,#T_a5ee8_row0_col4,#T_a5ee8_row1_col9,#T_a5ee8_row2_col1,#T_a5ee8_row2_col3,#T_a5ee8_row4_col2,#T_a5ee8_row5_col4,#T_a5ee8_row5_col9,#T_a5ee8_row6_col9,#T_a5ee8_row9_col2{\n",
       "            background-color:  #4257c9;\n",
       "            color:  #f1f1f1;\n",
       "        }#T_a5ee8_row0_col2,#T_a5ee8_row1_col2,#T_a5ee8_row5_col2{\n",
       "            background-color:  #445acc;\n",
       "            color:  #f1f1f1;\n",
       "        }#T_a5ee8_row0_col3,#T_a5ee8_row2_col4,#T_a5ee8_row3_col1,#T_a5ee8_row8_col0{\n",
       "            background-color:  #4358cb;\n",
       "            color:  #f1f1f1;\n",
       "        }#T_a5ee8_row0_col5,#T_a5ee8_row1_col5,#T_a5ee8_row8_col5{\n",
       "            background-color:  #84a7fc;\n",
       "            color:  #000000;\n",
       "        }#T_a5ee8_row0_col6,#T_a5ee8_row8_col6{\n",
       "            background-color:  #89acfd;\n",
       "            color:  #000000;\n",
       "        }#T_a5ee8_row0_col7,#T_a5ee8_row10_col1,#T_a5ee8_row10_col4{\n",
       "            background-color:  #3e51c5;\n",
       "            color:  #f1f1f1;\n",
       "        }#T_a5ee8_row0_col8,#T_a5ee8_row9_col10{\n",
       "            background-color:  #688aef;\n",
       "            color:  #000000;\n",
       "        }#T_a5ee8_row0_col9,#T_a5ee8_row3_col9,#T_a5ee8_row5_col0,#T_a5ee8_row7_col1,#T_a5ee8_row9_col7,#T_a5ee8_row10_col7{\n",
       "            background-color:  #3c4ec2;\n",
       "            color:  #f1f1f1;\n",
       "        }#T_a5ee8_row0_col10,#T_a5ee8_row4_col10{\n",
       "            background-color:  #5f7fe8;\n",
       "            color:  #000000;\n",
       "        }#T_a5ee8_row1_col0,#T_a5ee8_row2_col0,#T_a5ee8_row3_col2,#T_a5ee8_row4_col9,#T_a5ee8_row6_col0,#T_a5ee8_row7_col2,#T_a5ee8_row8_col1,#T_a5ee8_row9_col3,#T_a5ee8_row10_col9{\n",
       "            background-color:  #4055c8;\n",
       "            color:  #f1f1f1;\n",
       "        }#T_a5ee8_row1_col3,#T_a5ee8_row6_col1,#T_a5ee8_row6_col2,#T_a5ee8_row9_col1{\n",
       "            background-color:  #455cce;\n",
       "            color:  #f1f1f1;\n",
       "        }#T_a5ee8_row1_col4,#T_a5ee8_row2_col7,#T_a5ee8_row2_col9,#T_a5ee8_row4_col0,#T_a5ee8_row5_col1,#T_a5ee8_row9_col0{\n",
       "            background-color:  #3d50c3;\n",
       "            color:  #f1f1f1;\n",
       "        }#T_a5ee8_row1_col6{\n",
       "            background-color:  #8caffe;\n",
       "            color:  #000000;\n",
       "        }#T_a5ee8_row1_col7,#T_a5ee8_row3_col7,#T_a5ee8_row4_col1,#T_a5ee8_row5_col6,#T_a5ee8_row5_col7,#T_a5ee8_row6_col3,#T_a5ee8_row6_col5,#T_a5ee8_row7_col9,#T_a5ee8_row8_col4,#T_a5ee8_row8_col7,#T_a5ee8_row8_col9,#T_a5ee8_row8_col10,#T_a5ee8_row10_col0,#T_a5ee8_row10_col2,#T_a5ee8_row10_col8{\n",
       "            background-color:  #3b4cc0;\n",
       "            color:  #f1f1f1;\n",
       "        }#T_a5ee8_row1_col8{\n",
       "            background-color:  #6485ec;\n",
       "            color:  #000000;\n",
       "        }#T_a5ee8_row1_col10{\n",
       "            background-color:  #6384eb;\n",
       "            color:  #000000;\n",
       "        }#T_a5ee8_row2_col5,#T_a5ee8_row5_col10,#T_a5ee8_row7_col6{\n",
       "            background-color:  #88abfd;\n",
       "            color:  #000000;\n",
       "        }#T_a5ee8_row2_col6,#T_a5ee8_row4_col6,#T_a5ee8_row9_col5,#T_a5ee8_row9_col6{\n",
       "            background-color:  #8badfd;\n",
       "            color:  #000000;\n",
       "        }#T_a5ee8_row2_col8{\n",
       "            background-color:  #6c8ff1;\n",
       "            color:  #000000;\n",
       "        }#T_a5ee8_row2_col10,#T_a5ee8_row8_col3{\n",
       "            background-color:  #5d7ce6;\n",
       "            color:  #000000;\n",
       "        }#T_a5ee8_row3_col0,#T_a5ee8_row3_col4,#T_a5ee8_row4_col3,#T_a5ee8_row6_col7,#T_a5ee8_row7_col0,#T_a5ee8_row7_col3{\n",
       "            background-color:  #3f53c6;\n",
       "            color:  #f1f1f1;\n",
       "        }#T_a5ee8_row3_col5{\n",
       "            background-color:  #8fb1fe;\n",
       "            color:  #000000;\n",
       "        }#T_a5ee8_row3_col6,#T_a5ee8_row3_col8{\n",
       "            background-color:  #7ea1fa;\n",
       "            color:  #000000;\n",
       "        }#T_a5ee8_row3_col10{\n",
       "            background-color:  #bad0f8;\n",
       "            color:  #000000;\n",
       "        }#T_a5ee8_row4_col5{\n",
       "            background-color:  #85a8fc;\n",
       "            color:  #000000;\n",
       "        }#T_a5ee8_row4_col7,#T_a5ee8_row6_col4,#T_a5ee8_row9_col4{\n",
       "            background-color:  #465ecf;\n",
       "            color:  #f1f1f1;\n",
       "        }#T_a5ee8_row4_col8{\n",
       "            background-color:  #5b7ae5;\n",
       "            color:  #000000;\n",
       "        }#T_a5ee8_row5_col3,#T_a5ee8_row7_col4{\n",
       "            background-color:  #4b64d5;\n",
       "            color:  #f1f1f1;\n",
       "        }#T_a5ee8_row5_col8,#T_a5ee8_row7_col10,#T_a5ee8_row9_col8{\n",
       "            background-color:  #6282ea;\n",
       "            color:  #000000;\n",
       "        }#T_a5ee8_row6_col8{\n",
       "            background-color:  #6788ee;\n",
       "            color:  #000000;\n",
       "        }#T_a5ee8_row6_col10{\n",
       "            background-color:  #5673e0;\n",
       "            color:  #000000;\n",
       "        }#T_a5ee8_row7_col5{\n",
       "            background-color:  #82a6fb;\n",
       "            color:  #000000;\n",
       "        }#T_a5ee8_row7_col8{\n",
       "            background-color:  #6180e9;\n",
       "            color:  #000000;\n",
       "        }#T_a5ee8_row8_col2{\n",
       "            background-color:  #4a63d3;\n",
       "            color:  #f1f1f1;\n",
       "        }#T_a5ee8_row10_col3{\n",
       "            background-color:  #a1c0ff;\n",
       "            color:  #000000;\n",
       "        }#T_a5ee8_row10_col5{\n",
       "            background-color:  #a6c4fe;\n",
       "            color:  #000000;\n",
       "        }#T_a5ee8_row10_col6{\n",
       "            background-color:  #7a9df8;\n",
       "            color:  #000000;\n",
       "        }</style><table id=\"T_a5ee8_\" ><thead>    <tr>        <th class=\"blank level0\" ></th>        <th class=\"col_heading level0 col0\" >RowNumber</th>        <th class=\"col_heading level0 col1\" >CustomerId</th>        <th class=\"col_heading level0 col2\" >CreditScore</th>        <th class=\"col_heading level0 col3\" >Age</th>        <th class=\"col_heading level0 col4\" >Tenure</th>        <th class=\"col_heading level0 col5\" >Balance</th>        <th class=\"col_heading level0 col6\" >NumOfProducts</th>        <th class=\"col_heading level0 col7\" >HasCrCard</th>        <th class=\"col_heading level0 col8\" >IsActiveMember</th>        <th class=\"col_heading level0 col9\" >EstimatedSalary</th>        <th class=\"col_heading level0 col10\" >Exited</th>    </tr></thead><tbody>\n",
       "                <tr>\n",
       "                        <th id=\"T_a5ee8_level0_row0\" class=\"row_heading level0 row0\" >RowNumber</th>\n",
       "                        <td id=\"T_a5ee8_row0_col0\" class=\"data row0 col0\" >1.000000</td>\n",
       "                        <td id=\"T_a5ee8_row0_col1\" class=\"data row0 col1\" >0.004202</td>\n",
       "                        <td id=\"T_a5ee8_row0_col2\" class=\"data row0 col2\" >0.005840</td>\n",
       "                        <td id=\"T_a5ee8_row0_col3\" class=\"data row0 col3\" >0.000783</td>\n",
       "                        <td id=\"T_a5ee8_row0_col4\" class=\"data row0 col4\" >-0.007322</td>\n",
       "                        <td id=\"T_a5ee8_row0_col5\" class=\"data row0 col5\" >-0.009067</td>\n",
       "                        <td id=\"T_a5ee8_row0_col6\" class=\"data row0 col6\" >0.007246</td>\n",
       "                        <td id=\"T_a5ee8_row0_col7\" class=\"data row0 col7\" >0.000599</td>\n",
       "                        <td id=\"T_a5ee8_row0_col8\" class=\"data row0 col8\" >0.012044</td>\n",
       "                        <td id=\"T_a5ee8_row0_col9\" class=\"data row0 col9\" >-0.005988</td>\n",
       "                        <td id=\"T_a5ee8_row0_col10\" class=\"data row0 col10\" >-0.016571</td>\n",
       "            </tr>\n",
       "            <tr>\n",
       "                        <th id=\"T_a5ee8_level0_row1\" class=\"row_heading level0 row1\" >CustomerId</th>\n",
       "                        <td id=\"T_a5ee8_row1_col0\" class=\"data row1 col0\" >0.004202</td>\n",
       "                        <td id=\"T_a5ee8_row1_col1\" class=\"data row1 col1\" >1.000000</td>\n",
       "                        <td id=\"T_a5ee8_row1_col2\" class=\"data row1 col2\" >0.005308</td>\n",
       "                        <td id=\"T_a5ee8_row1_col3\" class=\"data row1 col3\" >0.009497</td>\n",
       "                        <td id=\"T_a5ee8_row1_col4\" class=\"data row1 col4\" >-0.021418</td>\n",
       "                        <td id=\"T_a5ee8_row1_col5\" class=\"data row1 col5\" >-0.012419</td>\n",
       "                        <td id=\"T_a5ee8_row1_col6\" class=\"data row1 col6\" >0.016972</td>\n",
       "                        <td id=\"T_a5ee8_row1_col7\" class=\"data row1 col7\" >-0.014025</td>\n",
       "                        <td id=\"T_a5ee8_row1_col8\" class=\"data row1 col8\" >0.001665</td>\n",
       "                        <td id=\"T_a5ee8_row1_col9\" class=\"data row1 col9\" >0.015271</td>\n",
       "                        <td id=\"T_a5ee8_row1_col10\" class=\"data row1 col10\" >-0.006248</td>\n",
       "            </tr>\n",
       "            <tr>\n",
       "                        <th id=\"T_a5ee8_level0_row2\" class=\"row_heading level0 row2\" >CreditScore</th>\n",
       "                        <td id=\"T_a5ee8_row2_col0\" class=\"data row2 col0\" >0.005840</td>\n",
       "                        <td id=\"T_a5ee8_row2_col1\" class=\"data row2 col1\" >0.005308</td>\n",
       "                        <td id=\"T_a5ee8_row2_col2\" class=\"data row2 col2\" >1.000000</td>\n",
       "                        <td id=\"T_a5ee8_row2_col3\" class=\"data row2 col3\" >-0.003965</td>\n",
       "                        <td id=\"T_a5ee8_row2_col4\" class=\"data row2 col4\" >-0.000062</td>\n",
       "                        <td id=\"T_a5ee8_row2_col5\" class=\"data row2 col5\" >0.006268</td>\n",
       "                        <td id=\"T_a5ee8_row2_col6\" class=\"data row2 col6\" >0.012238</td>\n",
       "                        <td id=\"T_a5ee8_row2_col7\" class=\"data row2 col7\" >-0.005458</td>\n",
       "                        <td id=\"T_a5ee8_row2_col8\" class=\"data row2 col8\" >0.025651</td>\n",
       "                        <td id=\"T_a5ee8_row2_col9\" class=\"data row2 col9\" >-0.001384</td>\n",
       "                        <td id=\"T_a5ee8_row2_col10\" class=\"data row2 col10\" >-0.027094</td>\n",
       "            </tr>\n",
       "            <tr>\n",
       "                        <th id=\"T_a5ee8_level0_row3\" class=\"row_heading level0 row3\" >Age</th>\n",
       "                        <td id=\"T_a5ee8_row3_col0\" class=\"data row3 col0\" >0.000783</td>\n",
       "                        <td id=\"T_a5ee8_row3_col1\" class=\"data row3 col1\" >0.009497</td>\n",
       "                        <td id=\"T_a5ee8_row3_col2\" class=\"data row3 col2\" >-0.003965</td>\n",
       "                        <td id=\"T_a5ee8_row3_col3\" class=\"data row3 col3\" >1.000000</td>\n",
       "                        <td id=\"T_a5ee8_row3_col4\" class=\"data row3 col4\" >-0.013134</td>\n",
       "                        <td id=\"T_a5ee8_row3_col5\" class=\"data row3 col5\" >0.028308</td>\n",
       "                        <td id=\"T_a5ee8_row3_col6\" class=\"data row3 col6\" >-0.030680</td>\n",
       "                        <td id=\"T_a5ee8_row3_col7\" class=\"data row3 col7\" >-0.011721</td>\n",
       "                        <td id=\"T_a5ee8_row3_col8\" class=\"data row3 col8\" >0.085472</td>\n",
       "                        <td id=\"T_a5ee8_row3_col9\" class=\"data row3 col9\" >-0.007201</td>\n",
       "                        <td id=\"T_a5ee8_row3_col10\" class=\"data row3 col10\" >0.285323</td>\n",
       "            </tr>\n",
       "            <tr>\n",
       "                        <th id=\"T_a5ee8_level0_row4\" class=\"row_heading level0 row4\" >Tenure</th>\n",
       "                        <td id=\"T_a5ee8_row4_col0\" class=\"data row4 col0\" >-0.007322</td>\n",
       "                        <td id=\"T_a5ee8_row4_col1\" class=\"data row4 col1\" >-0.021418</td>\n",
       "                        <td id=\"T_a5ee8_row4_col2\" class=\"data row4 col2\" >-0.000062</td>\n",
       "                        <td id=\"T_a5ee8_row4_col3\" class=\"data row4 col3\" >-0.013134</td>\n",
       "                        <td id=\"T_a5ee8_row4_col4\" class=\"data row4 col4\" >1.000000</td>\n",
       "                        <td id=\"T_a5ee8_row4_col5\" class=\"data row4 col5\" >-0.007911</td>\n",
       "                        <td id=\"T_a5ee8_row4_col6\" class=\"data row4 col6\" >0.011979</td>\n",
       "                        <td id=\"T_a5ee8_row4_col7\" class=\"data row4 col7\" >0.027232</td>\n",
       "                        <td id=\"T_a5ee8_row4_col8\" class=\"data row4 col8\" >-0.032178</td>\n",
       "                        <td id=\"T_a5ee8_row4_col9\" class=\"data row4 col9\" >0.010520</td>\n",
       "                        <td id=\"T_a5ee8_row4_col10\" class=\"data row4 col10\" >-0.016761</td>\n",
       "            </tr>\n",
       "            <tr>\n",
       "                        <th id=\"T_a5ee8_level0_row5\" class=\"row_heading level0 row5\" >Balance</th>\n",
       "                        <td id=\"T_a5ee8_row5_col0\" class=\"data row5 col0\" >-0.009067</td>\n",
       "                        <td id=\"T_a5ee8_row5_col1\" class=\"data row5 col1\" >-0.012419</td>\n",
       "                        <td id=\"T_a5ee8_row5_col2\" class=\"data row5 col2\" >0.006268</td>\n",
       "                        <td id=\"T_a5ee8_row5_col3\" class=\"data row5 col3\" >0.028308</td>\n",
       "                        <td id=\"T_a5ee8_row5_col4\" class=\"data row5 col4\" >-0.007911</td>\n",
       "                        <td id=\"T_a5ee8_row5_col5\" class=\"data row5 col5\" >1.000000</td>\n",
       "                        <td id=\"T_a5ee8_row5_col6\" class=\"data row5 col6\" >-0.304180</td>\n",
       "                        <td id=\"T_a5ee8_row5_col7\" class=\"data row5 col7\" >-0.014858</td>\n",
       "                        <td id=\"T_a5ee8_row5_col8\" class=\"data row5 col8\" >-0.010084</td>\n",
       "                        <td id=\"T_a5ee8_row5_col9\" class=\"data row5 col9\" >0.012797</td>\n",
       "                        <td id=\"T_a5ee8_row5_col10\" class=\"data row5 col10\" >0.118533</td>\n",
       "            </tr>\n",
       "            <tr>\n",
       "                        <th id=\"T_a5ee8_level0_row6\" class=\"row_heading level0 row6\" >NumOfProducts</th>\n",
       "                        <td id=\"T_a5ee8_row6_col0\" class=\"data row6 col0\" >0.007246</td>\n",
       "                        <td id=\"T_a5ee8_row6_col1\" class=\"data row6 col1\" >0.016972</td>\n",
       "                        <td id=\"T_a5ee8_row6_col2\" class=\"data row6 col2\" >0.012238</td>\n",
       "                        <td id=\"T_a5ee8_row6_col3\" class=\"data row6 col3\" >-0.030680</td>\n",
       "                        <td id=\"T_a5ee8_row6_col4\" class=\"data row6 col4\" >0.011979</td>\n",
       "                        <td id=\"T_a5ee8_row6_col5\" class=\"data row6 col5\" >-0.304180</td>\n",
       "                        <td id=\"T_a5ee8_row6_col6\" class=\"data row6 col6\" >1.000000</td>\n",
       "                        <td id=\"T_a5ee8_row6_col7\" class=\"data row6 col7\" >0.003183</td>\n",
       "                        <td id=\"T_a5ee8_row6_col8\" class=\"data row6 col8\" >0.009612</td>\n",
       "                        <td id=\"T_a5ee8_row6_col9\" class=\"data row6 col9\" >0.014204</td>\n",
       "                        <td id=\"T_a5ee8_row6_col10\" class=\"data row6 col10\" >-0.047820</td>\n",
       "            </tr>\n",
       "            <tr>\n",
       "                        <th id=\"T_a5ee8_level0_row7\" class=\"row_heading level0 row7\" >HasCrCard</th>\n",
       "                        <td id=\"T_a5ee8_row7_col0\" class=\"data row7 col0\" >0.000599</td>\n",
       "                        <td id=\"T_a5ee8_row7_col1\" class=\"data row7 col1\" >-0.014025</td>\n",
       "                        <td id=\"T_a5ee8_row7_col2\" class=\"data row7 col2\" >-0.005458</td>\n",
       "                        <td id=\"T_a5ee8_row7_col3\" class=\"data row7 col3\" >-0.011721</td>\n",
       "                        <td id=\"T_a5ee8_row7_col4\" class=\"data row7 col4\" >0.027232</td>\n",
       "                        <td id=\"T_a5ee8_row7_col5\" class=\"data row7 col5\" >-0.014858</td>\n",
       "                        <td id=\"T_a5ee8_row7_col6\" class=\"data row7 col6\" >0.003183</td>\n",
       "                        <td id=\"T_a5ee8_row7_col7\" class=\"data row7 col7\" >1.000000</td>\n",
       "                        <td id=\"T_a5ee8_row7_col8\" class=\"data row7 col8\" >-0.011866</td>\n",
       "                        <td id=\"T_a5ee8_row7_col9\" class=\"data row7 col9\" >-0.009933</td>\n",
       "                        <td id=\"T_a5ee8_row7_col10\" class=\"data row7 col10\" >-0.007138</td>\n",
       "            </tr>\n",
       "            <tr>\n",
       "                        <th id=\"T_a5ee8_level0_row8\" class=\"row_heading level0 row8\" >IsActiveMember</th>\n",
       "                        <td id=\"T_a5ee8_row8_col0\" class=\"data row8 col0\" >0.012044</td>\n",
       "                        <td id=\"T_a5ee8_row8_col1\" class=\"data row8 col1\" >0.001665</td>\n",
       "                        <td id=\"T_a5ee8_row8_col2\" class=\"data row8 col2\" >0.025651</td>\n",
       "                        <td id=\"T_a5ee8_row8_col3\" class=\"data row8 col3\" >0.085472</td>\n",
       "                        <td id=\"T_a5ee8_row8_col4\" class=\"data row8 col4\" >-0.032178</td>\n",
       "                        <td id=\"T_a5ee8_row8_col5\" class=\"data row8 col5\" >-0.010084</td>\n",
       "                        <td id=\"T_a5ee8_row8_col6\" class=\"data row8 col6\" >0.009612</td>\n",
       "                        <td id=\"T_a5ee8_row8_col7\" class=\"data row8 col7\" >-0.011866</td>\n",
       "                        <td id=\"T_a5ee8_row8_col8\" class=\"data row8 col8\" >1.000000</td>\n",
       "                        <td id=\"T_a5ee8_row8_col9\" class=\"data row8 col9\" >-0.011421</td>\n",
       "                        <td id=\"T_a5ee8_row8_col10\" class=\"data row8 col10\" >-0.156128</td>\n",
       "            </tr>\n",
       "            <tr>\n",
       "                        <th id=\"T_a5ee8_level0_row9\" class=\"row_heading level0 row9\" >EstimatedSalary</th>\n",
       "                        <td id=\"T_a5ee8_row9_col0\" class=\"data row9 col0\" >-0.005988</td>\n",
       "                        <td id=\"T_a5ee8_row9_col1\" class=\"data row9 col1\" >0.015271</td>\n",
       "                        <td id=\"T_a5ee8_row9_col2\" class=\"data row9 col2\" >-0.001384</td>\n",
       "                        <td id=\"T_a5ee8_row9_col3\" class=\"data row9 col3\" >-0.007201</td>\n",
       "                        <td id=\"T_a5ee8_row9_col4\" class=\"data row9 col4\" >0.010520</td>\n",
       "                        <td id=\"T_a5ee8_row9_col5\" class=\"data row9 col5\" >0.012797</td>\n",
       "                        <td id=\"T_a5ee8_row9_col6\" class=\"data row9 col6\" >0.014204</td>\n",
       "                        <td id=\"T_a5ee8_row9_col7\" class=\"data row9 col7\" >-0.009933</td>\n",
       "                        <td id=\"T_a5ee8_row9_col8\" class=\"data row9 col8\" >-0.011421</td>\n",
       "                        <td id=\"T_a5ee8_row9_col9\" class=\"data row9 col9\" >1.000000</td>\n",
       "                        <td id=\"T_a5ee8_row9_col10\" class=\"data row9 col10\" >0.012097</td>\n",
       "            </tr>\n",
       "            <tr>\n",
       "                        <th id=\"T_a5ee8_level0_row10\" class=\"row_heading level0 row10\" >Exited</th>\n",
       "                        <td id=\"T_a5ee8_row10_col0\" class=\"data row10 col0\" >-0.016571</td>\n",
       "                        <td id=\"T_a5ee8_row10_col1\" class=\"data row10 col1\" >-0.006248</td>\n",
       "                        <td id=\"T_a5ee8_row10_col2\" class=\"data row10 col2\" >-0.027094</td>\n",
       "                        <td id=\"T_a5ee8_row10_col3\" class=\"data row10 col3\" >0.285323</td>\n",
       "                        <td id=\"T_a5ee8_row10_col4\" class=\"data row10 col4\" >-0.016761</td>\n",
       "                        <td id=\"T_a5ee8_row10_col5\" class=\"data row10 col5\" >0.118533</td>\n",
       "                        <td id=\"T_a5ee8_row10_col6\" class=\"data row10 col6\" >-0.047820</td>\n",
       "                        <td id=\"T_a5ee8_row10_col7\" class=\"data row10 col7\" >-0.007138</td>\n",
       "                        <td id=\"T_a5ee8_row10_col8\" class=\"data row10 col8\" >-0.156128</td>\n",
       "                        <td id=\"T_a5ee8_row10_col9\" class=\"data row10 col9\" >0.012097</td>\n",
       "                        <td id=\"T_a5ee8_row10_col10\" class=\"data row10 col10\" >1.000000</td>\n",
       "            </tr>\n",
       "    </tbody></table>"
      ],
      "text/plain": [
       "<pandas.io.formats.style.Styler at 0x7f3f682bf7f0>"
      ]
     },
     "execution_count": 5,
     "metadata": {},
     "output_type": "execute_result"
    }
   ],
   "source": [
    "corr = data.corr()\n",
    "corr.style.background_gradient(cmap='coolwarm')"
   ]
  },
  {
   "cell_type": "markdown",
   "metadata": {},
   "source": [
    "> Как мы видим, особой корреляции у факторов не наблюдается,что дает нам понять независимость факторов друг от друга. Поэтому все столбцы мы оставим, как есть."
   ]
  },
  {
   "cell_type": "markdown",
   "metadata": {},
   "source": [
    "### Предобработка данных"
   ]
  },
  {
   "cell_type": "markdown",
   "metadata": {},
   "source": [
    "Приведем столбцы к привычному виду согласно правилам оформления"
   ]
  },
  {
   "cell_type": "code",
   "execution_count": 6,
   "metadata": {},
   "outputs": [],
   "source": [
    "data.columns = data.columns.str.lower()"
   ]
  },
  {
   "cell_type": "code",
   "execution_count": 7,
   "metadata": {},
   "outputs": [
    {
     "data": {
      "text/plain": [
       "Index(['rownumber', 'customerid', 'surname', 'creditscore', 'geography',\n",
       "       'gender', 'age', 'tenure', 'balance', 'numofproducts', 'hascrcard',\n",
       "       'isactivemember', 'estimatedsalary', 'exited'],\n",
       "      dtype='object')"
      ]
     },
     "execution_count": 7,
     "metadata": {},
     "output_type": "execute_result"
    }
   ],
   "source": [
    "data.columns"
   ]
  },
  {
   "cell_type": "code",
   "execution_count": 8,
   "metadata": {},
   "outputs": [],
   "source": [
    "data = data.rename(columns = {'rownumber':'row_number',\n",
    "                              'customerid':'customer_id',\n",
    "                              'creditscore':'credit_score',\n",
    "                              'numofproducts':'num_of_products',\n",
    "                              'hascrcard':'has_cr_card',\n",
    "                              'isactivemember':'is_active_member',\n",
    "                              'estimatedsalary': 'estimated_salary'})"
   ]
  },
  {
   "cell_type": "markdown",
   "metadata": {},
   "source": [
    "Так же удалим столбцы *'row_number'*, *'customer_id'* и *'surname'*, так как для модели они не несут обучающей роли. "
   ]
  },
  {
   "cell_type": "code",
   "execution_count": 9,
   "metadata": {},
   "outputs": [],
   "source": [
    "df = data.drop(['row_number', 'customer_id', 'surname'],axis = 1)"
   ]
  },
  {
   "cell_type": "markdown",
   "metadata": {},
   "source": [
    "Посмотрим так же пропуски в данных."
   ]
  },
  {
   "cell_type": "code",
   "execution_count": 10,
   "metadata": {},
   "outputs": [
    {
     "data": {
      "text/html": [
       "<div>\n",
       "<style scoped>\n",
       "    .dataframe tbody tr th:only-of-type {\n",
       "        vertical-align: middle;\n",
       "    }\n",
       "\n",
       "    .dataframe tbody tr th {\n",
       "        vertical-align: top;\n",
       "    }\n",
       "\n",
       "    .dataframe thead th {\n",
       "        text-align: right;\n",
       "    }\n",
       "</style>\n",
       "<table border=\"1\" class=\"dataframe\">\n",
       "  <thead>\n",
       "    <tr style=\"text-align: right;\">\n",
       "      <th></th>\n",
       "      <th>credit_score</th>\n",
       "      <th>geography</th>\n",
       "      <th>gender</th>\n",
       "      <th>age</th>\n",
       "      <th>tenure</th>\n",
       "      <th>balance</th>\n",
       "      <th>num_of_products</th>\n",
       "      <th>has_cr_card</th>\n",
       "      <th>is_active_member</th>\n",
       "      <th>estimated_salary</th>\n",
       "      <th>exited</th>\n",
       "    </tr>\n",
       "  </thead>\n",
       "  <tbody>\n",
       "    <tr>\n",
       "      <th>30</th>\n",
       "      <td>591</td>\n",
       "      <td>Spain</td>\n",
       "      <td>Female</td>\n",
       "      <td>39</td>\n",
       "      <td>NaN</td>\n",
       "      <td>0.00</td>\n",
       "      <td>3</td>\n",
       "      <td>1</td>\n",
       "      <td>0</td>\n",
       "      <td>140469.38</td>\n",
       "      <td>1</td>\n",
       "    </tr>\n",
       "    <tr>\n",
       "      <th>48</th>\n",
       "      <td>550</td>\n",
       "      <td>Germany</td>\n",
       "      <td>Male</td>\n",
       "      <td>38</td>\n",
       "      <td>NaN</td>\n",
       "      <td>103391.38</td>\n",
       "      <td>1</td>\n",
       "      <td>0</td>\n",
       "      <td>1</td>\n",
       "      <td>90878.13</td>\n",
       "      <td>0</td>\n",
       "    </tr>\n",
       "    <tr>\n",
       "      <th>51</th>\n",
       "      <td>585</td>\n",
       "      <td>Germany</td>\n",
       "      <td>Male</td>\n",
       "      <td>36</td>\n",
       "      <td>NaN</td>\n",
       "      <td>146050.97</td>\n",
       "      <td>2</td>\n",
       "      <td>0</td>\n",
       "      <td>0</td>\n",
       "      <td>86424.57</td>\n",
       "      <td>0</td>\n",
       "    </tr>\n",
       "    <tr>\n",
       "      <th>53</th>\n",
       "      <td>655</td>\n",
       "      <td>Germany</td>\n",
       "      <td>Male</td>\n",
       "      <td>41</td>\n",
       "      <td>NaN</td>\n",
       "      <td>125561.97</td>\n",
       "      <td>1</td>\n",
       "      <td>0</td>\n",
       "      <td>0</td>\n",
       "      <td>164040.94</td>\n",
       "      <td>1</td>\n",
       "    </tr>\n",
       "    <tr>\n",
       "      <th>60</th>\n",
       "      <td>742</td>\n",
       "      <td>Germany</td>\n",
       "      <td>Male</td>\n",
       "      <td>35</td>\n",
       "      <td>NaN</td>\n",
       "      <td>136857.00</td>\n",
       "      <td>1</td>\n",
       "      <td>0</td>\n",
       "      <td>0</td>\n",
       "      <td>84509.57</td>\n",
       "      <td>0</td>\n",
       "    </tr>\n",
       "    <tr>\n",
       "      <th>82</th>\n",
       "      <td>543</td>\n",
       "      <td>France</td>\n",
       "      <td>Female</td>\n",
       "      <td>36</td>\n",
       "      <td>NaN</td>\n",
       "      <td>0.00</td>\n",
       "      <td>2</td>\n",
       "      <td>0</td>\n",
       "      <td>0</td>\n",
       "      <td>26019.59</td>\n",
       "      <td>0</td>\n",
       "    </tr>\n",
       "    <tr>\n",
       "      <th>85</th>\n",
       "      <td>652</td>\n",
       "      <td>Spain</td>\n",
       "      <td>Female</td>\n",
       "      <td>75</td>\n",
       "      <td>NaN</td>\n",
       "      <td>0.00</td>\n",
       "      <td>2</td>\n",
       "      <td>1</td>\n",
       "      <td>1</td>\n",
       "      <td>114675.75</td>\n",
       "      <td>0</td>\n",
       "    </tr>\n",
       "    <tr>\n",
       "      <th>94</th>\n",
       "      <td>730</td>\n",
       "      <td>Spain</td>\n",
       "      <td>Male</td>\n",
       "      <td>42</td>\n",
       "      <td>NaN</td>\n",
       "      <td>0.00</td>\n",
       "      <td>2</td>\n",
       "      <td>0</td>\n",
       "      <td>1</td>\n",
       "      <td>85982.47</td>\n",
       "      <td>0</td>\n",
       "    </tr>\n",
       "    <tr>\n",
       "      <th>99</th>\n",
       "      <td>413</td>\n",
       "      <td>France</td>\n",
       "      <td>Male</td>\n",
       "      <td>34</td>\n",
       "      <td>NaN</td>\n",
       "      <td>0.00</td>\n",
       "      <td>2</td>\n",
       "      <td>0</td>\n",
       "      <td>0</td>\n",
       "      <td>6534.18</td>\n",
       "      <td>0</td>\n",
       "    </tr>\n",
       "    <tr>\n",
       "      <th>111</th>\n",
       "      <td>538</td>\n",
       "      <td>Germany</td>\n",
       "      <td>Male</td>\n",
       "      <td>39</td>\n",
       "      <td>NaN</td>\n",
       "      <td>108055.10</td>\n",
       "      <td>2</td>\n",
       "      <td>1</td>\n",
       "      <td>0</td>\n",
       "      <td>27231.26</td>\n",
       "      <td>0</td>\n",
       "    </tr>\n",
       "    <tr>\n",
       "      <th>123</th>\n",
       "      <td>684</td>\n",
       "      <td>Germany</td>\n",
       "      <td>Female</td>\n",
       "      <td>48</td>\n",
       "      <td>NaN</td>\n",
       "      <td>126384.42</td>\n",
       "      <td>1</td>\n",
       "      <td>1</td>\n",
       "      <td>1</td>\n",
       "      <td>198129.36</td>\n",
       "      <td>0</td>\n",
       "    </tr>\n",
       "    <tr>\n",
       "      <th>125</th>\n",
       "      <td>432</td>\n",
       "      <td>France</td>\n",
       "      <td>Male</td>\n",
       "      <td>42</td>\n",
       "      <td>NaN</td>\n",
       "      <td>152603.45</td>\n",
       "      <td>1</td>\n",
       "      <td>1</td>\n",
       "      <td>0</td>\n",
       "      <td>110265.24</td>\n",
       "      <td>1</td>\n",
       "    </tr>\n",
       "    <tr>\n",
       "      <th>146</th>\n",
       "      <td>635</td>\n",
       "      <td>Spain</td>\n",
       "      <td>Female</td>\n",
       "      <td>29</td>\n",
       "      <td>NaN</td>\n",
       "      <td>138296.94</td>\n",
       "      <td>2</td>\n",
       "      <td>1</td>\n",
       "      <td>0</td>\n",
       "      <td>141075.51</td>\n",
       "      <td>0</td>\n",
       "    </tr>\n",
       "    <tr>\n",
       "      <th>162</th>\n",
       "      <td>800</td>\n",
       "      <td>France</td>\n",
       "      <td>Female</td>\n",
       "      <td>49</td>\n",
       "      <td>NaN</td>\n",
       "      <td>108007.36</td>\n",
       "      <td>1</td>\n",
       "      <td>0</td>\n",
       "      <td>0</td>\n",
       "      <td>47125.11</td>\n",
       "      <td>0</td>\n",
       "    </tr>\n",
       "    <tr>\n",
       "      <th>173</th>\n",
       "      <td>578</td>\n",
       "      <td>France</td>\n",
       "      <td>Male</td>\n",
       "      <td>30</td>\n",
       "      <td>NaN</td>\n",
       "      <td>169462.09</td>\n",
       "      <td>1</td>\n",
       "      <td>1</td>\n",
       "      <td>0</td>\n",
       "      <td>112187.11</td>\n",
       "      <td>0</td>\n",
       "    </tr>\n",
       "    <tr>\n",
       "      <th>180</th>\n",
       "      <td>850</td>\n",
       "      <td>Spain</td>\n",
       "      <td>Female</td>\n",
       "      <td>45</td>\n",
       "      <td>NaN</td>\n",
       "      <td>122311.21</td>\n",
       "      <td>1</td>\n",
       "      <td>1</td>\n",
       "      <td>1</td>\n",
       "      <td>19482.50</td>\n",
       "      <td>0</td>\n",
       "    </tr>\n",
       "    <tr>\n",
       "      <th>217</th>\n",
       "      <td>730</td>\n",
       "      <td>Spain</td>\n",
       "      <td>Female</td>\n",
       "      <td>33</td>\n",
       "      <td>NaN</td>\n",
       "      <td>0.00</td>\n",
       "      <td>2</td>\n",
       "      <td>0</td>\n",
       "      <td>0</td>\n",
       "      <td>176576.62</td>\n",
       "      <td>0</td>\n",
       "    </tr>\n",
       "    <tr>\n",
       "      <th>222</th>\n",
       "      <td>567</td>\n",
       "      <td>France</td>\n",
       "      <td>Male</td>\n",
       "      <td>42</td>\n",
       "      <td>NaN</td>\n",
       "      <td>0.00</td>\n",
       "      <td>2</td>\n",
       "      <td>1</td>\n",
       "      <td>1</td>\n",
       "      <td>167984.61</td>\n",
       "      <td>0</td>\n",
       "    </tr>\n",
       "    <tr>\n",
       "      <th>225</th>\n",
       "      <td>670</td>\n",
       "      <td>France</td>\n",
       "      <td>Male</td>\n",
       "      <td>37</td>\n",
       "      <td>NaN</td>\n",
       "      <td>170557.91</td>\n",
       "      <td>2</td>\n",
       "      <td>1</td>\n",
       "      <td>0</td>\n",
       "      <td>198252.88</td>\n",
       "      <td>0</td>\n",
       "    </tr>\n",
       "    <tr>\n",
       "      <th>237</th>\n",
       "      <td>539</td>\n",
       "      <td>Germany</td>\n",
       "      <td>Female</td>\n",
       "      <td>43</td>\n",
       "      <td>NaN</td>\n",
       "      <td>116220.50</td>\n",
       "      <td>3</td>\n",
       "      <td>1</td>\n",
       "      <td>0</td>\n",
       "      <td>55803.96</td>\n",
       "      <td>1</td>\n",
       "    </tr>\n",
       "  </tbody>\n",
       "</table>\n",
       "</div>"
      ],
      "text/plain": [
       "     credit_score geography  gender  age  tenure    balance  num_of_products  \\\n",
       "30            591     Spain  Female   39     NaN       0.00                3   \n",
       "48            550   Germany    Male   38     NaN  103391.38                1   \n",
       "51            585   Germany    Male   36     NaN  146050.97                2   \n",
       "53            655   Germany    Male   41     NaN  125561.97                1   \n",
       "60            742   Germany    Male   35     NaN  136857.00                1   \n",
       "82            543    France  Female   36     NaN       0.00                2   \n",
       "85            652     Spain  Female   75     NaN       0.00                2   \n",
       "94            730     Spain    Male   42     NaN       0.00                2   \n",
       "99            413    France    Male   34     NaN       0.00                2   \n",
       "111           538   Germany    Male   39     NaN  108055.10                2   \n",
       "123           684   Germany  Female   48     NaN  126384.42                1   \n",
       "125           432    France    Male   42     NaN  152603.45                1   \n",
       "146           635     Spain  Female   29     NaN  138296.94                2   \n",
       "162           800    France  Female   49     NaN  108007.36                1   \n",
       "173           578    France    Male   30     NaN  169462.09                1   \n",
       "180           850     Spain  Female   45     NaN  122311.21                1   \n",
       "217           730     Spain  Female   33     NaN       0.00                2   \n",
       "222           567    France    Male   42     NaN       0.00                2   \n",
       "225           670    France    Male   37     NaN  170557.91                2   \n",
       "237           539   Germany  Female   43     NaN  116220.50                3   \n",
       "\n",
       "     has_cr_card  is_active_member  estimated_salary  exited  \n",
       "30             1                 0         140469.38       1  \n",
       "48             0                 1          90878.13       0  \n",
       "51             0                 0          86424.57       0  \n",
       "53             0                 0         164040.94       1  \n",
       "60             0                 0          84509.57       0  \n",
       "82             0                 0          26019.59       0  \n",
       "85             1                 1         114675.75       0  \n",
       "94             0                 1          85982.47       0  \n",
       "99             0                 0           6534.18       0  \n",
       "111            1                 0          27231.26       0  \n",
       "123            1                 1         198129.36       0  \n",
       "125            1                 0         110265.24       1  \n",
       "146            1                 0         141075.51       0  \n",
       "162            0                 0          47125.11       0  \n",
       "173            1                 0         112187.11       0  \n",
       "180            1                 1          19482.50       0  \n",
       "217            0                 0         176576.62       0  \n",
       "222            1                 1         167984.61       0  \n",
       "225            1                 0         198252.88       0  \n",
       "237            1                 0          55803.96       1  "
      ]
     },
     "execution_count": 10,
     "metadata": {},
     "output_type": "execute_result"
    }
   ],
   "source": [
    "df.loc[df['tenure'].isna() == True].head(20)"
   ]
  },
  {
   "cell_type": "code",
   "execution_count": 11,
   "metadata": {},
   "outputs": [
    {
     "data": {
      "text/plain": [
       "909"
      ]
     },
     "execution_count": 11,
     "metadata": {},
     "output_type": "execute_result"
    }
   ],
   "source": [
    "df.loc[df['tenure'].isna() == True]['exited'].count()"
   ]
  },
  {
   "cell_type": "markdown",
   "metadata": {},
   "source": [
    "Мы имеем 909 пропущенных значений. По своей сути они не привязаны к каким-то определенным данным из других столбцов. Я предлагаю заменить их случайным образом,так как если замена их одинаковыми значениями может ухудшить модель."
   ]
  },
  {
   "cell_type": "code",
   "execution_count": 12,
   "metadata": {},
   "outputs": [],
   "source": [
    "def rndm (tenure):\n",
    "    if tenure != float:\n",
    "        return random.randrange(1, 9, 1)\n",
    "    else:\n",
    "        return tenure\n",
    "df['tenure'] = df['tenure'].apply(rndm)\n"
   ]
  },
  {
   "cell_type": "code",
   "execution_count": 13,
   "metadata": {},
   "outputs": [
    {
     "data": {
      "text/plain": [
       "0"
      ]
     },
     "execution_count": 13,
     "metadata": {},
     "output_type": "execute_result"
    }
   ],
   "source": [
    "df.loc[df['tenure'].isna() == True]['age'].count()"
   ]
  },
  {
   "cell_type": "code",
   "execution_count": 14,
   "metadata": {},
   "outputs": [
    {
     "data": {
      "text/plain": [
       "1    1284\n",
       "2    1266\n",
       "5    1257\n",
       "3    1256\n",
       "4    1251\n",
       "7    1248\n",
       "8    1223\n",
       "6    1215\n",
       "Name: tenure, dtype: int64"
      ]
     },
     "execution_count": 14,
     "metadata": {},
     "output_type": "execute_result"
    }
   ],
   "source": [
    "df.tenure.value_counts()"
   ]
  },
  {
   "cell_type": "markdown",
   "metadata": {},
   "source": [
    "Приведем строковые столбцы так же к нижнему регистру\n"
   ]
  },
  {
   "cell_type": "code",
   "execution_count": 15,
   "metadata": {},
   "outputs": [],
   "source": [
    "df['geography'] = df['geography'].str.lower()\n",
    "df['gender'] = df['gender'].str.lower()"
   ]
  },
  {
   "cell_type": "code",
   "execution_count": 16,
   "metadata": {},
   "outputs": [
    {
     "data": {
      "text/html": [
       "<div>\n",
       "<style scoped>\n",
       "    .dataframe tbody tr th:only-of-type {\n",
       "        vertical-align: middle;\n",
       "    }\n",
       "\n",
       "    .dataframe tbody tr th {\n",
       "        vertical-align: top;\n",
       "    }\n",
       "\n",
       "    .dataframe thead th {\n",
       "        text-align: right;\n",
       "    }\n",
       "</style>\n",
       "<table border=\"1\" class=\"dataframe\">\n",
       "  <thead>\n",
       "    <tr style=\"text-align: right;\">\n",
       "      <th></th>\n",
       "      <th>credit_score</th>\n",
       "      <th>geography</th>\n",
       "      <th>gender</th>\n",
       "      <th>age</th>\n",
       "      <th>tenure</th>\n",
       "      <th>balance</th>\n",
       "      <th>num_of_products</th>\n",
       "      <th>has_cr_card</th>\n",
       "      <th>is_active_member</th>\n",
       "      <th>estimated_salary</th>\n",
       "      <th>exited</th>\n",
       "    </tr>\n",
       "  </thead>\n",
       "  <tbody>\n",
       "    <tr>\n",
       "      <th>0</th>\n",
       "      <td>619</td>\n",
       "      <td>france</td>\n",
       "      <td>female</td>\n",
       "      <td>42</td>\n",
       "      <td>7</td>\n",
       "      <td>0.00</td>\n",
       "      <td>1</td>\n",
       "      <td>1</td>\n",
       "      <td>1</td>\n",
       "      <td>101348.88</td>\n",
       "      <td>1</td>\n",
       "    </tr>\n",
       "    <tr>\n",
       "      <th>1</th>\n",
       "      <td>608</td>\n",
       "      <td>spain</td>\n",
       "      <td>female</td>\n",
       "      <td>41</td>\n",
       "      <td>3</td>\n",
       "      <td>83807.86</td>\n",
       "      <td>1</td>\n",
       "      <td>0</td>\n",
       "      <td>1</td>\n",
       "      <td>112542.58</td>\n",
       "      <td>0</td>\n",
       "    </tr>\n",
       "    <tr>\n",
       "      <th>2</th>\n",
       "      <td>502</td>\n",
       "      <td>france</td>\n",
       "      <td>female</td>\n",
       "      <td>42</td>\n",
       "      <td>7</td>\n",
       "      <td>159660.80</td>\n",
       "      <td>3</td>\n",
       "      <td>1</td>\n",
       "      <td>0</td>\n",
       "      <td>113931.57</td>\n",
       "      <td>1</td>\n",
       "    </tr>\n",
       "    <tr>\n",
       "      <th>3</th>\n",
       "      <td>699</td>\n",
       "      <td>france</td>\n",
       "      <td>female</td>\n",
       "      <td>39</td>\n",
       "      <td>8</td>\n",
       "      <td>0.00</td>\n",
       "      <td>2</td>\n",
       "      <td>0</td>\n",
       "      <td>0</td>\n",
       "      <td>93826.63</td>\n",
       "      <td>0</td>\n",
       "    </tr>\n",
       "    <tr>\n",
       "      <th>4</th>\n",
       "      <td>850</td>\n",
       "      <td>spain</td>\n",
       "      <td>female</td>\n",
       "      <td>43</td>\n",
       "      <td>7</td>\n",
       "      <td>125510.82</td>\n",
       "      <td>1</td>\n",
       "      <td>1</td>\n",
       "      <td>1</td>\n",
       "      <td>79084.10</td>\n",
       "      <td>0</td>\n",
       "    </tr>\n",
       "  </tbody>\n",
       "</table>\n",
       "</div>"
      ],
      "text/plain": [
       "   credit_score geography  gender  age  tenure    balance  num_of_products  \\\n",
       "0           619    france  female   42       7       0.00                1   \n",
       "1           608     spain  female   41       3   83807.86                1   \n",
       "2           502    france  female   42       7  159660.80                3   \n",
       "3           699    france  female   39       8       0.00                2   \n",
       "4           850     spain  female   43       7  125510.82                1   \n",
       "\n",
       "   has_cr_card  is_active_member  estimated_salary  exited  \n",
       "0            1                 1         101348.88       1  \n",
       "1            0                 1         112542.58       0  \n",
       "2            1                 0         113931.57       1  \n",
       "3            0                 0          93826.63       0  \n",
       "4            1                 1          79084.10       0  "
      ]
     },
     "execution_count": 16,
     "metadata": {},
     "output_type": "execute_result"
    }
   ],
   "source": [
    "df.head()"
   ]
  },
  {
   "cell_type": "markdown",
   "metadata": {},
   "source": [
    "### Прямое кодирование категориальных признаков"
   ]
  },
  {
   "cell_type": "markdown",
   "metadata": {},
   "source": [
    "Первым делом преобразуем категориальные признаки методом прямого кодирования или OHE (One-Hot Encoding)."
   ]
  },
  {
   "cell_type": "code",
   "execution_count": 17,
   "metadata": {},
   "outputs": [],
   "source": [
    "df_ohe = pd.get_dummies(df,drop_first = True)\n"
   ]
  },
  {
   "cell_type": "code",
   "execution_count": 18,
   "metadata": {},
   "outputs": [
    {
     "data": {
      "text/html": [
       "<div>\n",
       "<style scoped>\n",
       "    .dataframe tbody tr th:only-of-type {\n",
       "        vertical-align: middle;\n",
       "    }\n",
       "\n",
       "    .dataframe tbody tr th {\n",
       "        vertical-align: top;\n",
       "    }\n",
       "\n",
       "    .dataframe thead th {\n",
       "        text-align: right;\n",
       "    }\n",
       "</style>\n",
       "<table border=\"1\" class=\"dataframe\">\n",
       "  <thead>\n",
       "    <tr style=\"text-align: right;\">\n",
       "      <th></th>\n",
       "      <th>credit_score</th>\n",
       "      <th>age</th>\n",
       "      <th>tenure</th>\n",
       "      <th>balance</th>\n",
       "      <th>num_of_products</th>\n",
       "      <th>has_cr_card</th>\n",
       "      <th>is_active_member</th>\n",
       "      <th>estimated_salary</th>\n",
       "      <th>exited</th>\n",
       "      <th>geography_germany</th>\n",
       "      <th>geography_spain</th>\n",
       "      <th>gender_male</th>\n",
       "    </tr>\n",
       "  </thead>\n",
       "  <tbody>\n",
       "    <tr>\n",
       "      <th>0</th>\n",
       "      <td>619</td>\n",
       "      <td>42</td>\n",
       "      <td>7</td>\n",
       "      <td>0.00</td>\n",
       "      <td>1</td>\n",
       "      <td>1</td>\n",
       "      <td>1</td>\n",
       "      <td>101348.88</td>\n",
       "      <td>1</td>\n",
       "      <td>0</td>\n",
       "      <td>0</td>\n",
       "      <td>0</td>\n",
       "    </tr>\n",
       "    <tr>\n",
       "      <th>1</th>\n",
       "      <td>608</td>\n",
       "      <td>41</td>\n",
       "      <td>3</td>\n",
       "      <td>83807.86</td>\n",
       "      <td>1</td>\n",
       "      <td>0</td>\n",
       "      <td>1</td>\n",
       "      <td>112542.58</td>\n",
       "      <td>0</td>\n",
       "      <td>0</td>\n",
       "      <td>1</td>\n",
       "      <td>0</td>\n",
       "    </tr>\n",
       "    <tr>\n",
       "      <th>2</th>\n",
       "      <td>502</td>\n",
       "      <td>42</td>\n",
       "      <td>7</td>\n",
       "      <td>159660.80</td>\n",
       "      <td>3</td>\n",
       "      <td>1</td>\n",
       "      <td>0</td>\n",
       "      <td>113931.57</td>\n",
       "      <td>1</td>\n",
       "      <td>0</td>\n",
       "      <td>0</td>\n",
       "      <td>0</td>\n",
       "    </tr>\n",
       "    <tr>\n",
       "      <th>3</th>\n",
       "      <td>699</td>\n",
       "      <td>39</td>\n",
       "      <td>8</td>\n",
       "      <td>0.00</td>\n",
       "      <td>2</td>\n",
       "      <td>0</td>\n",
       "      <td>0</td>\n",
       "      <td>93826.63</td>\n",
       "      <td>0</td>\n",
       "      <td>0</td>\n",
       "      <td>0</td>\n",
       "      <td>0</td>\n",
       "    </tr>\n",
       "    <tr>\n",
       "      <th>4</th>\n",
       "      <td>850</td>\n",
       "      <td>43</td>\n",
       "      <td>7</td>\n",
       "      <td>125510.82</td>\n",
       "      <td>1</td>\n",
       "      <td>1</td>\n",
       "      <td>1</td>\n",
       "      <td>79084.10</td>\n",
       "      <td>0</td>\n",
       "      <td>0</td>\n",
       "      <td>1</td>\n",
       "      <td>0</td>\n",
       "    </tr>\n",
       "    <tr>\n",
       "      <th>5</th>\n",
       "      <td>645</td>\n",
       "      <td>44</td>\n",
       "      <td>3</td>\n",
       "      <td>113755.78</td>\n",
       "      <td>2</td>\n",
       "      <td>1</td>\n",
       "      <td>0</td>\n",
       "      <td>149756.71</td>\n",
       "      <td>1</td>\n",
       "      <td>0</td>\n",
       "      <td>1</td>\n",
       "      <td>1</td>\n",
       "    </tr>\n",
       "    <tr>\n",
       "      <th>6</th>\n",
       "      <td>822</td>\n",
       "      <td>50</td>\n",
       "      <td>5</td>\n",
       "      <td>0.00</td>\n",
       "      <td>2</td>\n",
       "      <td>1</td>\n",
       "      <td>1</td>\n",
       "      <td>10062.80</td>\n",
       "      <td>0</td>\n",
       "      <td>0</td>\n",
       "      <td>0</td>\n",
       "      <td>1</td>\n",
       "    </tr>\n",
       "    <tr>\n",
       "      <th>7</th>\n",
       "      <td>376</td>\n",
       "      <td>29</td>\n",
       "      <td>8</td>\n",
       "      <td>115046.74</td>\n",
       "      <td>4</td>\n",
       "      <td>1</td>\n",
       "      <td>0</td>\n",
       "      <td>119346.88</td>\n",
       "      <td>1</td>\n",
       "      <td>1</td>\n",
       "      <td>0</td>\n",
       "      <td>0</td>\n",
       "    </tr>\n",
       "    <tr>\n",
       "      <th>8</th>\n",
       "      <td>501</td>\n",
       "      <td>44</td>\n",
       "      <td>5</td>\n",
       "      <td>142051.07</td>\n",
       "      <td>2</td>\n",
       "      <td>0</td>\n",
       "      <td>1</td>\n",
       "      <td>74940.50</td>\n",
       "      <td>0</td>\n",
       "      <td>0</td>\n",
       "      <td>0</td>\n",
       "      <td>1</td>\n",
       "    </tr>\n",
       "    <tr>\n",
       "      <th>9</th>\n",
       "      <td>684</td>\n",
       "      <td>27</td>\n",
       "      <td>1</td>\n",
       "      <td>134603.88</td>\n",
       "      <td>1</td>\n",
       "      <td>1</td>\n",
       "      <td>1</td>\n",
       "      <td>71725.73</td>\n",
       "      <td>0</td>\n",
       "      <td>0</td>\n",
       "      <td>0</td>\n",
       "      <td>1</td>\n",
       "    </tr>\n",
       "  </tbody>\n",
       "</table>\n",
       "</div>"
      ],
      "text/plain": [
       "   credit_score  age  tenure    balance  num_of_products  has_cr_card  \\\n",
       "0           619   42       7       0.00                1            1   \n",
       "1           608   41       3   83807.86                1            0   \n",
       "2           502   42       7  159660.80                3            1   \n",
       "3           699   39       8       0.00                2            0   \n",
       "4           850   43       7  125510.82                1            1   \n",
       "5           645   44       3  113755.78                2            1   \n",
       "6           822   50       5       0.00                2            1   \n",
       "7           376   29       8  115046.74                4            1   \n",
       "8           501   44       5  142051.07                2            0   \n",
       "9           684   27       1  134603.88                1            1   \n",
       "\n",
       "   is_active_member  estimated_salary  exited  geography_germany  \\\n",
       "0                 1         101348.88       1                  0   \n",
       "1                 1         112542.58       0                  0   \n",
       "2                 0         113931.57       1                  0   \n",
       "3                 0          93826.63       0                  0   \n",
       "4                 1          79084.10       0                  0   \n",
       "5                 0         149756.71       1                  0   \n",
       "6                 1          10062.80       0                  0   \n",
       "7                 0         119346.88       1                  1   \n",
       "8                 1          74940.50       0                  0   \n",
       "9                 1          71725.73       0                  0   \n",
       "\n",
       "   geography_spain  gender_male  \n",
       "0                0            0  \n",
       "1                1            0  \n",
       "2                0            0  \n",
       "3                0            0  \n",
       "4                1            0  \n",
       "5                1            1  \n",
       "6                0            1  \n",
       "7                0            0  \n",
       "8                0            1  \n",
       "9                0            1  "
      ]
     },
     "execution_count": 18,
     "metadata": {},
     "output_type": "execute_result"
    }
   ],
   "source": [
    "df_ohe.head(10)"
   ]
  },
  {
   "cell_type": "markdown",
   "metadata": {},
   "source": [
    "Так же для ускорения вычислений изменим типы данных в столбцах на менее ресурсоемкие."
   ]
  },
  {
   "cell_type": "code",
   "execution_count": 19,
   "metadata": {},
   "outputs": [],
   "source": [
    "df_ohe[['credit_score','age','tenure',\n",
    "        'num_of_products','has_cr_card',\n",
    "        'is_active_member','exited']] =(\n",
    "df_ohe[['credit_score','age','tenure',\n",
    "       'num_of_products','has_cr_card',\n",
    "       'is_active_member','exited']].astype('int16')\n",
    ")\n",
    "\n",
    "df_ohe[['balance','estimated_salary']] = df_ohe[['balance','estimated_salary']].astype('int32')"
   ]
  },
  {
   "cell_type": "code",
   "execution_count": 20,
   "metadata": {},
   "outputs": [
    {
     "name": "stdout",
     "output_type": "stream",
     "text": [
      "<class 'pandas.core.frame.DataFrame'>\n",
      "RangeIndex: 10000 entries, 0 to 9999\n",
      "Data columns (total 12 columns):\n",
      " #   Column             Non-Null Count  Dtype\n",
      "---  ------             --------------  -----\n",
      " 0   credit_score       10000 non-null  int16\n",
      " 1   age                10000 non-null  int16\n",
      " 2   tenure             10000 non-null  int16\n",
      " 3   balance            10000 non-null  int32\n",
      " 4   num_of_products    10000 non-null  int16\n",
      " 5   has_cr_card        10000 non-null  int16\n",
      " 6   is_active_member   10000 non-null  int16\n",
      " 7   estimated_salary   10000 non-null  int32\n",
      " 8   exited             10000 non-null  int16\n",
      " 9   geography_germany  10000 non-null  uint8\n",
      " 10  geography_spain    10000 non-null  uint8\n",
      " 11  gender_male        10000 non-null  uint8\n",
      "dtypes: int16(7), int32(2), uint8(3)\n",
      "memory usage: 244.3 KB\n"
     ]
    }
   ],
   "source": [
    "df_ohe.info()"
   ]
  },
  {
   "cell_type": "code",
   "execution_count": 21,
   "metadata": {},
   "outputs": [
    {
     "data": {
      "text/html": [
       "<div>\n",
       "<style scoped>\n",
       "    .dataframe tbody tr th:only-of-type {\n",
       "        vertical-align: middle;\n",
       "    }\n",
       "\n",
       "    .dataframe tbody tr th {\n",
       "        vertical-align: top;\n",
       "    }\n",
       "\n",
       "    .dataframe thead th {\n",
       "        text-align: right;\n",
       "    }\n",
       "</style>\n",
       "<table border=\"1\" class=\"dataframe\">\n",
       "  <thead>\n",
       "    <tr style=\"text-align: right;\">\n",
       "      <th></th>\n",
       "      <th>credit_score</th>\n",
       "      <th>age</th>\n",
       "      <th>tenure</th>\n",
       "      <th>balance</th>\n",
       "      <th>num_of_products</th>\n",
       "      <th>has_cr_card</th>\n",
       "      <th>is_active_member</th>\n",
       "      <th>estimated_salary</th>\n",
       "      <th>exited</th>\n",
       "      <th>geography_germany</th>\n",
       "      <th>geography_spain</th>\n",
       "      <th>gender_male</th>\n",
       "    </tr>\n",
       "  </thead>\n",
       "  <tbody>\n",
       "    <tr>\n",
       "      <th>0</th>\n",
       "      <td>619</td>\n",
       "      <td>42</td>\n",
       "      <td>7</td>\n",
       "      <td>0</td>\n",
       "      <td>1</td>\n",
       "      <td>1</td>\n",
       "      <td>1</td>\n",
       "      <td>101348</td>\n",
       "      <td>1</td>\n",
       "      <td>0</td>\n",
       "      <td>0</td>\n",
       "      <td>0</td>\n",
       "    </tr>\n",
       "    <tr>\n",
       "      <th>1</th>\n",
       "      <td>608</td>\n",
       "      <td>41</td>\n",
       "      <td>3</td>\n",
       "      <td>83807</td>\n",
       "      <td>1</td>\n",
       "      <td>0</td>\n",
       "      <td>1</td>\n",
       "      <td>112542</td>\n",
       "      <td>0</td>\n",
       "      <td>0</td>\n",
       "      <td>1</td>\n",
       "      <td>0</td>\n",
       "    </tr>\n",
       "    <tr>\n",
       "      <th>2</th>\n",
       "      <td>502</td>\n",
       "      <td>42</td>\n",
       "      <td>7</td>\n",
       "      <td>159660</td>\n",
       "      <td>3</td>\n",
       "      <td>1</td>\n",
       "      <td>0</td>\n",
       "      <td>113931</td>\n",
       "      <td>1</td>\n",
       "      <td>0</td>\n",
       "      <td>0</td>\n",
       "      <td>0</td>\n",
       "    </tr>\n",
       "    <tr>\n",
       "      <th>3</th>\n",
       "      <td>699</td>\n",
       "      <td>39</td>\n",
       "      <td>8</td>\n",
       "      <td>0</td>\n",
       "      <td>2</td>\n",
       "      <td>0</td>\n",
       "      <td>0</td>\n",
       "      <td>93826</td>\n",
       "      <td>0</td>\n",
       "      <td>0</td>\n",
       "      <td>0</td>\n",
       "      <td>0</td>\n",
       "    </tr>\n",
       "    <tr>\n",
       "      <th>4</th>\n",
       "      <td>850</td>\n",
       "      <td>43</td>\n",
       "      <td>7</td>\n",
       "      <td>125510</td>\n",
       "      <td>1</td>\n",
       "      <td>1</td>\n",
       "      <td>1</td>\n",
       "      <td>79084</td>\n",
       "      <td>0</td>\n",
       "      <td>0</td>\n",
       "      <td>1</td>\n",
       "      <td>0</td>\n",
       "    </tr>\n",
       "  </tbody>\n",
       "</table>\n",
       "</div>"
      ],
      "text/plain": [
       "   credit_score  age  tenure  balance  num_of_products  has_cr_card  \\\n",
       "0           619   42       7        0                1            1   \n",
       "1           608   41       3    83807                1            0   \n",
       "2           502   42       7   159660                3            1   \n",
       "3           699   39       8        0                2            0   \n",
       "4           850   43       7   125510                1            1   \n",
       "\n",
       "   is_active_member  estimated_salary  exited  geography_germany  \\\n",
       "0                 1            101348       1                  0   \n",
       "1                 1            112542       0                  0   \n",
       "2                 0            113931       1                  0   \n",
       "3                 0             93826       0                  0   \n",
       "4                 1             79084       0                  0   \n",
       "\n",
       "   geography_spain  gender_male  \n",
       "0                0            0  \n",
       "1                1            0  \n",
       "2                0            0  \n",
       "3                0            0  \n",
       "4                1            0  "
      ]
     },
     "execution_count": 21,
     "metadata": {},
     "output_type": "execute_result"
    }
   ],
   "source": [
    "df_ohe.head()"
   ]
  },
  {
   "cell_type": "markdown",
   "metadata": {},
   "source": [
    "Категориальные признаки изменены, теперь приведем столбцы с численными значениями к отмасштабированному виду."
   ]
  },
  {
   "cell_type": "markdown",
   "metadata": {},
   "source": [
    "### Масштабирование признаков"
   ]
  },
  {
   "cell_type": "code",
   "execution_count": 22,
   "metadata": {},
   "outputs": [],
   "source": [
    "# Для начала разобьем данные на две выборки. Первое разбиение - на обучающую и валидационную в соотношении 60/40\n",
    "data_train,data_valid = train_test_split(\n",
    "    df_ohe,test_size = 0.60, random_state=12345)\n",
    "\n",
    "# Затем полученную валидационную разобьем в соотношении 60/40 для получения тестовой и валидационной\n",
    "data_test,data_valid = train_test_split(data_valid,test_size = 0.60, random_state=42)"
   ]
  },
  {
   "cell_type": "markdown",
   "metadata": {},
   "source": [
    "Теперь посмотрим на размер получившихся выборок."
   ]
  },
  {
   "cell_type": "code",
   "execution_count": 23,
   "metadata": {},
   "outputs": [
    {
     "name": "stdout",
     "output_type": "stream",
     "text": [
      "(4000, 12)\n",
      "(3600, 12)\n",
      "(2400, 12)\n"
     ]
    }
   ],
   "source": [
    "print(f\"{np.shape(data_train)}\\n{np.shape(data_valid)}\\n{np.shape(data_test)}\")"
   ]
  },
  {
   "cell_type": "markdown",
   "metadata": {},
   "source": [
    "Всё отлично, выборки разделились довольно равномерно.\n",
    "\n",
    "Суммарно как раз получилось 10 000 записей - как раз столько же, как и в изначальном наборе данных, значит, дублирований нет."
   ]
  },
  {
   "cell_type": "markdown",
   "metadata": {},
   "source": [
    "Так же определим обозначим целевые,валидационные признаки и признаки для обучения модели."
   ]
  },
  {
   "cell_type": "code",
   "execution_count": 24,
   "metadata": {},
   "outputs": [],
   "source": [
    "# Признаки для обучающей выборки\n",
    "features_train = data_train.drop(['exited'],axis =1)\n",
    "target_train = data_train['exited']\n",
    "\n",
    "# Признаки для валидационной выборки\n",
    "features_valid = data_valid.drop(['exited'],axis =1)\n",
    "target_valid = data_valid['exited']\n",
    "\n",
    "# Признаки для тестовой выборки\n",
    "features_test = data_test.drop(['exited'],axis =1)\n",
    "target_test = data_test['exited']"
   ]
  },
  {
   "cell_type": "code",
   "execution_count": 25,
   "metadata": {},
   "outputs": [],
   "source": [
    "numeric = ['credit_score','age','tenure','balance',\n",
    "           'num_of_products', 'has_cr_card','is_active_member',\n",
    "           'estimated_salary']\n",
    "\n",
    "scaler = StandardScaler()\n",
    "scaler.fit(features_train[numeric])\n",
    "\n",
    "# Отмасштабируем все свойства в трех выборках\n",
    "\n",
    "features_train[numeric] = scaler.transform(features_train[numeric])\n",
    "features_test[numeric] = scaler.transform(features_test[numeric])\n",
    "features_valid[numeric] = scaler.transform(features_valid[numeric])"
   ]
  },
  {
   "cell_type": "code",
   "execution_count": 26,
   "metadata": {},
   "outputs": [
    {
     "data": {
      "text/html": [
       "<div>\n",
       "<style scoped>\n",
       "    .dataframe tbody tr th:only-of-type {\n",
       "        vertical-align: middle;\n",
       "    }\n",
       "\n",
       "    .dataframe tbody tr th {\n",
       "        vertical-align: top;\n",
       "    }\n",
       "\n",
       "    .dataframe thead th {\n",
       "        text-align: right;\n",
       "    }\n",
       "</style>\n",
       "<table border=\"1\" class=\"dataframe\">\n",
       "  <thead>\n",
       "    <tr style=\"text-align: right;\">\n",
       "      <th></th>\n",
       "      <th>credit_score</th>\n",
       "      <th>age</th>\n",
       "      <th>tenure</th>\n",
       "      <th>balance</th>\n",
       "      <th>num_of_products</th>\n",
       "      <th>has_cr_card</th>\n",
       "      <th>is_active_member</th>\n",
       "      <th>estimated_salary</th>\n",
       "      <th>geography_germany</th>\n",
       "      <th>geography_spain</th>\n",
       "      <th>gender_male</th>\n",
       "    </tr>\n",
       "  </thead>\n",
       "  <tbody>\n",
       "    <tr>\n",
       "      <th>5201</th>\n",
       "      <td>-0.870811</td>\n",
       "      <td>-0.287002</td>\n",
       "      <td>-1.077454</td>\n",
       "      <td>-0.169726</td>\n",
       "      <td>-0.878050</td>\n",
       "      <td>0.635611</td>\n",
       "      <td>-1.056070</td>\n",
       "      <td>0.964798</td>\n",
       "      <td>0</td>\n",
       "      <td>0</td>\n",
       "      <td>1</td>\n",
       "    </tr>\n",
       "    <tr>\n",
       "      <th>5502</th>\n",
       "      <td>-0.400980</td>\n",
       "      <td>0.087644</td>\n",
       "      <td>1.535611</td>\n",
       "      <td>0.578229</td>\n",
       "      <td>-0.878050</td>\n",
       "      <td>0.635611</td>\n",
       "      <td>0.946907</td>\n",
       "      <td>-0.373299</td>\n",
       "      <td>0</td>\n",
       "      <td>1</td>\n",
       "      <td>0</td>\n",
       "    </tr>\n",
       "    <tr>\n",
       "      <th>1715</th>\n",
       "      <td>0.340309</td>\n",
       "      <td>0.368628</td>\n",
       "      <td>0.229079</td>\n",
       "      <td>0.501285</td>\n",
       "      <td>0.836054</td>\n",
       "      <td>-1.573289</td>\n",
       "      <td>0.946907</td>\n",
       "      <td>1.660614</td>\n",
       "      <td>1</td>\n",
       "      <td>0</td>\n",
       "      <td>1</td>\n",
       "    </tr>\n",
       "    <tr>\n",
       "      <th>1951</th>\n",
       "      <td>-0.505387</td>\n",
       "      <td>1.305242</td>\n",
       "      <td>1.535611</td>\n",
       "      <td>1.081140</td>\n",
       "      <td>-0.878050</td>\n",
       "      <td>0.635611</td>\n",
       "      <td>-1.056070</td>\n",
       "      <td>1.594392</td>\n",
       "      <td>0</td>\n",
       "      <td>0</td>\n",
       "      <td>1</td>\n",
       "    </tr>\n",
       "    <tr>\n",
       "      <th>6415</th>\n",
       "      <td>0.225462</td>\n",
       "      <td>0.274966</td>\n",
       "      <td>0.664590</td>\n",
       "      <td>-1.254400</td>\n",
       "      <td>0.836054</td>\n",
       "      <td>0.635611</td>\n",
       "      <td>-1.056070</td>\n",
       "      <td>-1.650753</td>\n",
       "      <td>0</td>\n",
       "      <td>0</td>\n",
       "      <td>0</td>\n",
       "    </tr>\n",
       "  </tbody>\n",
       "</table>\n",
       "</div>"
      ],
      "text/plain": [
       "      credit_score       age    tenure   balance  num_of_products  \\\n",
       "5201     -0.870811 -0.287002 -1.077454 -0.169726        -0.878050   \n",
       "5502     -0.400980  0.087644  1.535611  0.578229        -0.878050   \n",
       "1715      0.340309  0.368628  0.229079  0.501285         0.836054   \n",
       "1951     -0.505387  1.305242  1.535611  1.081140        -0.878050   \n",
       "6415      0.225462  0.274966  0.664590 -1.254400         0.836054   \n",
       "\n",
       "      has_cr_card  is_active_member  estimated_salary  geography_germany  \\\n",
       "5201     0.635611         -1.056070          0.964798                  0   \n",
       "5502     0.635611          0.946907         -0.373299                  0   \n",
       "1715    -1.573289          0.946907          1.660614                  1   \n",
       "1951     0.635611         -1.056070          1.594392                  0   \n",
       "6415     0.635611         -1.056070         -1.650753                  0   \n",
       "\n",
       "      geography_spain  gender_male  \n",
       "5201                0            1  \n",
       "5502                1            0  \n",
       "1715                0            1  \n",
       "1951                0            1  \n",
       "6415                0            0  "
      ]
     },
     "execution_count": 26,
     "metadata": {},
     "output_type": "execute_result"
    }
   ],
   "source": [
    "features_train.head()"
   ]
  },
  {
   "cell_type": "markdown",
   "metadata": {},
   "source": [
    "Численные признаки так же отмасштабированы, можно приступать к поиску наилучшей модели."
   ]
  },
  {
   "cell_type": "markdown",
   "metadata": {},
   "source": [
    "## Исследование задачи"
   ]
  },
  {
   "cell_type": "markdown",
   "metadata": {},
   "source": [
    "### Выбор лучшей модели"
   ]
  },
  {
   "cell_type": "markdown",
   "metadata": {},
   "source": [
    "#### Решающее дерево"
   ]
  },
  {
   "cell_type": "markdown",
   "metadata": {},
   "source": [
    "Подберем наилучшие параметры"
   ]
  },
  {
   "cell_type": "code",
   "execution_count": 41,
   "metadata": {},
   "outputs": [
    {
     "name": "stdout",
     "output_type": "stream",
     "text": [
      "{'criterion': 'gini', 'max_depth': 5, 'splitter': 'best'}\n",
      "CPU times: user 1.94 s, sys: 2.32 ms, total: 1.95 s\n",
      "Wall time: 1.94 s\n"
     ]
    }
   ],
   "source": [
    "%%time\n",
    "\n",
    "\n",
    "clf = DecisionTreeClassifier()\n",
    "parametrs = { 'criterion': ['gini','entropy'],\n",
    "              'max_depth': range (1,21, 2),\n",
    "              'splitter': ['best','random'] }\n",
    "grid = GridSearchCV(clf, parametrs, cv=5)\n",
    "grid.fit(features_train, target_train)\n",
    "print(grid.best_params_)"
   ]
  },
  {
   "cell_type": "markdown",
   "metadata": {},
   "source": [
    "И примени их к перво модели"
   ]
  },
  {
   "cell_type": "code",
   "execution_count": 42,
   "metadata": {},
   "outputs": [
    {
     "name": "stdout",
     "output_type": "stream",
     "text": [
      "F1 наилучшей модели на валидационной выборке: 0.544054747647562\n",
      "ROC-AUC лучшей модели на валидационной выборке: 0.8401761413050136\n",
      "Матрица ошибок решающего дерева:\n",
      "[[2749  146]\n",
      " [ 387  318]]\n"
     ]
    }
   ],
   "source": [
    "%%time\n",
    "\n",
    "model = DecisionTreeClassifier(criterion = 'gini',splitter='best', max_depth=5, random_state=12345)\n",
    "model.fit(features_train, target_train)\n",
    "predict_valid = model.predict(features_valid)\n",
    "result = f1_score(target_valid,predict_valid)\n",
    "probabilities_valid = model.predict_proba(features_valid)\n",
    "probabilities_one_valid = probabilities_valid[:, 1]\n",
    "auc_roc = roc_auc_score(target_valid,probabilities_one_valid)\n",
    "print(\"F1 наилучшей модели на валидационной выборке:\", result)\n",
    "print('ROC-AUC лучшей модели на валидационной выборке:',auc_roc)\n",
    "print('Матрица ошибок решающего дерева:')\n",
    "print(confusion_matrix(target_valid, predict_valid))"
   ]
  },
  {
   "cell_type": "code",
   "execution_count": 28,
   "metadata": {},
   "outputs": [
    {
     "name": "stdout",
     "output_type": "stream",
     "text": [
      "CPU times: user 3 µs, sys: 0 ns, total: 3 µs\n",
      "Wall time: 5.96 µs\n"
     ]
    }
   ],
   "source": [
    "#%%time\n",
    "\n",
    "#clf = RandomForestClassifier()\n",
    "#parametrs = { 'n_estimators': range (10, 121, 20),\n",
    "              #'max_depth': range (1,21, 2),\n",
    "             # 'min_samples_leaf': range (1,6),\n",
    "              #'min_samples_split': range (2,10,2) }\n",
    "#grid = GridSearchCV(clf, parametrs, cv=5)\n",
    "\n",
    "#grid.fit(features_train, target_train)\n",
    "\n",
    "\n",
    "#grid.best_params_"
   ]
  },
  {
   "cell_type": "markdown",
   "metadata": {},
   "source": [
    "#### Лес случайных деревьев"
   ]
  },
  {
   "cell_type": "code",
   "execution_count": 43,
   "metadata": {},
   "outputs": [
    {
     "name": "stdout",
     "output_type": "stream",
     "text": [
      "Наилучшая модель на валидационной выборке: RandomForestClassifier(max_depth=12, n_estimators=90, random_state=12345)\n",
      "F1 наилучшей модели на валидационной выборке: 0.562114537444934\n",
      "ROC-AUC лучшей модели на валидационной выборке: 0.8461700902754812\n",
      "Матрица ошибок леса случайных деревьев:\n",
      "[[2759  136]\n",
      " [ 383  322]]\n",
      "CPU times: user 34.2 s, sys: 90.6 ms, total: 34.3 s\n",
      "Wall time: 34.3 s\n"
     ]
    }
   ],
   "source": [
    "%%time\n",
    "\n",
    "best_model = None\n",
    "best_result = 0\n",
    "best_depth = 0\n",
    "best_estimator = 0\n",
    "best_auc_roc = 0\n",
    "\n",
    "for depth in range(1,16,1):\n",
    "    for estimator in range(10,110,10):\n",
    "        model = RandomForestClassifier(n_estimators = estimator, max_depth=depth, random_state=12345)\n",
    "        model.fit(features_train, target_train)\n",
    "        predict_valid = model.predict(features_valid)\n",
    "        result = f1_score(target_valid,predict_valid)\n",
    "        probabilities_valid = model.predict_proba(features_valid)\n",
    "        probabilities_one_valid = probabilities_valid[:, 1]\n",
    "        auc_roc = roc_auc_score(target_valid,probabilities_one_valid)\n",
    "        \n",
    "        if result > best_result:\n",
    "            best_model = model\n",
    "            best_result = result\n",
    "            best_estimator = estimator\n",
    "            best_depth = depth\n",
    "            best_auc_roc = auc_roc\n",
    "        \n",
    "\n",
    "print(\"Наилучшая модель на валидационной выборке:\",best_model)\n",
    "print(\"F1 наилучшей модели на валидационной выборке:\", best_result)\n",
    "print('ROC-AUC лучшей модели на валидационной выборке:',best_auc_roc)\n",
    "print('Матрица ошибок леса случайных деревьев:')\n",
    "print(confusion_matrix(target_valid, predict_valid))"
   ]
  },
  {
   "cell_type": "markdown",
   "metadata": {},
   "source": [
    "#### Логистическая регрессия"
   ]
  },
  {
   "cell_type": "code",
   "execution_count": 44,
   "metadata": {},
   "outputs": [
    {
     "name": "stdout",
     "output_type": "stream",
     "text": [
      "Наилучшая модель на валидационной выборке: LogisticRegression(random_state=12345, solver='liblinear')\n",
      "F1 наилучшей модели на валидационной выборке:: 0.5537403267411866\n",
      "ROC-AUC лучшей модели на валидационной выборке: 0.7445338624921912\n",
      "Матрица ошибок логистической регресии:\n",
      "[[2759  136]\n",
      " [ 383  322]]\n",
      "CPU times: user 687 ms, sys: 611 ms, total: 1.3 s\n",
      "Wall time: 1.28 s\n"
     ]
    }
   ],
   "source": [
    "%%time\n",
    "best_model = None\n",
    "best_result = 0\n",
    "best_solver = ''\n",
    "best_auc_roc = 0\n",
    "\n",
    "for ch_solver in ['liblinear','newton-cg','lbfgs','sag','saga']:\n",
    "    model = LogisticRegression(random_state=12345, solver=ch_solver)\n",
    "    model.fit(features_train, target_train)\n",
    "    predicted_valid = model.predict(features_valid)\n",
    "    result = f1_score(target_valid,predict_valid)\n",
    "    probabilities_valid = model.predict_proba(features_valid)\n",
    "    probabilities_one_valid = probabilities_valid[:, 1]\n",
    "    auc_roc = roc_auc_score(target_valid,probabilities_one_valid)\n",
    "        \n",
    "    if result > best_result:\n",
    "        best_model = model\n",
    "        best_result = result\n",
    "        best_solver = ch_solver\n",
    "        best_auc_roc = auc_roc\n",
    "\n",
    "print(\"Наилучшая модель на валидационной выборке:\",best_model)\n",
    "print(\"F1 наилучшей модели на валидационной выборке::\", best_result)\n",
    "print('ROC-AUC лучшей модели на валидационной выборке:',best_auc_roc)\n",
    "print('Матрица ошибок логистической регресии:')\n",
    "print(confusion_matrix(target_valid, predict_valid))\n"
   ]
  },
  {
   "cell_type": "code",
   "execution_count": 45,
   "metadata": {},
   "outputs": [
    {
     "data": {
      "text/plain": [
       "0    3156\n",
       "1     844\n",
       "Name: exited, dtype: int64"
      ]
     },
     "execution_count": 45,
     "metadata": {},
     "output_type": "execute_result"
    }
   ],
   "source": [
    "target_train.value_counts()"
   ]
  },
  {
   "cell_type": "code",
   "execution_count": 46,
   "metadata": {},
   "outputs": [
    {
     "data": {
      "text/plain": [
       "0    2895\n",
       "1     705\n",
       "Name: exited, dtype: int64"
      ]
     },
     "execution_count": 46,
     "metadata": {},
     "output_type": "execute_result"
    }
   ],
   "source": [
    "target_valid.value_counts()"
   ]
  },
  {
   "cell_type": "markdown",
   "metadata": {},
   "source": [
    "Как мы видим, классы несбалансированны"
   ]
  },
  {
   "cell_type": "markdown",
   "metadata": {},
   "source": [
    "### Выводы"
   ]
  },
  {
   "cell_type": "markdown",
   "metadata": {},
   "source": [
    "- Как мы видим, **F-1** мера получилась в районе ***0.54-0.56**;\n",
    "- Разброс у моделей небольшой;\n",
    "- Метрика **ROC-AUC** выше всего у модели леса случайных деревьев;\n",
    "- Такой высокий уровень погрешности моделей может возникать из-за дисбаланса классов, так как пользователей, которые пользуются услугами банка и банковскими продуктами практически в **4 раза больше,нежели ушедших**."
   ]
  },
  {
   "cell_type": "markdown",
   "metadata": {},
   "source": [
    "> Таким образом, используем метод *upsampling* для улучшения метрик и увеличения равновесия классов."
   ]
  },
  {
   "cell_type": "code",
   "execution_count": 47,
   "metadata": {},
   "outputs": [],
   "source": [
    "def upsample(features, target, repeat):\n",
    "    features_zeros = features[target == 0]\n",
    "    features_ones = features[target == 1]\n",
    "    target_zeros = target[target == 0]\n",
    "    target_ones = target[target == 1]\n",
    "\n",
    "    features_upsampled = pd.concat([features_zeros] + [features_ones] * repeat)\n",
    "    target_upsampled = pd.concat([target_zeros] + [target_ones] * repeat)\n",
    "    \n",
    "    features_upsampled, target_upsampled = shuffle(\n",
    "        features_upsampled, target_upsampled, random_state=12345)\n",
    "    \n",
    "    return features_upsampled, target_upsampled\n",
    "\n",
    "features_upsampled, target_upsampled = upsample(features_train, target_train, 4)"
   ]
  },
  {
   "cell_type": "markdown",
   "metadata": {},
   "source": [
    "## Борьба с дисбалансом"
   ]
  },
  {
   "cell_type": "markdown",
   "metadata": {},
   "source": [
    "Для борьбы с дисбалансом классов мы используем встроенный параметр **class_weight**."
   ]
  },
  {
   "cell_type": "markdown",
   "metadata": {},
   "source": [
    "### Решающее дерево"
   ]
  },
  {
   "cell_type": "code",
   "execution_count": 48,
   "metadata": {},
   "outputs": [
    {
     "name": "stdout",
     "output_type": "stream",
     "text": [
      "F1 наилучшей модели на валидационной выборке: 0.5498357064622126\n",
      "ROC-AUC лучшей модели на валидационной выборке: 0.816628572128517\n",
      "Матрица ошибок решающего дерева:\n",
      "[[2276  619]\n",
      " [ 203  502]]\n"
     ]
    }
   ],
   "source": [
    "model = DecisionTreeClassifier(criterion = 'gini',splitter='best', \n",
    "                               max_depth=5,class_weight = 'balanced',\n",
    "                               random_state=12345)\n",
    "\n",
    "model.fit(features_upsampled, target_upsampled)\n",
    "predict_valid = model.predict(features_valid)\n",
    "result = f1_score(target_valid,predict_valid)\n",
    "probabilities_valid = model.predict_proba(features_valid)\n",
    "probabilities_one_valid = probabilities_valid[:, 1]\n",
    "auc_roc = roc_auc_score(target_valid,probabilities_one_valid)\n",
    "\n",
    "print(\"F1 наилучшей модели на валидационной выборке:\", result)\n",
    "print('ROC-AUC лучшей модели на валидационной выборке:',auc_roc)\n",
    "print('Матрица ошибок решающего дерева:')\n",
    "print(confusion_matrix(target_valid, predict_valid))\n",
    "\n"
   ]
  },
  {
   "cell_type": "markdown",
   "metadata": {},
   "source": [
    "### Лес случайных деревьев"
   ]
  },
  {
   "cell_type": "code",
   "execution_count": 49,
   "metadata": {},
   "outputs": [
    {
     "name": "stdout",
     "output_type": "stream",
     "text": [
      "F1 наилучшей модели на валидационной выборке: 0.593006993006993\n",
      "ROC-AUC лучшей модели на валидационной выборке: 0.844883695292691\n",
      "Матрица ошибок леса случайных деревьев:\n",
      "[[2594  301]\n",
      " [ 281  424]]\n"
     ]
    }
   ],
   "source": [
    "model = RandomForestClassifier(n_estimators = 90, max_depth=12,\n",
    "                               class_weight ='balanced', random_state=12345)\n",
    "\n",
    "\n",
    "model.fit(features_upsampled, target_upsampled)\n",
    "predict_valid = model.predict(features_valid)\n",
    "result = f1_score(target_valid,predict_valid)\n",
    "probabilities_valid = model.predict_proba(features_valid)\n",
    "probabilities_one_valid = probabilities_valid[:, 1]\n",
    "auc_roc = roc_auc_score(target_valid,probabilities_one_valid)\n",
    "\n",
    "\n",
    "print(\"F1 наилучшей модели на валидационной выборке:\", result)\n",
    "print('ROC-AUC лучшей модели на валидационной выборке:',auc_roc)\n",
    "print('Матрица ошибок леса случайных деревьев:')\n",
    "print(confusion_matrix(target_valid, predict_valid))"
   ]
  },
  {
   "cell_type": "markdown",
   "metadata": {},
   "source": [
    "### Логистическая регрессия"
   ]
  },
  {
   "cell_type": "code",
   "execution_count": 50,
   "metadata": {},
   "outputs": [
    {
     "name": "stdout",
     "output_type": "stream",
     "text": [
      "F1 наилучшей модели на валидационной выборке:: 0.593006993006993\n",
      "ROC-AUC лучшей модели на валидационной выборке: 0.7490655201558079\n",
      "Матрица ошибок логистической регресии:\n",
      "[[2594  301]\n",
      " [ 281  424]]\n"
     ]
    }
   ],
   "source": [
    "model =LogisticRegression(random_state=12345, solver='liblinear', class_weight ='balanced')\n",
    "model.fit(features_upsampled, target_upsampled)\n",
    "predicted_valid = model.predict(features_valid)\n",
    "result = f1_score(target_valid,predict_valid)\n",
    "probabilities_valid = model.predict_proba(features_valid)\n",
    "probabilities_one_valid = probabilities_valid[:, 1]\n",
    "auc_roc = roc_auc_score(target_valid,probabilities_one_valid)\n",
    "\n",
    "\n",
    "print(\"F1 наилучшей модели на валидационной выборке::\", result)\n",
    "print('ROC-AUC лучшей модели на валидационной выборке:',auc_roc)\n",
    "print('Матрица ошибок логистической регресии:')\n",
    "print(confusion_matrix(target_valid, predict_valid))\n"
   ]
  },
  {
   "cell_type": "markdown",
   "metadata": {},
   "source": [
    "### Выводы"
   ]
  },
  {
   "cell_type": "markdown",
   "metadata": {},
   "source": [
    "- Таким образом, лучшей моделью для нашего исследования будет **лес случайных деревьев**;\n",
    "- **F-1 score**  данной модели равна **0.59** на валидационной выборке;\n",
    "- **ROC-AUC** равна **0.84** на валидационной выборке;"
   ]
  },
  {
   "cell_type": "markdown",
   "metadata": {},
   "source": [
    "## Тестирование модели"
   ]
  },
  {
   "cell_type": "markdown",
   "metadata": {},
   "source": [
    "Проверим нашу модель на тестовой выборке."
   ]
  },
  {
   "cell_type": "code",
   "execution_count": 51,
   "metadata": {},
   "outputs": [
    {
     "name": "stdout",
     "output_type": "stream",
     "text": [
      "F1  модели на тестовой выборке: 0.6447761194029851\n",
      "ROC-AUC на тестовой выборке: 0.8610351361547433\n"
     ]
    }
   ],
   "source": [
    "model = RandomForestClassifier(n_estimators = 90, max_depth=12,\n",
    "                               class_weight ='balanced', random_state=12345)\n",
    "\n",
    "\n",
    "model.fit(features_upsampled, target_upsampled)\n",
    "predict_test = model.predict(features_test)\n",
    "result = f1_score(target_test,predict_test)\n",
    "probabilities_test = model.predict_proba(features_test)\n",
    "probabilities_one_test = probabilities_test[:, 1]\n",
    "auc_roc = roc_auc_score(target_test,probabilities_one_test)\n",
    "\n",
    "\n",
    "print(\"F1  модели на тестовой выборке:\", result)\n",
    "print('ROC-AUC на тестовой выборке:',auc_roc)"
   ]
  },
  {
   "cell_type": "markdown",
   "metadata": {},
   "source": [
    "Так же построим ROC кривую"
   ]
  },
  {
   "cell_type": "code",
   "execution_count": 52,
   "metadata": {},
   "outputs": [
    {
     "data": {
      "image/png": "[encoded data removed]",
      "text/plain": [
       "<Figure size 432x288 with 1 Axes>"
      ]
     },
     "metadata": {
      "needs_background": "light"
     },
     "output_type": "display_data"
    }
   ],
   "source": [
    "fpr, tpr, thresholds = roc_curve(target_test, probabilities_one_test)\n",
    "\n",
    "plt.figure()\n",
    "plt.plot(fpr,tpr,linestyle='--')\n",
    "plt.plot([0, 1], [0, 1], linestyle='--')\n",
    "plt.xlim([0.0, 1.0])\n",
    "plt.ylim([0.0, 1.0])\n",
    "plt.xlabel('False Positive Rate')\n",
    "plt.ylabel('True Positive Rate')\n",
    "plt.title('ROC-кривая')\n",
    "plt.show()"
   ]
  },
  {
   "cell_type": "markdown",
   "metadata": {},
   "source": [
    "### Выводы"
   ]
  },
  {
   "cell_type": "markdown",
   "metadata": {},
   "source": [
    "- Мы выявили лучшую модель для анализа полученных данных и предсказания по ним - ей является лес случайных деревьев;\n",
    "- F1 полученной модели на тестовой выборке: **0.64**;\n",
    "- ROC-AUC на тестовой выборке: **0.86**;\n",
    "- Построена ROC-кривая, показывающая, что площадь под графиком сильно отличается от случайной предсказательной модели;\n",
    "- Так же выбранная модель показывает высокую предсказательную способность."
   ]
  }
 ],
 "metadata": {
  "ExecuteTimeLog": [
   {
    "duration": 191,
    "start_time": "2022-03-25T13:01:00.798Z"
   },
   {
    "duration": 1555,
    "start_time": "2022-03-25T13:05:16.577Z"
   },
   {
    "duration": 60,
    "start_time": "2022-03-25T13:05:56.156Z"
   },
   {
    "duration": 21,
    "start_time": "2022-03-25T13:06:51.056Z"
   },
   {
    "duration": 205,
    "start_time": "2022-03-25T13:08:47.759Z"
   },
   {
    "duration": 162,
    "start_time": "2022-03-25T13:10:29.935Z"
   },
   {
    "duration": 14,
    "start_time": "2022-03-25T13:12:40.058Z"
   },
   {
    "duration": 183,
    "start_time": "2022-03-25T13:14:34.419Z"
   },
   {
    "duration": 17833,
    "start_time": "2022-03-25T13:14:39.245Z"
   },
   {
    "duration": 1610,
    "start_time": "2022-03-25T13:15:14.028Z"
   },
   {
    "duration": 2260,
    "start_time": "2022-03-25T13:15:32.219Z"
   },
   {
    "duration": 1551,
    "start_time": "2022-03-25T13:15:46.318Z"
   },
   {
    "duration": 63956,
    "start_time": "2022-03-25T15:34:18.579Z"
   },
   {
    "duration": 22833,
    "start_time": "2022-03-25T15:35:32.079Z"
   },
   {
    "duration": 0,
    "start_time": "2022-03-25T15:38:04.215Z"
   },
   {
    "duration": 7,
    "start_time": "2022-03-25T15:38:10.995Z"
   },
   {
    "duration": 42,
    "start_time": "2022-03-25T15:38:15.617Z"
   },
   {
    "duration": 14,
    "start_time": "2022-03-25T15:38:17.732Z"
   },
   {
    "duration": 10,
    "start_time": "2022-03-25T15:38:20.504Z"
   },
   {
    "duration": 16659,
    "start_time": "2022-03-25T15:39:02.355Z"
   },
   {
    "duration": 133,
    "start_time": "2022-03-25T15:39:42.117Z"
   },
   {
    "duration": 0,
    "start_time": "2022-03-25T16:01:09.279Z"
   },
   {
    "duration": 48,
    "start_time": "2022-03-25T16:01:13.114Z"
   },
   {
    "duration": 11,
    "start_time": "2022-03-25T16:01:16.129Z"
   },
   {
    "duration": 10,
    "start_time": "2022-03-25T16:02:05.434Z"
   },
   {
    "duration": 65421,
    "start_time": "2022-03-25T16:02:25.543Z"
   },
   {
    "duration": 12,
    "start_time": "2022-03-25T16:16:41.672Z"
   },
   {
    "duration": 99400,
    "start_time": "2022-03-25T16:20:10.449Z"
   },
   {
    "duration": 11,
    "start_time": "2022-03-25T16:29:59.004Z"
   },
   {
    "duration": 777,
    "start_time": "2022-03-25T16:30:05.082Z"
   },
   {
    "duration": 32,
    "start_time": "2022-03-25T16:30:13.741Z"
   },
   {
    "duration": 15,
    "start_time": "2022-03-25T16:30:15.663Z"
   },
   {
    "duration": 71,
    "start_time": "2022-03-25T16:30:33.601Z"
   },
   {
    "duration": 15,
    "start_time": "2022-03-25T16:30:48.112Z"
   },
   {
    "duration": 32,
    "start_time": "2022-03-25T16:31:32.423Z"
   },
   {
    "duration": 66,
    "start_time": "2022-03-25T16:33:08.475Z"
   },
   {
    "duration": 614,
    "start_time": "2022-03-25T16:33:32.692Z"
   },
   {
    "duration": 157,
    "start_time": "2022-03-25T16:37:50.745Z"
   },
   {
    "duration": 67,
    "start_time": "2022-03-25T16:38:15.272Z"
   },
   {
    "duration": 4,
    "start_time": "2022-03-25T16:38:55.090Z"
   },
   {
    "duration": 5,
    "start_time": "2022-03-25T16:39:11.892Z"
   },
   {
    "duration": 4,
    "start_time": "2022-03-25T16:43:22.913Z"
   },
   {
    "duration": 5,
    "start_time": "2022-03-25T16:46:33.784Z"
   },
   {
    "duration": 5,
    "start_time": "2022-03-25T16:46:42.824Z"
   },
   {
    "duration": 22,
    "start_time": "2022-03-25T16:47:31.482Z"
   },
   {
    "duration": 7,
    "start_time": "2022-03-25T16:52:53.222Z"
   },
   {
    "duration": 140,
    "start_time": "2022-03-25T16:55:24.052Z"
   },
   {
    "duration": 22,
    "start_time": "2022-03-25T16:57:00.908Z"
   },
   {
    "duration": 2368,
    "start_time": "2022-03-25T16:57:14.428Z"
   },
   {
    "duration": 137,
    "start_time": "2022-03-25T16:58:13.379Z"
   },
   {
    "duration": 14,
    "start_time": "2022-03-25T17:00:26.708Z"
   },
   {
    "duration": 22,
    "start_time": "2022-03-25T17:04:44.428Z"
   },
   {
    "duration": 23,
    "start_time": "2022-03-25T17:07:25.832Z"
   },
   {
    "duration": 11,
    "start_time": "2022-03-25T17:10:41.453Z"
   },
   {
    "duration": 13,
    "start_time": "2022-03-25T17:10:55.275Z"
   },
   {
    "duration": 9,
    "start_time": "2022-03-25T17:11:05.272Z"
   },
   {
    "duration": 7,
    "start_time": "2022-03-25T17:11:17.773Z"
   },
   {
    "duration": 7,
    "start_time": "2022-03-25T17:11:33.216Z"
   },
   {
    "duration": 579,
    "start_time": "2022-03-25T17:17:15.413Z"
   },
   {
    "duration": 668,
    "start_time": "2022-03-25T17:17:31.501Z"
   },
   {
    "duration": 578,
    "start_time": "2022-03-25T17:17:41.077Z"
   },
   {
    "duration": 592,
    "start_time": "2022-03-25T17:17:49.272Z"
   },
   {
    "duration": 659,
    "start_time": "2022-03-25T17:19:17.090Z"
   },
   {
    "duration": 615,
    "start_time": "2022-03-25T17:19:25.651Z"
   },
   {
    "duration": 3160,
    "start_time": "2022-03-25T17:20:06.631Z"
   },
   {
    "duration": 826,
    "start_time": "2022-03-25T17:20:28.393Z"
   },
   {
    "duration": 652,
    "start_time": "2022-03-25T17:20:48.211Z"
   },
   {
    "duration": 7,
    "start_time": "2022-03-25T17:21:06.450Z"
   },
   {
    "duration": 6,
    "start_time": "2022-03-25T17:21:21.892Z"
   },
   {
    "duration": 7,
    "start_time": "2022-03-25T17:21:38.190Z"
   },
   {
    "duration": 8,
    "start_time": "2022-03-25T17:21:41.675Z"
   },
   {
    "duration": 4,
    "start_time": "2022-03-25T17:23:29.892Z"
   },
   {
    "duration": 7,
    "start_time": "2022-03-25T17:23:35.950Z"
   },
   {
    "duration": 7,
    "start_time": "2022-03-25T17:23:38.409Z"
   },
   {
    "duration": 215,
    "start_time": "2022-03-25T17:25:08.230Z"
   },
   {
    "duration": 7,
    "start_time": "2022-03-25T17:25:21.510Z"
   },
   {
    "duration": 6,
    "start_time": "2022-03-25T17:25:24.448Z"
   },
   {
    "duration": 7,
    "start_time": "2022-03-25T17:26:13.569Z"
   },
   {
    "duration": 6,
    "start_time": "2022-03-25T17:26:15.812Z"
   },
   {
    "duration": 9,
    "start_time": "2022-03-25T17:28:00.752Z"
   },
   {
    "duration": 6,
    "start_time": "2022-03-25T17:28:02.779Z"
   },
   {
    "duration": 565,
    "start_time": "2022-03-25T17:28:31.173Z"
   },
   {
    "duration": 569,
    "start_time": "2022-03-25T17:28:46.172Z"
   },
   {
    "duration": 569,
    "start_time": "2022-03-25T17:28:53.449Z"
   },
   {
    "duration": 8,
    "start_time": "2022-03-25T17:40:35.927Z"
   },
   {
    "duration": 7,
    "start_time": "2022-03-25T17:41:36.385Z"
   },
   {
    "duration": 12,
    "start_time": "2022-03-25T17:41:39.386Z"
   },
   {
    "duration": 9,
    "start_time": "2022-03-25T17:41:56.687Z"
   },
   {
    "duration": 8,
    "start_time": "2022-03-25T17:42:21.609Z"
   },
   {
    "duration": 8,
    "start_time": "2022-03-25T17:42:25.640Z"
   },
   {
    "duration": 7,
    "start_time": "2022-03-25T17:42:48.626Z"
   },
   {
    "duration": 1240,
    "start_time": "2022-03-25T17:43:06.739Z"
   },
   {
    "duration": 32,
    "start_time": "2022-03-25T17:43:07.982Z"
   },
   {
    "duration": 65,
    "start_time": "2022-03-25T17:43:08.016Z"
   },
   {
    "duration": 3,
    "start_time": "2022-03-25T17:43:08.083Z"
   },
   {
    "duration": 35,
    "start_time": "2022-03-25T17:43:08.088Z"
   },
   {
    "duration": 426,
    "start_time": "2022-03-25T17:43:08.124Z"
   },
   {
    "duration": 4,
    "start_time": "2022-03-25T17:43:08.553Z"
   },
   {
    "duration": 24,
    "start_time": "2022-03-25T17:43:08.559Z"
   },
   {
    "duration": 14,
    "start_time": "2022-03-25T17:43:08.585Z"
   },
   {
    "duration": 35,
    "start_time": "2022-03-25T17:43:08.602Z"
   },
   {
    "duration": 16,
    "start_time": "2022-03-25T17:43:08.639Z"
   },
   {
    "duration": 809,
    "start_time": "2022-03-25T17:43:08.658Z"
   },
   {
    "duration": 0,
    "start_time": "2022-03-25T17:43:09.468Z"
   },
   {
    "duration": 0,
    "start_time": "2022-03-25T17:43:09.471Z"
   },
   {
    "duration": 0,
    "start_time": "2022-03-25T17:43:09.471Z"
   },
   {
    "duration": 621,
    "start_time": "2022-03-25T17:44:57.395Z"
   },
   {
    "duration": 553,
    "start_time": "2022-03-25T17:45:15.992Z"
   },
   {
    "duration": 719,
    "start_time": "2022-03-25T17:45:27.932Z"
   },
   {
    "duration": 597,
    "start_time": "2022-03-25T17:46:06.512Z"
   },
   {
    "duration": 584,
    "start_time": "2022-03-25T17:48:10.013Z"
   },
   {
    "duration": 534,
    "start_time": "2022-03-25T17:48:25.459Z"
   },
   {
    "duration": 610,
    "start_time": "2022-03-25T17:51:45.375Z"
   },
   {
    "duration": 570,
    "start_time": "2022-03-25T17:52:05.233Z"
   },
   {
    "duration": 671,
    "start_time": "2022-03-25T17:53:31.776Z"
   },
   {
    "duration": 21,
    "start_time": "2022-03-25T17:54:23.697Z"
   },
   {
    "duration": 18,
    "start_time": "2022-03-25T17:54:33.826Z"
   },
   {
    "duration": 24938,
    "start_time": "2022-03-25T17:54:43.519Z"
   },
   {
    "duration": 9,
    "start_time": "2022-03-25T17:55:11.853Z"
   },
   {
    "duration": 606,
    "start_time": "2022-03-25T17:55:28.737Z"
   },
   {
    "duration": 1255,
    "start_time": "2022-03-25T17:55:43.076Z"
   },
   {
    "duration": 42,
    "start_time": "2022-03-25T17:55:44.334Z"
   },
   {
    "duration": 64,
    "start_time": "2022-03-25T17:55:44.378Z"
   },
   {
    "duration": 3,
    "start_time": "2022-03-25T17:55:44.444Z"
   },
   {
    "duration": 17,
    "start_time": "2022-03-25T17:55:44.449Z"
   },
   {
    "duration": 396,
    "start_time": "2022-03-25T17:55:44.468Z"
   },
   {
    "duration": 3,
    "start_time": "2022-03-25T17:55:44.867Z"
   },
   {
    "duration": 9,
    "start_time": "2022-03-25T17:55:44.871Z"
   },
   {
    "duration": 8,
    "start_time": "2022-03-25T17:55:44.882Z"
   },
   {
    "duration": 22,
    "start_time": "2022-03-25T17:55:44.892Z"
   },
   {
    "duration": 21,
    "start_time": "2022-03-25T17:55:44.915Z"
   },
   {
    "duration": 675,
    "start_time": "2022-03-25T17:55:44.938Z"
   },
   {
    "duration": 0,
    "start_time": "2022-03-25T17:55:45.614Z"
   },
   {
    "duration": 0,
    "start_time": "2022-03-25T17:55:45.615Z"
   },
   {
    "duration": 0,
    "start_time": "2022-03-25T17:55:45.616Z"
   },
   {
    "duration": 599,
    "start_time": "2022-03-25T18:24:12.734Z"
   },
   {
    "duration": 528,
    "start_time": "2022-03-25T18:47:45.580Z"
   },
   {
    "duration": 4,
    "start_time": "2022-03-25T18:48:24.701Z"
   },
   {
    "duration": 554,
    "start_time": "2022-03-25T18:48:27.314Z"
   },
   {
    "duration": 633,
    "start_time": "2022-03-25T18:48:51.459Z"
   },
   {
    "duration": 527,
    "start_time": "2022-03-25T18:49:22.687Z"
   },
   {
    "duration": 556,
    "start_time": "2022-03-25T18:50:13.899Z"
   },
   {
    "duration": 47,
    "start_time": "2022-03-26T16:32:26.788Z"
   },
   {
    "duration": 1116,
    "start_time": "2022-03-26T16:32:35.037Z"
   },
   {
    "duration": 24,
    "start_time": "2022-03-26T16:32:36.155Z"
   },
   {
    "duration": 53,
    "start_time": "2022-03-26T16:32:36.180Z"
   },
   {
    "duration": 2,
    "start_time": "2022-03-26T16:32:36.238Z"
   },
   {
    "duration": 19,
    "start_time": "2022-03-26T16:32:36.243Z"
   },
   {
    "duration": 450,
    "start_time": "2022-03-26T16:32:36.264Z"
   },
   {
    "duration": 4,
    "start_time": "2022-03-26T16:32:36.715Z"
   },
   {
    "duration": 18,
    "start_time": "2022-03-26T16:32:36.720Z"
   },
   {
    "duration": 4,
    "start_time": "2022-03-26T16:32:36.740Z"
   },
   {
    "duration": 22,
    "start_time": "2022-03-26T16:32:36.745Z"
   },
   {
    "duration": 6,
    "start_time": "2022-03-26T16:32:36.769Z"
   },
   {
    "duration": 4,
    "start_time": "2022-03-26T16:32:36.776Z"
   },
   {
    "duration": 481,
    "start_time": "2022-03-26T16:32:36.782Z"
   },
   {
    "duration": 0,
    "start_time": "2022-03-26T16:32:37.265Z"
   },
   {
    "duration": 0,
    "start_time": "2022-03-26T16:32:37.267Z"
   },
   {
    "duration": 0,
    "start_time": "2022-03-26T16:32:37.268Z"
   },
   {
    "duration": 364,
    "start_time": "2022-03-26T16:33:18.416Z"
   },
   {
    "duration": 326,
    "start_time": "2022-03-26T16:34:21.954Z"
   },
   {
    "duration": 5,
    "start_time": "2022-03-26T16:48:03.330Z"
   },
   {
    "duration": 18,
    "start_time": "2022-03-26T16:48:17.932Z"
   },
   {
    "duration": 22,
    "start_time": "2022-03-26T16:50:03.336Z"
   },
   {
    "duration": 4,
    "start_time": "2022-03-26T16:50:22.310Z"
   },
   {
    "duration": 340,
    "start_time": "2022-03-26T16:52:35.910Z"
   },
   {
    "duration": 326,
    "start_time": "2022-03-26T16:52:58.450Z"
   },
   {
    "duration": 7,
    "start_time": "2022-03-26T16:53:36.834Z"
   },
   {
    "duration": 1102,
    "start_time": "2022-03-26T16:54:12.668Z"
   },
   {
    "duration": 32,
    "start_time": "2022-03-26T16:54:13.772Z"
   },
   {
    "duration": 60,
    "start_time": "2022-03-26T16:54:13.806Z"
   },
   {
    "duration": 17,
    "start_time": "2022-03-26T16:54:13.868Z"
   },
   {
    "duration": 352,
    "start_time": "2022-03-26T16:54:13.886Z"
   },
   {
    "duration": 4,
    "start_time": "2022-03-26T16:54:14.240Z"
   },
   {
    "duration": 8,
    "start_time": "2022-03-26T16:54:14.245Z"
   },
   {
    "duration": 6,
    "start_time": "2022-03-26T16:54:14.255Z"
   },
   {
    "duration": 10,
    "start_time": "2022-03-26T16:54:14.262Z"
   },
   {
    "duration": 20,
    "start_time": "2022-03-26T16:54:14.274Z"
   },
   {
    "duration": 6,
    "start_time": "2022-03-26T16:54:14.295Z"
   },
   {
    "duration": 7,
    "start_time": "2022-03-26T16:54:14.303Z"
   },
   {
    "duration": 434,
    "start_time": "2022-03-26T16:54:14.311Z"
   },
   {
    "duration": 0,
    "start_time": "2022-03-26T16:54:14.747Z"
   },
   {
    "duration": 0,
    "start_time": "2022-03-26T16:54:14.748Z"
   },
   {
    "duration": 0,
    "start_time": "2022-03-26T16:54:14.750Z"
   },
   {
    "duration": 15,
    "start_time": "2022-03-26T16:55:00.854Z"
   },
   {
    "duration": 7,
    "start_time": "2022-03-26T16:55:03.527Z"
   },
   {
    "duration": 10,
    "start_time": "2022-03-26T16:55:59.669Z"
   },
   {
    "duration": 1292,
    "start_time": "2022-03-26T16:56:14.640Z"
   },
   {
    "duration": 6,
    "start_time": "2022-03-26T16:56:30.688Z"
   },
   {
    "duration": 5,
    "start_time": "2022-03-26T16:56:38.155Z"
   },
   {
    "duration": 5,
    "start_time": "2022-03-26T16:56:56.489Z"
   },
   {
    "duration": 10,
    "start_time": "2022-03-26T16:57:13.812Z"
   },
   {
    "duration": 1056,
    "start_time": "2022-03-26T16:57:33.893Z"
   },
   {
    "duration": 23,
    "start_time": "2022-03-26T16:57:34.951Z"
   },
   {
    "duration": 61,
    "start_time": "2022-03-26T16:57:34.976Z"
   },
   {
    "duration": 12,
    "start_time": "2022-03-26T16:57:35.039Z"
   },
   {
    "duration": 323,
    "start_time": "2022-03-26T16:57:35.054Z"
   },
   {
    "duration": 3,
    "start_time": "2022-03-26T16:57:35.379Z"
   },
   {
    "duration": 55,
    "start_time": "2022-03-26T16:57:35.384Z"
   },
   {
    "duration": 25,
    "start_time": "2022-03-26T16:57:35.441Z"
   },
   {
    "duration": 17,
    "start_time": "2022-03-26T16:57:35.467Z"
   },
   {
    "duration": 30,
    "start_time": "2022-03-26T16:57:35.485Z"
   },
   {
    "duration": 7,
    "start_time": "2022-03-26T16:57:35.516Z"
   },
   {
    "duration": 16,
    "start_time": "2022-03-26T16:57:35.524Z"
   },
   {
    "duration": 28,
    "start_time": "2022-03-26T16:57:35.542Z"
   },
   {
    "duration": 39,
    "start_time": "2022-03-26T16:57:35.573Z"
   },
   {
    "duration": 16,
    "start_time": "2022-03-26T16:57:35.614Z"
   },
   {
    "duration": 22,
    "start_time": "2022-03-26T16:57:35.631Z"
   },
   {
    "duration": 104,
    "start_time": "2022-03-26T17:02:45.781Z"
   },
   {
    "duration": 12,
    "start_time": "2022-03-26T17:03:03.177Z"
   },
   {
    "duration": 4,
    "start_time": "2022-03-26T17:03:31.667Z"
   },
   {
    "duration": 4,
    "start_time": "2022-03-26T17:04:23.588Z"
   },
   {
    "duration": 4,
    "start_time": "2022-03-26T17:05:35.809Z"
   },
   {
    "duration": 10,
    "start_time": "2022-03-26T17:43:28.451Z"
   },
   {
    "duration": 1292,
    "start_time": "2022-03-26T17:50:33.065Z"
   },
   {
    "duration": 9,
    "start_time": "2022-03-26T17:51:29.102Z"
   },
   {
    "duration": 6,
    "start_time": "2022-03-26T17:51:43.681Z"
   },
   {
    "duration": 12,
    "start_time": "2022-03-26T17:52:12.760Z"
   },
   {
    "duration": 14,
    "start_time": "2022-03-26T17:52:14.942Z"
   },
   {
    "duration": 15,
    "start_time": "2022-03-26T17:52:39.682Z"
   },
   {
    "duration": 11,
    "start_time": "2022-03-26T18:12:08.459Z"
   },
   {
    "duration": 13,
    "start_time": "2022-03-26T18:16:54.506Z"
   },
   {
    "duration": 17,
    "start_time": "2022-03-26T18:17:39.693Z"
   },
   {
    "duration": 1246,
    "start_time": "2022-03-26T18:18:45.876Z"
   },
   {
    "duration": 1359,
    "start_time": "2022-03-26T18:19:16.595Z"
   },
   {
    "duration": 1273,
    "start_time": "2022-03-26T18:19:34.641Z"
   },
   {
    "duration": 7,
    "start_time": "2022-03-26T18:19:54.221Z"
   },
   {
    "duration": 9,
    "start_time": "2022-03-26T18:20:46.375Z"
   },
   {
    "duration": 13,
    "start_time": "2022-03-26T18:21:01.461Z"
   },
   {
    "duration": 1122,
    "start_time": "2022-03-26T18:21:36.760Z"
   },
   {
    "duration": 30,
    "start_time": "2022-03-26T18:21:37.884Z"
   },
   {
    "duration": 64,
    "start_time": "2022-03-26T18:21:37.915Z"
   },
   {
    "duration": 19,
    "start_time": "2022-03-26T18:21:37.981Z"
   },
   {
    "duration": 330,
    "start_time": "2022-03-26T18:21:38.002Z"
   },
   {
    "duration": 3,
    "start_time": "2022-03-26T18:21:38.334Z"
   },
   {
    "duration": 7,
    "start_time": "2022-03-26T18:21:38.339Z"
   },
   {
    "duration": 8,
    "start_time": "2022-03-26T18:21:38.348Z"
   },
   {
    "duration": 12,
    "start_time": "2022-03-26T18:21:38.358Z"
   },
   {
    "duration": 20,
    "start_time": "2022-03-26T18:21:38.372Z"
   },
   {
    "duration": 6,
    "start_time": "2022-03-26T18:21:38.393Z"
   },
   {
    "duration": 16,
    "start_time": "2022-03-26T18:21:38.400Z"
   },
   {
    "duration": 21,
    "start_time": "2022-03-26T18:21:38.418Z"
   },
   {
    "duration": 5,
    "start_time": "2022-03-26T18:21:38.441Z"
   },
   {
    "duration": 11,
    "start_time": "2022-03-26T18:21:38.448Z"
   },
   {
    "duration": 11,
    "start_time": "2022-03-26T18:21:38.460Z"
   },
   {
    "duration": 12,
    "start_time": "2022-03-26T18:21:38.473Z"
   },
   {
    "duration": 11,
    "start_time": "2022-03-26T18:21:38.486Z"
   },
   {
    "duration": 39,
    "start_time": "2022-03-26T18:21:38.499Z"
   },
   {
    "duration": 13,
    "start_time": "2022-03-26T18:21:38.540Z"
   },
   {
    "duration": 9,
    "start_time": "2022-03-26T18:21:38.554Z"
   },
   {
    "duration": 122,
    "start_time": "2022-03-26T18:21:38.564Z"
   },
   {
    "duration": 18,
    "start_time": "2022-03-26T18:22:06.174Z"
   },
   {
    "duration": 8,
    "start_time": "2022-03-26T18:22:32.943Z"
   },
   {
    "duration": 11,
    "start_time": "2022-03-26T18:22:35.175Z"
   },
   {
    "duration": 19,
    "start_time": "2022-03-26T18:22:38.356Z"
   },
   {
    "duration": 9,
    "start_time": "2022-03-26T18:22:47.624Z"
   },
   {
    "duration": 20,
    "start_time": "2022-03-26T18:22:50.022Z"
   },
   {
    "duration": 6,
    "start_time": "2022-03-26T18:22:58.897Z"
   },
   {
    "duration": 12,
    "start_time": "2022-03-26T18:23:01.374Z"
   },
   {
    "duration": 9,
    "start_time": "2022-03-26T18:23:03.859Z"
   },
   {
    "duration": 18,
    "start_time": "2022-03-26T18:23:06.170Z"
   },
   {
    "duration": 11,
    "start_time": "2022-03-26T18:23:37.233Z"
   },
   {
    "duration": 1083,
    "start_time": "2022-03-26T18:23:50.975Z"
   },
   {
    "duration": 31,
    "start_time": "2022-03-26T18:23:52.060Z"
   },
   {
    "duration": 56,
    "start_time": "2022-03-26T18:23:52.093Z"
   },
   {
    "duration": 12,
    "start_time": "2022-03-26T18:23:52.151Z"
   },
   {
    "duration": 336,
    "start_time": "2022-03-26T18:23:52.165Z"
   },
   {
    "duration": 3,
    "start_time": "2022-03-26T18:23:52.503Z"
   },
   {
    "duration": 7,
    "start_time": "2022-03-26T18:23:52.507Z"
   },
   {
    "duration": 6,
    "start_time": "2022-03-26T18:23:52.515Z"
   },
   {
    "duration": 15,
    "start_time": "2022-03-26T18:23:52.523Z"
   },
   {
    "duration": 19,
    "start_time": "2022-03-26T18:23:52.540Z"
   },
   {
    "duration": 5,
    "start_time": "2022-03-26T18:23:52.561Z"
   },
   {
    "duration": 20,
    "start_time": "2022-03-26T18:23:52.567Z"
   },
   {
    "duration": 7,
    "start_time": "2022-03-26T18:23:52.589Z"
   },
   {
    "duration": 7,
    "start_time": "2022-03-26T18:23:52.598Z"
   },
   {
    "duration": 36,
    "start_time": "2022-03-26T18:23:52.607Z"
   },
   {
    "duration": 9,
    "start_time": "2022-03-26T18:23:52.645Z"
   },
   {
    "duration": 12,
    "start_time": "2022-03-26T18:23:52.656Z"
   },
   {
    "duration": 10,
    "start_time": "2022-03-26T18:23:52.669Z"
   },
   {
    "duration": 9,
    "start_time": "2022-03-26T18:23:52.681Z"
   },
   {
    "duration": 9,
    "start_time": "2022-03-26T18:23:52.691Z"
   },
   {
    "duration": 35,
    "start_time": "2022-03-26T18:23:52.702Z"
   },
   {
    "duration": 8,
    "start_time": "2022-03-26T18:23:52.740Z"
   },
   {
    "duration": 36,
    "start_time": "2022-03-26T18:23:52.749Z"
   },
   {
    "duration": 1115,
    "start_time": "2022-03-26T18:24:38.045Z"
   },
   {
    "duration": 24,
    "start_time": "2022-03-26T18:24:39.162Z"
   },
   {
    "duration": 59,
    "start_time": "2022-03-26T18:24:39.188Z"
   },
   {
    "duration": 13,
    "start_time": "2022-03-26T18:24:39.249Z"
   },
   {
    "duration": 328,
    "start_time": "2022-03-26T18:24:39.263Z"
   },
   {
    "duration": 3,
    "start_time": "2022-03-26T18:24:39.592Z"
   },
   {
    "duration": 7,
    "start_time": "2022-03-26T18:24:39.597Z"
   },
   {
    "duration": 5,
    "start_time": "2022-03-26T18:24:39.605Z"
   },
   {
    "duration": 7,
    "start_time": "2022-03-26T18:24:39.612Z"
   },
   {
    "duration": 26,
    "start_time": "2022-03-26T18:24:39.621Z"
   },
   {
    "duration": 5,
    "start_time": "2022-03-26T18:24:39.649Z"
   },
   {
    "duration": 17,
    "start_time": "2022-03-26T18:24:39.656Z"
   },
   {
    "duration": 6,
    "start_time": "2022-03-26T18:24:39.674Z"
   },
   {
    "duration": 5,
    "start_time": "2022-03-26T18:24:39.682Z"
   },
   {
    "duration": 11,
    "start_time": "2022-03-26T18:24:39.688Z"
   },
   {
    "duration": 10,
    "start_time": "2022-03-26T18:24:39.700Z"
   },
   {
    "duration": 11,
    "start_time": "2022-03-26T18:24:39.738Z"
   },
   {
    "duration": 11,
    "start_time": "2022-03-26T18:24:39.751Z"
   },
   {
    "duration": 13,
    "start_time": "2022-03-26T18:24:39.763Z"
   },
   {
    "duration": 10,
    "start_time": "2022-03-26T18:24:39.777Z"
   },
   {
    "duration": 9,
    "start_time": "2022-03-26T18:24:39.788Z"
   },
   {
    "duration": 43,
    "start_time": "2022-03-26T18:24:39.798Z"
   },
   {
    "duration": 39,
    "start_time": "2022-03-26T18:24:39.843Z"
   },
   {
    "duration": 29,
    "start_time": "2022-03-26T18:27:03.982Z"
   },
   {
    "duration": 34,
    "start_time": "2022-03-26T18:27:14.275Z"
   },
   {
    "duration": 5,
    "start_time": "2022-03-26T18:28:33.654Z"
   },
   {
    "duration": 33,
    "start_time": "2022-03-26T18:28:39.997Z"
   },
   {
    "duration": 12,
    "start_time": "2022-03-26T18:28:55.334Z"
   },
   {
    "duration": 14,
    "start_time": "2022-03-26T18:29:15.155Z"
   },
   {
    "duration": 5,
    "start_time": "2022-03-26T20:59:07.441Z"
   },
   {
    "duration": 106,
    "start_time": "2022-03-26T21:08:08.401Z"
   },
   {
    "duration": 11,
    "start_time": "2022-03-26T21:08:15.978Z"
   },
   {
    "duration": 5,
    "start_time": "2022-03-26T21:08:47.951Z"
   },
   {
    "duration": 6,
    "start_time": "2022-03-26T21:10:01.398Z"
   },
   {
    "duration": 5,
    "start_time": "2022-03-26T21:18:08.200Z"
   },
   {
    "duration": 13,
    "start_time": "2022-03-26T21:21:28.748Z"
   },
   {
    "duration": 12,
    "start_time": "2022-03-26T21:23:46.839Z"
   },
   {
    "duration": 5,
    "start_time": "2022-03-26T21:24:22.147Z"
   },
   {
    "duration": 12,
    "start_time": "2022-03-26T21:24:29.675Z"
   },
   {
    "duration": 11,
    "start_time": "2022-03-26T21:24:37.439Z"
   },
   {
    "duration": 6,
    "start_time": "2022-03-26T21:25:00.588Z"
   },
   {
    "duration": 16,
    "start_time": "2022-03-26T21:25:09.939Z"
   },
   {
    "duration": 13,
    "start_time": "2022-03-26T21:25:15.159Z"
   },
   {
    "duration": 4,
    "start_time": "2022-03-26T21:40:02.448Z"
   },
   {
    "duration": 6,
    "start_time": "2022-03-26T21:40:05.605Z"
   },
   {
    "duration": 15,
    "start_time": "2022-03-26T21:40:09.319Z"
   },
   {
    "duration": 2241,
    "start_time": "2022-03-27T07:04:15.518Z"
   },
   {
    "duration": 36,
    "start_time": "2022-03-27T07:04:17.763Z"
   },
   {
    "duration": 78,
    "start_time": "2022-03-27T07:04:17.801Z"
   },
   {
    "duration": 19,
    "start_time": "2022-03-27T07:04:17.882Z"
   },
   {
    "duration": 139,
    "start_time": "2022-03-27T07:04:17.904Z"
   },
   {
    "duration": 4,
    "start_time": "2022-03-27T07:04:18.045Z"
   },
   {
    "duration": 25,
    "start_time": "2022-03-27T07:04:18.051Z"
   },
   {
    "duration": 7,
    "start_time": "2022-03-27T07:04:18.078Z"
   },
   {
    "duration": 8,
    "start_time": "2022-03-27T07:04:18.087Z"
   },
   {
    "duration": 25,
    "start_time": "2022-03-27T07:04:18.099Z"
   },
   {
    "duration": 51,
    "start_time": "2022-03-27T07:04:18.127Z"
   },
   {
    "duration": 26,
    "start_time": "2022-03-27T07:04:18.181Z"
   },
   {
    "duration": 10,
    "start_time": "2022-03-27T07:04:18.210Z"
   },
   {
    "duration": 9,
    "start_time": "2022-03-27T07:04:18.223Z"
   },
   {
    "duration": 14,
    "start_time": "2022-03-27T07:04:18.275Z"
   },
   {
    "duration": 25,
    "start_time": "2022-03-27T07:04:18.292Z"
   },
   {
    "duration": 22,
    "start_time": "2022-03-27T07:04:18.320Z"
   },
   {
    "duration": 25,
    "start_time": "2022-03-27T07:04:18.374Z"
   },
   {
    "duration": 14,
    "start_time": "2022-03-27T07:04:18.402Z"
   },
   {
    "duration": 16,
    "start_time": "2022-03-27T07:04:18.419Z"
   },
   {
    "duration": 50,
    "start_time": "2022-03-27T07:04:18.437Z"
   },
   {
    "duration": 12,
    "start_time": "2022-03-27T07:04:18.490Z"
   },
   {
    "duration": 72,
    "start_time": "2022-03-27T07:04:18.504Z"
   },
   {
    "duration": 17,
    "start_time": "2022-03-27T07:04:18.579Z"
   },
   {
    "duration": 6,
    "start_time": "2022-03-27T07:04:18.599Z"
   },
   {
    "duration": 6,
    "start_time": "2022-03-27T07:04:18.608Z"
   },
   {
    "duration": 11,
    "start_time": "2022-03-27T07:04:18.615Z"
   },
   {
    "duration": 199,
    "start_time": "2022-03-27T07:04:18.630Z"
   },
   {
    "duration": 21,
    "start_time": "2022-03-27T07:04:59.245Z"
   },
   {
    "duration": 30,
    "start_time": "2022-03-27T07:05:29.430Z"
   },
   {
    "duration": 4,
    "start_time": "2022-03-27T07:09:22.680Z"
   },
   {
    "duration": 24,
    "start_time": "2022-03-27T07:09:26.060Z"
   },
   {
    "duration": 3,
    "start_time": "2022-03-27T07:10:58.304Z"
   },
   {
    "duration": 23,
    "start_time": "2022-03-27T07:11:00.771Z"
   },
   {
    "duration": 3,
    "start_time": "2022-03-27T07:11:21.942Z"
   },
   {
    "duration": 2804,
    "start_time": "2022-03-27T07:11:24.370Z"
   },
   {
    "duration": 2650,
    "start_time": "2022-03-27T07:11:44.526Z"
   },
   {
    "duration": 67,
    "start_time": "2022-03-27T10:44:59.390Z"
   },
   {
    "duration": 2132,
    "start_time": "2022-03-27T10:45:13.329Z"
   },
   {
    "duration": 32,
    "start_time": "2022-03-27T10:45:15.464Z"
   },
   {
    "duration": 84,
    "start_time": "2022-03-27T10:45:15.498Z"
   },
   {
    "duration": 19,
    "start_time": "2022-03-27T10:45:15.584Z"
   },
   {
    "duration": 120,
    "start_time": "2022-03-27T10:45:15.606Z"
   },
   {
    "duration": 5,
    "start_time": "2022-03-27T10:45:15.729Z"
   },
   {
    "duration": 30,
    "start_time": "2022-03-27T10:45:15.737Z"
   },
   {
    "duration": 7,
    "start_time": "2022-03-27T10:45:15.770Z"
   },
   {
    "duration": 9,
    "start_time": "2022-03-27T10:45:15.780Z"
   },
   {
    "duration": 27,
    "start_time": "2022-03-27T10:45:15.791Z"
   },
   {
    "duration": 9,
    "start_time": "2022-03-27T10:45:15.820Z"
   },
   {
    "duration": 57,
    "start_time": "2022-03-27T10:45:15.831Z"
   },
   {
    "duration": 9,
    "start_time": "2022-03-27T10:45:15.890Z"
   },
   {
    "duration": 8,
    "start_time": "2022-03-27T10:45:15.902Z"
   },
   {
    "duration": 15,
    "start_time": "2022-03-27T10:45:15.912Z"
   },
   {
    "duration": 49,
    "start_time": "2022-03-27T10:45:15.929Z"
   },
   {
    "duration": 20,
    "start_time": "2022-03-27T10:45:15.980Z"
   },
   {
    "duration": 23,
    "start_time": "2022-03-27T10:45:16.002Z"
   },
   {
    "duration": 45,
    "start_time": "2022-03-27T10:45:16.027Z"
   },
   {
    "duration": 16,
    "start_time": "2022-03-27T10:45:16.074Z"
   },
   {
    "duration": 13,
    "start_time": "2022-03-27T10:45:16.092Z"
   },
   {
    "duration": 13,
    "start_time": "2022-03-27T10:45:16.107Z"
   },
   {
    "duration": 81,
    "start_time": "2022-03-27T10:45:16.121Z"
   },
   {
    "duration": 18,
    "start_time": "2022-03-27T10:45:16.204Z"
   },
   {
    "duration": 8,
    "start_time": "2022-03-27T10:45:16.224Z"
   },
   {
    "duration": 55,
    "start_time": "2022-03-27T10:45:16.234Z"
   },
   {
    "duration": 83,
    "start_time": "2022-03-27T10:45:16.292Z"
   },
   {
    "duration": 309,
    "start_time": "2022-03-27T10:50:19.962Z"
   },
   {
    "duration": 187,
    "start_time": "2022-03-27T10:53:36.522Z"
   },
   {
    "duration": 37482,
    "start_time": "2022-03-27T10:54:19.210Z"
   },
   {
    "duration": 87261,
    "start_time": "2022-03-27T10:55:38.331Z"
   },
   {
    "duration": 46621,
    "start_time": "2022-03-27T10:57:18.513Z"
   },
   {
    "duration": 45533,
    "start_time": "2022-03-27T10:58:59.292Z"
   },
   {
    "duration": 47283,
    "start_time": "2022-03-27T11:00:16.123Z"
   },
   {
    "duration": 1091,
    "start_time": "2022-03-27T11:09:36.881Z"
   },
   {
    "duration": 2354,
    "start_time": "2022-03-27T11:10:03.281Z"
   },
   {
    "duration": 1552,
    "start_time": "2022-03-27T13:50:31.271Z"
   },
   {
    "duration": 24,
    "start_time": "2022-03-27T13:50:32.825Z"
   },
   {
    "duration": 53,
    "start_time": "2022-03-27T13:50:32.851Z"
   },
   {
    "duration": 13,
    "start_time": "2022-03-27T13:50:32.906Z"
   },
   {
    "duration": 106,
    "start_time": "2022-03-27T13:50:32.921Z"
   },
   {
    "duration": 3,
    "start_time": "2022-03-27T13:50:33.029Z"
   },
   {
    "duration": 9,
    "start_time": "2022-03-27T13:50:33.034Z"
   },
   {
    "duration": 5,
    "start_time": "2022-03-27T13:50:33.045Z"
   },
   {
    "duration": 58,
    "start_time": "2022-03-27T13:50:33.051Z"
   },
   {
    "duration": 29,
    "start_time": "2022-03-27T13:50:33.113Z"
   },
   {
    "duration": 8,
    "start_time": "2022-03-27T13:50:33.144Z"
   },
   {
    "duration": 75,
    "start_time": "2022-03-27T13:50:33.154Z"
   },
   {
    "duration": 11,
    "start_time": "2022-03-27T13:50:33.231Z"
   },
   {
    "duration": 6,
    "start_time": "2022-03-27T13:50:33.244Z"
   },
   {
    "duration": 64,
    "start_time": "2022-03-27T13:50:33.252Z"
   },
   {
    "duration": 25,
    "start_time": "2022-03-27T13:50:33.319Z"
   },
   {
    "duration": 67,
    "start_time": "2022-03-27T13:50:33.346Z"
   },
   {
    "duration": 19,
    "start_time": "2022-03-27T13:50:33.416Z"
   },
   {
    "duration": 12,
    "start_time": "2022-03-27T13:50:33.437Z"
   },
   {
    "duration": 71,
    "start_time": "2022-03-27T13:50:33.452Z"
   },
   {
    "duration": 16,
    "start_time": "2022-03-27T13:50:33.525Z"
   },
   {
    "duration": 66,
    "start_time": "2022-03-27T13:50:33.543Z"
   },
   {
    "duration": 108,
    "start_time": "2022-03-27T13:50:33.611Z"
   },
   {
    "duration": 17,
    "start_time": "2022-03-27T13:50:33.721Z"
   },
   {
    "duration": 2676,
    "start_time": "2022-03-27T13:50:33.740Z"
   },
   {
    "duration": 32499,
    "start_time": "2022-03-27T13:50:36.418Z"
   },
   {
    "duration": 332,
    "start_time": "2022-03-27T13:51:08.919Z"
   },
   {
    "duration": 24747,
    "start_time": "2022-03-27T13:51:09.255Z"
   },
   {
    "duration": 6,
    "start_time": "2022-03-27T13:51:34.003Z"
   },
   {
    "duration": 23,
    "start_time": "2022-03-27T13:51:34.011Z"
   },
   {
    "duration": 23822,
    "start_time": "2022-03-27T13:53:09.981Z"
   },
   {
    "duration": 24217,
    "start_time": "2022-03-27T13:54:12.180Z"
   },
   {
    "duration": 24300,
    "start_time": "2022-03-27T13:55:34.760Z"
   },
   {
    "duration": 32988,
    "start_time": "2022-03-27T14:04:56.772Z"
   },
   {
    "duration": 23993,
    "start_time": "2022-03-27T14:05:49.253Z"
   },
   {
    "duration": 4725,
    "start_time": "2022-03-27T14:07:09.645Z"
   },
   {
    "duration": 4755,
    "start_time": "2022-03-27T14:08:11.708Z"
   },
   {
    "duration": 4512,
    "start_time": "2022-03-27T14:08:37.085Z"
   },
   {
    "duration": 95,
    "start_time": "2022-03-27T14:09:31.544Z"
   },
   {
    "duration": 4495,
    "start_time": "2022-03-27T14:09:49.673Z"
   },
   {
    "duration": 5,
    "start_time": "2022-03-27T14:10:15.144Z"
   },
   {
    "duration": 4,
    "start_time": "2022-03-27T14:10:27.744Z"
   },
   {
    "duration": 6,
    "start_time": "2022-03-27T14:14:31.046Z"
   },
   {
    "duration": 172,
    "start_time": "2022-03-28T11:00:36.184Z"
   },
   {
    "duration": 1784,
    "start_time": "2022-03-28T11:00:45.740Z"
   },
   {
    "duration": 26,
    "start_time": "2022-03-28T11:00:47.526Z"
   },
   {
    "duration": 59,
    "start_time": "2022-03-28T11:00:47.554Z"
   },
   {
    "duration": 14,
    "start_time": "2022-03-28T11:00:47.616Z"
   },
   {
    "duration": 96,
    "start_time": "2022-03-28T11:00:47.632Z"
   },
   {
    "duration": 4,
    "start_time": "2022-03-28T11:00:47.730Z"
   },
   {
    "duration": 11,
    "start_time": "2022-03-28T11:00:47.736Z"
   },
   {
    "duration": 7,
    "start_time": "2022-03-28T11:00:47.749Z"
   },
   {
    "duration": 8,
    "start_time": "2022-03-28T11:00:47.758Z"
   },
   {
    "duration": 47,
    "start_time": "2022-03-28T11:00:47.770Z"
   },
   {
    "duration": 7,
    "start_time": "2022-03-28T11:00:47.820Z"
   },
   {
    "duration": 28,
    "start_time": "2022-03-28T11:00:47.829Z"
   },
   {
    "duration": 10,
    "start_time": "2022-03-28T11:00:47.859Z"
   },
   {
    "duration": 33,
    "start_time": "2022-03-28T11:00:47.872Z"
   },
   {
    "duration": 17,
    "start_time": "2022-03-28T11:00:47.907Z"
   },
   {
    "duration": 19,
    "start_time": "2022-03-28T11:00:47.926Z"
   },
   {
    "duration": 16,
    "start_time": "2022-03-28T11:00:47.948Z"
   },
   {
    "duration": 39,
    "start_time": "2022-03-28T11:00:47.966Z"
   },
   {
    "duration": 10,
    "start_time": "2022-03-28T11:00:48.007Z"
   },
   {
    "duration": 13,
    "start_time": "2022-03-28T11:00:48.019Z"
   },
   {
    "duration": 14,
    "start_time": "2022-03-28T11:00:48.034Z"
   },
   {
    "duration": 12,
    "start_time": "2022-03-28T11:00:48.050Z"
   },
   {
    "duration": 94,
    "start_time": "2022-03-28T11:00:48.064Z"
   },
   {
    "duration": 24,
    "start_time": "2022-03-28T11:00:48.161Z"
   },
   {
    "duration": 2499,
    "start_time": "2022-03-28T11:00:48.187Z"
   },
   {
    "duration": 37709,
    "start_time": "2022-03-28T11:00:50.688Z"
   },
   {
    "duration": 102,
    "start_time": "2022-03-28T11:01:28.401Z"
   },
   {
    "duration": 27220,
    "start_time": "2022-03-28T11:01:28.509Z"
   },
   {
    "duration": 6182,
    "start_time": "2022-03-28T11:01:55.731Z"
   },
   {
    "duration": 112,
    "start_time": "2022-03-28T11:02:01.915Z"
   },
   {
    "duration": 0,
    "start_time": "2022-03-28T11:02:02.029Z"
   },
   {
    "duration": 70,
    "start_time": "2022-03-28T11:10:34.915Z"
   },
   {
    "duration": 2451,
    "start_time": "2022-03-28T11:12:20.354Z"
   },
   {
    "duration": 51845,
    "start_time": "2022-03-28T11:15:12.013Z"
   },
   {
    "duration": 815,
    "start_time": "2022-03-28T11:19:33.647Z"
   },
   {
    "duration": 20445,
    "start_time": "2022-03-28T11:20:16.986Z"
   },
   {
    "duration": 43931,
    "start_time": "2022-03-28T11:43:24.606Z"
   },
   {
    "duration": 132,
    "start_time": "2022-03-28T18:17:41.496Z"
   },
   {
    "duration": 1545,
    "start_time": "2022-03-28T18:17:49.646Z"
   },
   {
    "duration": 30,
    "start_time": "2022-03-28T18:17:51.194Z"
   },
   {
    "duration": 58,
    "start_time": "2022-03-28T18:17:51.226Z"
   },
   {
    "duration": 12,
    "start_time": "2022-03-28T18:17:51.286Z"
   },
   {
    "duration": 88,
    "start_time": "2022-03-28T18:17:51.300Z"
   },
   {
    "duration": 3,
    "start_time": "2022-03-28T18:17:51.390Z"
   },
   {
    "duration": 11,
    "start_time": "2022-03-28T18:17:51.395Z"
   },
   {
    "duration": 12,
    "start_time": "2022-03-28T18:17:51.407Z"
   },
   {
    "duration": 12,
    "start_time": "2022-03-28T18:17:51.421Z"
   },
   {
    "duration": 24,
    "start_time": "2022-03-28T18:17:51.435Z"
   },
   {
    "duration": 6,
    "start_time": "2022-03-28T18:17:51.461Z"
   },
   {
    "duration": 16,
    "start_time": "2022-03-28T18:17:51.468Z"
   },
   {
    "duration": 15,
    "start_time": "2022-03-28T18:17:51.486Z"
   },
   {
    "duration": 14,
    "start_time": "2022-03-28T18:17:51.504Z"
   },
   {
    "duration": 25,
    "start_time": "2022-03-28T18:17:51.520Z"
   },
   {
    "duration": 11,
    "start_time": "2022-03-28T18:17:51.547Z"
   },
   {
    "duration": 12,
    "start_time": "2022-03-28T18:17:51.560Z"
   },
   {
    "duration": 11,
    "start_time": "2022-03-28T18:17:51.573Z"
   },
   {
    "duration": 10,
    "start_time": "2022-03-28T18:17:51.586Z"
   },
   {
    "duration": 43,
    "start_time": "2022-03-28T18:17:51.598Z"
   },
   {
    "duration": 12,
    "start_time": "2022-03-28T18:17:51.643Z"
   },
   {
    "duration": 9,
    "start_time": "2022-03-28T18:17:51.656Z"
   },
   {
    "duration": 34,
    "start_time": "2022-03-28T18:17:51.667Z"
   },
   {
    "duration": 34,
    "start_time": "2022-03-28T18:17:51.702Z"
   },
   {
    "duration": 2153,
    "start_time": "2022-03-28T18:17:51.738Z"
   },
   {
    "duration": 37860,
    "start_time": "2022-03-28T18:17:53.893Z"
   },
   {
    "duration": 1279,
    "start_time": "2022-03-28T18:18:31.754Z"
   },
   {
    "duration": 43248,
    "start_time": "2022-03-28T18:18:33.035Z"
   },
   {
    "duration": 214,
    "start_time": "2022-03-28T18:19:16.285Z"
   },
   {
    "duration": 95,
    "start_time": "2022-03-28T18:19:16.501Z"
   },
   {
    "duration": 0,
    "start_time": "2022-03-28T18:19:16.598Z"
   },
   {
    "duration": 8019,
    "start_time": "2022-03-28T18:19:40.745Z"
   },
   {
    "duration": 9,
    "start_time": "2022-03-28T18:31:53.453Z"
   },
   {
    "duration": 346,
    "start_time": "2022-03-28T18:32:02.453Z"
   },
   {
    "duration": 113,
    "start_time": "2022-03-28T18:32:50.580Z"
   },
   {
    "duration": 200,
    "start_time": "2022-03-28T18:33:06.137Z"
   },
   {
    "duration": 169,
    "start_time": "2022-03-28T18:34:11.167Z"
   },
   {
    "duration": 208,
    "start_time": "2022-03-28T18:51:22.944Z"
   },
   {
    "duration": 1526,
    "start_time": "2022-03-28T18:52:50.417Z"
   },
   {
    "duration": 38,
    "start_time": "2022-03-28T18:52:51.945Z"
   },
   {
    "duration": 48,
    "start_time": "2022-03-28T18:52:51.984Z"
   },
   {
    "duration": 11,
    "start_time": "2022-03-28T18:52:52.034Z"
   },
   {
    "duration": 78,
    "start_time": "2022-03-28T18:52:52.046Z"
   },
   {
    "duration": 3,
    "start_time": "2022-03-28T18:52:52.126Z"
   },
   {
    "duration": 8,
    "start_time": "2022-03-28T18:52:52.130Z"
   },
   {
    "duration": 5,
    "start_time": "2022-03-28T18:52:52.139Z"
   },
   {
    "duration": 4,
    "start_time": "2022-03-28T18:52:52.146Z"
   },
   {
    "duration": 32,
    "start_time": "2022-03-28T18:52:52.152Z"
   },
   {
    "duration": 5,
    "start_time": "2022-03-28T18:52:52.186Z"
   },
   {
    "duration": 17,
    "start_time": "2022-03-28T18:52:52.192Z"
   },
   {
    "duration": 5,
    "start_time": "2022-03-28T18:52:52.210Z"
   },
   {
    "duration": 4,
    "start_time": "2022-03-28T18:52:52.216Z"
   },
   {
    "duration": 12,
    "start_time": "2022-03-28T18:52:52.221Z"
   },
   {
    "duration": 9,
    "start_time": "2022-03-28T18:52:52.234Z"
   },
   {
    "duration": 10,
    "start_time": "2022-03-28T18:52:52.244Z"
   },
   {
    "duration": 33,
    "start_time": "2022-03-28T18:52:52.255Z"
   },
   {
    "duration": 8,
    "start_time": "2022-03-28T18:52:52.289Z"
   },
   {
    "duration": 9,
    "start_time": "2022-03-28T18:52:52.299Z"
   },
   {
    "duration": 7,
    "start_time": "2022-03-28T18:52:52.309Z"
   },
   {
    "duration": 9,
    "start_time": "2022-03-28T18:52:52.317Z"
   },
   {
    "duration": 56,
    "start_time": "2022-03-28T18:52:52.328Z"
   },
   {
    "duration": 14,
    "start_time": "2022-03-28T18:52:52.385Z"
   },
   {
    "duration": 1833,
    "start_time": "2022-03-28T18:52:52.400Z"
   },
   {
    "duration": 33259,
    "start_time": "2022-03-28T18:52:54.235Z"
   },
   {
    "duration": 898,
    "start_time": "2022-03-28T18:53:27.495Z"
   },
   {
    "duration": 1766,
    "start_time": "2022-03-28T18:54:21.575Z"
   },
   {
    "duration": 33995,
    "start_time": "2022-03-28T18:54:51.257Z"
   },
   {
    "duration": 1044,
    "start_time": "2022-03-28T18:55:32.038Z"
   },
   {
    "duration": 5,
    "start_time": "2022-03-28T20:07:26.369Z"
   },
   {
    "duration": 21,
    "start_time": "2022-03-28T20:14:57.689Z"
   },
   {
    "duration": 31,
    "start_time": "2022-03-28T20:15:28.668Z"
   },
   {
    "duration": 20,
    "start_time": "2022-03-28T20:15:37.487Z"
   },
   {
    "duration": 547,
    "start_time": "2022-03-28T20:17:44.376Z"
   },
   {
    "duration": 99,
    "start_time": "2022-03-28T20:21:42.402Z"
   },
   {
    "duration": 152,
    "start_time": "2022-03-28T20:22:10.041Z"
   },
   {
    "duration": 1425,
    "start_time": "2022-03-28T20:22:46.902Z"
   },
   {
    "duration": 39,
    "start_time": "2022-03-28T20:22:48.330Z"
   },
   {
    "duration": 45,
    "start_time": "2022-03-28T20:22:48.371Z"
   },
   {
    "duration": 11,
    "start_time": "2022-03-28T20:22:48.417Z"
   },
   {
    "duration": 76,
    "start_time": "2022-03-28T20:22:48.429Z"
   },
   {
    "duration": 3,
    "start_time": "2022-03-28T20:22:48.507Z"
   },
   {
    "duration": 12,
    "start_time": "2022-03-28T20:22:48.512Z"
   },
   {
    "duration": 5,
    "start_time": "2022-03-28T20:22:48.526Z"
   },
   {
    "duration": 13,
    "start_time": "2022-03-28T20:22:48.533Z"
   },
   {
    "duration": 36,
    "start_time": "2022-03-28T20:22:48.548Z"
   },
   {
    "duration": 7,
    "start_time": "2022-03-28T20:22:48.585Z"
   },
   {
    "duration": 36,
    "start_time": "2022-03-28T20:22:48.593Z"
   },
   {
    "duration": 7,
    "start_time": "2022-03-28T20:22:48.631Z"
   },
   {
    "duration": 6,
    "start_time": "2022-03-28T20:22:48.641Z"
   },
   {
    "duration": 15,
    "start_time": "2022-03-28T20:22:48.649Z"
   },
   {
    "duration": 27,
    "start_time": "2022-03-28T20:22:48.665Z"
   },
   {
    "duration": 12,
    "start_time": "2022-03-28T20:22:48.694Z"
   },
   {
    "duration": 19,
    "start_time": "2022-03-28T20:22:48.707Z"
   },
   {
    "duration": 11,
    "start_time": "2022-03-28T20:22:48.728Z"
   },
   {
    "duration": 10,
    "start_time": "2022-03-28T20:22:48.740Z"
   },
   {
    "duration": 30,
    "start_time": "2022-03-28T20:22:48.752Z"
   },
   {
    "duration": 11,
    "start_time": "2022-03-28T20:22:48.784Z"
   },
   {
    "duration": 31,
    "start_time": "2022-03-28T20:22:48.797Z"
   },
   {
    "duration": 11,
    "start_time": "2022-03-28T20:22:48.830Z"
   },
   {
    "duration": 1869,
    "start_time": "2022-03-28T20:22:48.843Z"
   },
   {
    "duration": 37841,
    "start_time": "2022-03-28T20:22:50.714Z"
   },
   {
    "duration": 1027,
    "start_time": "2022-03-28T20:23:28.557Z"
   },
   {
    "duration": 95,
    "start_time": "2022-03-28T20:23:29.586Z"
   },
   {
    "duration": 22,
    "start_time": "2022-03-28T20:23:29.683Z"
   },
   {
    "duration": 530,
    "start_time": "2022-03-28T20:23:29.706Z"
   },
   {
    "duration": 146,
    "start_time": "2022-03-28T20:23:30.237Z"
   },
   {
    "duration": 22,
    "start_time": "2022-03-28T20:24:14.529Z"
   },
   {
    "duration": 1475,
    "start_time": "2022-03-28T20:24:21.223Z"
   },
   {
    "duration": 28,
    "start_time": "2022-03-28T20:24:22.700Z"
   },
   {
    "duration": 45,
    "start_time": "2022-03-28T20:24:22.729Z"
   },
   {
    "duration": 13,
    "start_time": "2022-03-28T20:24:22.776Z"
   },
   {
    "duration": 68,
    "start_time": "2022-03-28T20:24:22.790Z"
   },
   {
    "duration": 3,
    "start_time": "2022-03-28T20:24:22.860Z"
   },
   {
    "duration": 5,
    "start_time": "2022-03-28T20:24:22.880Z"
   },
   {
    "duration": 6,
    "start_time": "2022-03-28T20:24:22.886Z"
   },
   {
    "duration": 9,
    "start_time": "2022-03-28T20:24:22.893Z"
   },
   {
    "duration": 18,
    "start_time": "2022-03-28T20:24:22.904Z"
   },
   {
    "duration": 5,
    "start_time": "2022-03-28T20:24:22.923Z"
   },
   {
    "duration": 22,
    "start_time": "2022-03-28T20:24:22.930Z"
   },
   {
    "duration": 6,
    "start_time": "2022-03-28T20:24:22.954Z"
   },
   {
    "duration": 6,
    "start_time": "2022-03-28T20:24:22.981Z"
   },
   {
    "duration": 16,
    "start_time": "2022-03-28T20:24:22.988Z"
   },
   {
    "duration": 14,
    "start_time": "2022-03-28T20:24:23.005Z"
   },
   {
    "duration": 11,
    "start_time": "2022-03-28T20:24:23.020Z"
   },
   {
    "duration": 14,
    "start_time": "2022-03-28T20:24:23.033Z"
   },
   {
    "duration": 36,
    "start_time": "2022-03-28T20:24:23.049Z"
   },
   {
    "duration": 10,
    "start_time": "2022-03-28T20:24:23.087Z"
   },
   {
    "duration": 8,
    "start_time": "2022-03-28T20:24:23.099Z"
   },
   {
    "duration": 13,
    "start_time": "2022-03-28T20:24:23.109Z"
   },
   {
    "duration": 32,
    "start_time": "2022-03-28T20:24:23.124Z"
   },
   {
    "duration": 27,
    "start_time": "2022-03-28T20:24:23.158Z"
   },
   {
    "duration": 2719,
    "start_time": "2022-03-28T20:24:23.186Z"
   },
   {
    "duration": 33499,
    "start_time": "2022-03-28T20:24:25.906Z"
   },
   {
    "duration": 1076,
    "start_time": "2022-03-28T20:24:59.407Z"
   },
   {
    "duration": 95,
    "start_time": "2022-03-28T20:25:00.487Z"
   },
   {
    "duration": 24,
    "start_time": "2022-03-28T20:25:00.583Z"
   },
   {
    "duration": 531,
    "start_time": "2022-03-28T20:25:00.608Z"
   },
   {
    "duration": 240,
    "start_time": "2022-03-28T20:25:01.141Z"
   },
   {
    "duration": 9,
    "start_time": "2022-03-28T20:35:46.638Z"
   },
   {
    "duration": 24,
    "start_time": "2022-03-28T20:36:50.352Z"
   },
   {
    "duration": 696,
    "start_time": "2022-03-28T20:37:01.858Z"
   },
   {
    "duration": 38,
    "start_time": "2022-03-28T20:37:13.748Z"
   },
   {
    "duration": 1438,
    "start_time": "2022-03-28T20:37:43.592Z"
   },
   {
    "duration": 29,
    "start_time": "2022-03-28T20:37:45.032Z"
   },
   {
    "duration": 46,
    "start_time": "2022-03-28T20:37:45.062Z"
   },
   {
    "duration": 11,
    "start_time": "2022-03-28T20:37:45.109Z"
   },
   {
    "duration": 67,
    "start_time": "2022-03-28T20:37:45.121Z"
   },
   {
    "duration": 3,
    "start_time": "2022-03-28T20:37:45.189Z"
   },
   {
    "duration": 6,
    "start_time": "2022-03-28T20:37:45.194Z"
   },
   {
    "duration": 5,
    "start_time": "2022-03-28T20:37:45.201Z"
   },
   {
    "duration": 7,
    "start_time": "2022-03-28T20:37:45.207Z"
   },
   {
    "duration": 16,
    "start_time": "2022-03-28T20:37:45.216Z"
   },
   {
    "duration": 5,
    "start_time": "2022-03-28T20:37:45.234Z"
   },
   {
    "duration": 41,
    "start_time": "2022-03-28T20:37:45.240Z"
   },
   {
    "duration": 5,
    "start_time": "2022-03-28T20:37:45.282Z"
   },
   {
    "duration": 8,
    "start_time": "2022-03-28T20:37:45.288Z"
   },
   {
    "duration": 15,
    "start_time": "2022-03-28T20:37:45.297Z"
   },
   {
    "duration": 8,
    "start_time": "2022-03-28T20:37:45.314Z"
   },
   {
    "duration": 13,
    "start_time": "2022-03-28T20:37:45.323Z"
   },
   {
    "duration": 11,
    "start_time": "2022-03-28T20:37:45.337Z"
   },
   {
    "duration": 31,
    "start_time": "2022-03-28T20:37:45.350Z"
   },
   {
    "duration": 10,
    "start_time": "2022-03-28T20:37:45.382Z"
   },
   {
    "duration": 9,
    "start_time": "2022-03-28T20:37:45.393Z"
   },
   {
    "duration": 9,
    "start_time": "2022-03-28T20:37:45.403Z"
   },
   {
    "duration": 32,
    "start_time": "2022-03-28T20:37:45.413Z"
   },
   {
    "duration": 36,
    "start_time": "2022-03-28T20:37:45.446Z"
   },
   {
    "duration": 1839,
    "start_time": "2022-03-28T20:37:45.483Z"
   },
   {
    "duration": 33661,
    "start_time": "2022-03-28T20:37:47.324Z"
   },
   {
    "duration": 1194,
    "start_time": "2022-03-28T20:38:20.987Z"
   },
   {
    "duration": 5,
    "start_time": "2022-03-28T20:38:22.184Z"
   },
   {
    "duration": 9,
    "start_time": "2022-03-28T20:38:22.191Z"
   },
   {
    "duration": 23,
    "start_time": "2022-03-28T20:38:22.201Z"
   },
   {
    "duration": 747,
    "start_time": "2022-03-28T20:38:22.226Z"
   },
   {
    "duration": 118,
    "start_time": "2022-03-28T20:38:22.975Z"
   },
   {
    "duration": 23,
    "start_time": "2022-03-28T20:40:08.716Z"
   },
   {
    "duration": 722,
    "start_time": "2022-03-28T20:40:22.351Z"
   },
   {
    "duration": 66,
    "start_time": "2022-03-28T20:40:32.716Z"
   },
   {
    "duration": 596,
    "start_time": "2022-03-28T20:57:53.095Z"
   },
   {
    "duration": 5790,
    "start_time": "2022-03-28T20:58:41.021Z"
   },
   {
    "duration": 3426,
    "start_time": "2022-03-28T20:59:04.542Z"
   },
   {
    "duration": 1442,
    "start_time": "2022-03-28T20:59:22.471Z"
   },
   {
    "duration": 3679,
    "start_time": "2022-03-28T20:59:47.542Z"
   },
   {
    "duration": 4130,
    "start_time": "2022-03-28T21:00:24.392Z"
   },
   {
    "duration": 1414,
    "start_time": "2022-03-28T21:00:28.524Z"
   },
   {
    "duration": 28,
    "start_time": "2022-03-28T21:00:29.940Z"
   },
   {
    "duration": 48,
    "start_time": "2022-03-28T21:00:29.970Z"
   },
   {
    "duration": 15,
    "start_time": "2022-03-28T21:00:30.020Z"
   },
   {
    "duration": 89,
    "start_time": "2022-03-28T21:00:30.037Z"
   },
   {
    "duration": 3,
    "start_time": "2022-03-28T21:00:30.127Z"
   },
   {
    "duration": 16,
    "start_time": "2022-03-28T21:00:30.132Z"
   },
   {
    "duration": 18,
    "start_time": "2022-03-28T21:00:30.150Z"
   },
   {
    "duration": 18,
    "start_time": "2022-03-28T21:00:30.171Z"
   },
   {
    "duration": 28,
    "start_time": "2022-03-28T21:00:30.191Z"
   },
   {
    "duration": 5,
    "start_time": "2022-03-28T21:00:30.221Z"
   },
   {
    "duration": 25,
    "start_time": "2022-03-28T21:00:30.227Z"
   },
   {
    "duration": 30,
    "start_time": "2022-03-28T21:00:30.253Z"
   },
   {
    "duration": 15,
    "start_time": "2022-03-28T21:00:30.286Z"
   },
   {
    "duration": 22,
    "start_time": "2022-03-28T21:00:30.303Z"
   },
   {
    "duration": 17,
    "start_time": "2022-03-28T21:00:30.326Z"
   },
   {
    "duration": 17,
    "start_time": "2022-03-28T21:00:30.345Z"
   },
   {
    "duration": 22,
    "start_time": "2022-03-28T21:00:30.364Z"
   },
   {
    "duration": 27,
    "start_time": "2022-03-28T21:00:30.388Z"
   },
   {
    "duration": 25,
    "start_time": "2022-03-28T21:00:30.416Z"
   },
   {
    "duration": 45,
    "start_time": "2022-03-28T21:00:30.443Z"
   },
   {
    "duration": 34,
    "start_time": "2022-03-28T21:00:30.489Z"
   },
   {
    "duration": 56,
    "start_time": "2022-03-28T21:00:30.525Z"
   },
   {
    "duration": 21,
    "start_time": "2022-03-28T21:00:30.582Z"
   },
   {
    "duration": 1973,
    "start_time": "2022-03-28T21:00:30.605Z"
   },
   {
    "duration": 1492,
    "start_time": "2022-03-28T21:01:01.243Z"
   },
   {
    "duration": 1381,
    "start_time": "2022-03-28T21:01:02.738Z"
   },
   {
    "duration": 29,
    "start_time": "2022-03-28T21:01:04.120Z"
   },
   {
    "duration": 43,
    "start_time": "2022-03-28T21:01:04.151Z"
   },
   {
    "duration": 9,
    "start_time": "2022-03-28T21:01:04.196Z"
   },
   {
    "duration": 77,
    "start_time": "2022-03-28T21:01:04.207Z"
   },
   {
    "duration": 3,
    "start_time": "2022-03-28T21:01:04.285Z"
   },
   {
    "duration": 9,
    "start_time": "2022-03-28T21:01:04.289Z"
   },
   {
    "duration": 7,
    "start_time": "2022-03-28T21:01:04.299Z"
   },
   {
    "duration": 5,
    "start_time": "2022-03-28T21:01:04.308Z"
   },
   {
    "duration": 16,
    "start_time": "2022-03-28T21:01:04.314Z"
   },
   {
    "duration": 5,
    "start_time": "2022-03-28T21:01:04.332Z"
   },
   {
    "duration": 46,
    "start_time": "2022-03-28T21:01:04.338Z"
   },
   {
    "duration": 5,
    "start_time": "2022-03-28T21:01:04.386Z"
   },
   {
    "duration": 10,
    "start_time": "2022-03-28T21:01:04.392Z"
   },
   {
    "duration": 14,
    "start_time": "2022-03-28T21:01:04.404Z"
   },
   {
    "duration": 9,
    "start_time": "2022-03-28T21:01:04.420Z"
   },
   {
    "duration": 14,
    "start_time": "2022-03-28T21:01:04.430Z"
   },
   {
    "duration": 9,
    "start_time": "2022-03-28T21:01:04.446Z"
   },
   {
    "duration": 7,
    "start_time": "2022-03-28T21:01:04.481Z"
   },
   {
    "duration": 13,
    "start_time": "2022-03-28T21:01:04.490Z"
   },
   {
    "duration": 13,
    "start_time": "2022-03-28T21:01:04.505Z"
   },
   {
    "duration": 11,
    "start_time": "2022-03-28T21:01:04.519Z"
   },
   {
    "duration": 31,
    "start_time": "2022-03-28T21:01:04.532Z"
   },
   {
    "duration": 11,
    "start_time": "2022-03-28T21:01:04.580Z"
   },
   {
    "duration": 1854,
    "start_time": "2022-03-28T21:01:04.593Z"
   },
   {
    "duration": 33166,
    "start_time": "2022-03-28T21:01:06.448Z"
   },
   {
    "duration": 1267,
    "start_time": "2022-03-28T21:01:39.617Z"
   },
   {
    "duration": 97,
    "start_time": "2022-03-28T21:01:40.886Z"
   },
   {
    "duration": 20,
    "start_time": "2022-03-28T21:01:40.985Z"
   },
   {
    "duration": 35,
    "start_time": "2022-03-28T21:01:41.007Z"
   },
   {
    "duration": 700,
    "start_time": "2022-03-28T21:01:41.043Z"
   },
   {
    "duration": 137,
    "start_time": "2022-03-28T21:01:41.745Z"
   },
   {
    "duration": 1444,
    "start_time": "2022-03-28T21:07:05.893Z"
   },
   {
    "duration": 29,
    "start_time": "2022-03-28T21:07:07.339Z"
   },
   {
    "duration": 50,
    "start_time": "2022-03-28T21:07:07.370Z"
   },
   {
    "duration": 13,
    "start_time": "2022-03-28T21:07:07.421Z"
   },
   {
    "duration": 96,
    "start_time": "2022-03-28T21:07:07.436Z"
   },
   {
    "duration": 3,
    "start_time": "2022-03-28T21:07:07.533Z"
   },
   {
    "duration": 10,
    "start_time": "2022-03-28T21:07:07.538Z"
   },
   {
    "duration": 8,
    "start_time": "2022-03-28T21:07:07.550Z"
   },
   {
    "duration": 8,
    "start_time": "2022-03-28T21:07:07.560Z"
   },
   {
    "duration": 24,
    "start_time": "2022-03-28T21:07:07.570Z"
   },
   {
    "duration": 5,
    "start_time": "2022-03-28T21:07:07.596Z"
   },
   {
    "duration": 19,
    "start_time": "2022-03-28T21:07:07.603Z"
   },
   {
    "duration": 19,
    "start_time": "2022-03-28T21:07:07.624Z"
   },
   {
    "duration": 5,
    "start_time": "2022-03-28T21:07:07.647Z"
   },
   {
    "duration": 34,
    "start_time": "2022-03-28T21:07:07.654Z"
   },
   {
    "duration": 16,
    "start_time": "2022-03-28T21:07:07.689Z"
   },
   {
    "duration": 14,
    "start_time": "2022-03-28T21:07:07.706Z"
   },
   {
    "duration": 28,
    "start_time": "2022-03-28T21:07:07.722Z"
   },
   {
    "duration": 18,
    "start_time": "2022-03-28T21:07:07.752Z"
   },
   {
    "duration": 12,
    "start_time": "2022-03-28T21:07:07.772Z"
   },
   {
    "duration": 9,
    "start_time": "2022-03-28T21:07:07.786Z"
   },
   {
    "duration": 15,
    "start_time": "2022-03-28T21:07:07.797Z"
   },
   {
    "duration": 32,
    "start_time": "2022-03-28T21:07:07.813Z"
   },
   {
    "duration": 35,
    "start_time": "2022-03-28T21:07:07.846Z"
   },
   {
    "duration": 2112,
    "start_time": "2022-03-28T21:07:07.882Z"
   },
   {
    "duration": 35433,
    "start_time": "2022-03-28T21:07:09.995Z"
   },
   {
    "duration": 1160,
    "start_time": "2022-03-28T21:07:45.429Z"
   },
   {
    "duration": 5,
    "start_time": "2022-03-28T21:07:46.680Z"
   },
   {
    "duration": 17,
    "start_time": "2022-03-28T21:07:46.687Z"
   },
   {
    "duration": 22,
    "start_time": "2022-03-28T21:07:46.706Z"
   },
   {
    "duration": 729,
    "start_time": "2022-03-28T21:07:46.730Z"
   },
   {
    "duration": 122,
    "start_time": "2022-03-28T21:07:47.461Z"
   },
   {
    "duration": 704,
    "start_time": "2022-03-28T21:14:43.428Z"
   },
   {
    "duration": 697,
    "start_time": "2022-03-28T21:15:27.156Z"
   },
   {
    "duration": 8,
    "start_time": "2022-03-28T21:17:40.647Z"
   },
   {
    "duration": 108,
    "start_time": "2022-03-28T21:19:25.535Z"
   },
   {
    "duration": 184,
    "start_time": "2022-03-28T21:19:56.252Z"
   },
   {
    "duration": 5,
    "start_time": "2022-03-28T21:21:43.891Z"
   },
   {
    "duration": 5,
    "start_time": "2022-03-28T21:21:46.527Z"
   },
   {
    "duration": 59086,
    "start_time": "2022-03-29T18:31:50.248Z"
   },
   {
    "duration": 37,
    "start_time": "2022-03-29T18:32:49.337Z"
   },
   {
    "duration": 56,
    "start_time": "2022-03-29T18:32:49.376Z"
   },
   {
    "duration": 12,
    "start_time": "2022-03-29T18:32:49.434Z"
   },
   {
    "duration": 113,
    "start_time": "2022-03-29T18:32:49.448Z"
   },
   {
    "duration": 4,
    "start_time": "2022-03-29T18:32:49.563Z"
   },
   {
    "duration": 6,
    "start_time": "2022-03-29T18:32:49.569Z"
   },
   {
    "duration": 10,
    "start_time": "2022-03-29T18:32:49.576Z"
   },
   {
    "duration": 14,
    "start_time": "2022-03-29T18:32:49.588Z"
   },
   {
    "duration": 18,
    "start_time": "2022-03-29T18:32:49.603Z"
   },
   {
    "duration": 5,
    "start_time": "2022-03-29T18:32:49.623Z"
   },
   {
    "duration": 15,
    "start_time": "2022-03-29T18:32:49.629Z"
   },
   {
    "duration": 8,
    "start_time": "2022-03-29T18:32:49.646Z"
   },
   {
    "duration": 5,
    "start_time": "2022-03-29T18:32:49.657Z"
   },
   {
    "duration": 43,
    "start_time": "2022-03-29T18:32:49.664Z"
   },
   {
    "duration": 12,
    "start_time": "2022-03-29T18:32:49.709Z"
   },
   {
    "duration": 15,
    "start_time": "2022-03-29T18:32:49.723Z"
   },
   {
    "duration": 12,
    "start_time": "2022-03-29T18:32:49.740Z"
   },
   {
    "duration": 11,
    "start_time": "2022-03-29T18:32:49.753Z"
   },
   {
    "duration": 11,
    "start_time": "2022-03-29T18:32:49.766Z"
   },
   {
    "duration": 30,
    "start_time": "2022-03-29T18:32:49.779Z"
   },
   {
    "duration": 8,
    "start_time": "2022-03-29T18:32:49.811Z"
   },
   {
    "duration": 33,
    "start_time": "2022-03-29T18:32:49.821Z"
   },
   {
    "duration": 12,
    "start_time": "2022-03-29T18:32:49.856Z"
   },
   {
    "duration": 2094,
    "start_time": "2022-03-29T18:32:49.869Z"
   },
   {
    "duration": 41741,
    "start_time": "2022-03-29T18:32:51.965Z"
   },
   {
    "duration": 1100,
    "start_time": "2022-03-29T18:33:33.708Z"
   },
   {
    "duration": 93,
    "start_time": "2022-03-29T18:33:34.810Z"
   },
   {
    "duration": 6,
    "start_time": "2022-03-29T18:33:34.905Z"
   },
   {
    "duration": 9,
    "start_time": "2022-03-29T18:33:34.913Z"
   },
   {
    "duration": 22,
    "start_time": "2022-03-29T18:33:34.924Z"
   },
   {
    "duration": 784,
    "start_time": "2022-03-29T18:33:34.948Z"
   },
   {
    "duration": 167,
    "start_time": "2022-03-29T18:33:35.734Z"
   },
   {
    "duration": 1173,
    "start_time": "2022-03-29T18:33:35.903Z"
   },
   {
    "duration": 121,
    "start_time": "2022-03-29T18:33:37.077Z"
   },
   {
    "duration": 48,
    "start_time": "2022-03-29T20:13:30.722Z"
   },
   {
    "duration": 1492,
    "start_time": "2022-03-29T20:13:38.233Z"
   },
   {
    "duration": 25,
    "start_time": "2022-03-29T20:13:39.727Z"
   },
   {
    "duration": 57,
    "start_time": "2022-03-29T20:13:39.754Z"
   },
   {
    "duration": 12,
    "start_time": "2022-03-29T20:13:39.813Z"
   },
   {
    "duration": 75,
    "start_time": "2022-03-29T20:13:39.827Z"
   },
   {
    "duration": 4,
    "start_time": "2022-03-29T20:13:39.903Z"
   },
   {
    "duration": 8,
    "start_time": "2022-03-29T20:13:39.908Z"
   },
   {
    "duration": 23,
    "start_time": "2022-03-29T20:13:39.918Z"
   },
   {
    "duration": 5,
    "start_time": "2022-03-29T20:13:39.943Z"
   },
   {
    "duration": 17,
    "start_time": "2022-03-29T20:13:39.951Z"
   },
   {
    "duration": 6,
    "start_time": "2022-03-29T20:13:39.970Z"
   },
   {
    "duration": 7,
    "start_time": "2022-03-29T20:13:39.977Z"
   },
   {
    "duration": 10,
    "start_time": "2022-03-29T20:13:39.986Z"
   },
   {
    "duration": 39,
    "start_time": "2022-03-29T20:13:39.998Z"
   },
   {
    "duration": 13,
    "start_time": "2022-03-29T20:13:40.039Z"
   },
   {
    "duration": 17,
    "start_time": "2022-03-29T20:13:40.055Z"
   },
   {
    "duration": 16,
    "start_time": "2022-03-29T20:13:40.074Z"
   },
   {
    "duration": 19,
    "start_time": "2022-03-29T20:13:40.092Z"
   },
   {
    "duration": 125,
    "start_time": "2022-03-29T20:13:40.113Z"
   },
   {
    "duration": 0,
    "start_time": "2022-03-29T20:13:40.240Z"
   },
   {
    "duration": 0,
    "start_time": "2022-03-29T20:13:40.242Z"
   },
   {
    "duration": 0,
    "start_time": "2022-03-29T20:13:40.243Z"
   },
   {
    "duration": 0,
    "start_time": "2022-03-29T20:13:40.244Z"
   },
   {
    "duration": 0,
    "start_time": "2022-03-29T20:13:40.246Z"
   },
   {
    "duration": 0,
    "start_time": "2022-03-29T20:13:40.247Z"
   },
   {
    "duration": 0,
    "start_time": "2022-03-29T20:13:40.249Z"
   },
   {
    "duration": 0,
    "start_time": "2022-03-29T20:13:40.250Z"
   },
   {
    "duration": 0,
    "start_time": "2022-03-29T20:13:40.252Z"
   },
   {
    "duration": 0,
    "start_time": "2022-03-29T20:13:40.254Z"
   },
   {
    "duration": 1,
    "start_time": "2022-03-29T20:13:40.255Z"
   },
   {
    "duration": 0,
    "start_time": "2022-03-29T20:13:40.257Z"
   },
   {
    "duration": 0,
    "start_time": "2022-03-29T20:13:40.259Z"
   },
   {
    "duration": 0,
    "start_time": "2022-03-29T20:13:40.260Z"
   },
   {
    "duration": 0,
    "start_time": "2022-03-29T20:13:40.262Z"
   },
   {
    "duration": 0,
    "start_time": "2022-03-29T20:13:40.263Z"
   },
   {
    "duration": 7,
    "start_time": "2022-03-29T20:15:26.985Z"
   },
   {
    "duration": 17,
    "start_time": "2022-03-29T20:15:49.927Z"
   },
   {
    "duration": 15,
    "start_time": "2022-03-29T20:16:52.006Z"
   },
   {
    "duration": 6,
    "start_time": "2022-03-29T20:16:55.205Z"
   },
   {
    "duration": 6,
    "start_time": "2022-03-29T20:17:01.175Z"
   },
   {
    "duration": 17,
    "start_time": "2022-03-29T20:17:07.990Z"
   },
   {
    "duration": 11,
    "start_time": "2022-03-29T20:17:14.231Z"
   },
   {
    "duration": 9,
    "start_time": "2022-03-29T20:17:18.046Z"
   },
   {
    "duration": 11,
    "start_time": "2022-03-29T20:17:22.425Z"
   },
   {
    "duration": 8,
    "start_time": "2022-03-29T20:17:25.861Z"
   },
   {
    "duration": 7,
    "start_time": "2022-03-29T20:18:00.861Z"
   },
   {
    "duration": 5,
    "start_time": "2022-03-29T20:18:04.463Z"
   },
   {
    "duration": 6,
    "start_time": "2022-03-29T20:18:07.068Z"
   },
   {
    "duration": 10,
    "start_time": "2022-03-29T20:18:10.141Z"
   },
   {
    "duration": 11,
    "start_time": "2022-03-29T20:18:12.554Z"
   },
   {
    "duration": 12,
    "start_time": "2022-03-29T20:18:16.383Z"
   },
   {
    "duration": 12,
    "start_time": "2022-03-29T20:18:18.494Z"
   },
   {
    "duration": 9,
    "start_time": "2022-03-29T20:18:21.281Z"
   },
   {
    "duration": 11,
    "start_time": "2022-03-29T20:18:24.423Z"
   },
   {
    "duration": 9,
    "start_time": "2022-03-29T20:20:32.925Z"
   },
   {
    "duration": 16,
    "start_time": "2022-03-29T20:21:56.947Z"
   },
   {
    "duration": 15,
    "start_time": "2022-03-29T20:22:10.245Z"
   },
   {
    "duration": 16,
    "start_time": "2022-03-29T20:22:45.977Z"
   },
   {
    "duration": 15,
    "start_time": "2022-03-29T20:23:01.836Z"
   },
   {
    "duration": 15,
    "start_time": "2022-03-29T20:24:55.273Z"
   },
   {
    "duration": 11,
    "start_time": "2022-03-29T20:25:34.656Z"
   },
   {
    "duration": 10,
    "start_time": "2022-03-29T20:25:42.245Z"
   },
   {
    "duration": 13,
    "start_time": "2022-03-29T20:28:26.575Z"
   },
   {
    "duration": 10,
    "start_time": "2022-03-29T20:28:58.209Z"
   },
   {
    "duration": 10,
    "start_time": "2022-03-29T20:29:09.546Z"
   },
   {
    "duration": 10,
    "start_time": "2022-03-29T20:29:24.038Z"
   },
   {
    "duration": 12,
    "start_time": "2022-03-29T20:29:31.855Z"
   },
   {
    "duration": 11,
    "start_time": "2022-03-29T20:30:34.211Z"
   },
   {
    "duration": 12,
    "start_time": "2022-03-29T20:30:44.670Z"
   },
   {
    "duration": 10,
    "start_time": "2022-03-29T20:30:52.385Z"
   },
   {
    "duration": 12,
    "start_time": "2022-03-29T20:31:01.863Z"
   },
   {
    "duration": 11,
    "start_time": "2022-03-29T20:31:08.578Z"
   },
   {
    "duration": 12,
    "start_time": "2022-03-29T20:31:13.867Z"
   },
   {
    "duration": 11,
    "start_time": "2022-03-29T20:31:23.644Z"
   },
   {
    "duration": 10,
    "start_time": "2022-03-29T20:31:29.883Z"
   },
   {
    "duration": 10,
    "start_time": "2022-03-29T20:31:36.196Z"
   },
   {
    "duration": 11,
    "start_time": "2022-03-29T20:32:02.072Z"
   },
   {
    "duration": 10,
    "start_time": "2022-03-29T20:32:07.835Z"
   },
   {
    "duration": 9,
    "start_time": "2022-03-29T20:33:00.971Z"
   },
   {
    "duration": 9,
    "start_time": "2022-03-29T20:33:20.162Z"
   },
   {
    "duration": 8,
    "start_time": "2022-03-29T20:33:27.244Z"
   },
   {
    "duration": 9,
    "start_time": "2022-03-29T20:33:42.996Z"
   },
   {
    "duration": 8,
    "start_time": "2022-03-29T20:33:49.479Z"
   },
   {
    "duration": 8,
    "start_time": "2022-03-29T20:37:33.750Z"
   },
   {
    "duration": 4,
    "start_time": "2022-03-29T20:37:37.740Z"
   },
   {
    "duration": 7,
    "start_time": "2022-03-29T20:37:44.469Z"
   },
   {
    "duration": 31,
    "start_time": "2022-03-29T20:39:24.401Z"
   },
   {
    "duration": 13,
    "start_time": "2022-03-29T20:39:27.726Z"
   },
   {
    "duration": 4,
    "start_time": "2022-03-29T20:51:58.889Z"
   },
   {
    "duration": 1875,
    "start_time": "2022-03-29T20:53:26.729Z"
   },
   {
    "duration": 53,
    "start_time": "2022-03-29T20:54:04.991Z"
   },
   {
    "duration": 64,
    "start_time": "2022-03-29T20:54:32.527Z"
   },
   {
    "duration": 33657,
    "start_time": "2022-03-29T20:54:45.365Z"
   },
   {
    "duration": 11,
    "start_time": "2022-03-29T20:55:41.931Z"
   },
   {
    "duration": 195,
    "start_time": "2022-03-29T21:02:18.377Z"
   },
   {
    "duration": 1366,
    "start_time": "2022-03-29T21:09:12.651Z"
   },
   {
    "duration": 24,
    "start_time": "2022-03-29T21:09:14.019Z"
   },
   {
    "duration": 51,
    "start_time": "2022-03-29T21:09:14.045Z"
   },
   {
    "duration": 13,
    "start_time": "2022-03-29T21:09:14.098Z"
   },
   {
    "duration": 82,
    "start_time": "2022-03-29T21:09:14.112Z"
   },
   {
    "duration": 2,
    "start_time": "2022-03-29T21:09:14.196Z"
   },
   {
    "duration": 10,
    "start_time": "2022-03-29T21:09:14.200Z"
   },
   {
    "duration": 6,
    "start_time": "2022-03-29T21:09:14.212Z"
   },
   {
    "duration": 19,
    "start_time": "2022-03-29T21:09:14.219Z"
   },
   {
    "duration": 17,
    "start_time": "2022-03-29T21:09:14.240Z"
   },
   {
    "duration": 6,
    "start_time": "2022-03-29T21:09:14.258Z"
   },
   {
    "duration": 6,
    "start_time": "2022-03-29T21:09:14.266Z"
   },
   {
    "duration": 9,
    "start_time": "2022-03-29T21:09:14.273Z"
   },
   {
    "duration": 6,
    "start_time": "2022-03-29T21:09:14.284Z"
   },
   {
    "duration": 13,
    "start_time": "2022-03-29T21:09:14.291Z"
   },
   {
    "duration": 43,
    "start_time": "2022-03-29T21:09:14.306Z"
   },
   {
    "duration": 16,
    "start_time": "2022-03-29T21:09:14.351Z"
   },
   {
    "duration": 15,
    "start_time": "2022-03-29T21:09:14.369Z"
   },
   {
    "duration": 133,
    "start_time": "2022-03-29T21:09:14.386Z"
   },
   {
    "duration": 0,
    "start_time": "2022-03-29T21:09:14.522Z"
   },
   {
    "duration": 0,
    "start_time": "2022-03-29T21:09:14.523Z"
   },
   {
    "duration": 0,
    "start_time": "2022-03-29T21:09:14.524Z"
   },
   {
    "duration": 0,
    "start_time": "2022-03-29T21:09:14.526Z"
   },
   {
    "duration": 0,
    "start_time": "2022-03-29T21:09:14.538Z"
   },
   {
    "duration": 0,
    "start_time": "2022-03-29T21:09:14.539Z"
   },
   {
    "duration": 0,
    "start_time": "2022-03-29T21:09:14.541Z"
   },
   {
    "duration": 0,
    "start_time": "2022-03-29T21:09:14.542Z"
   },
   {
    "duration": 0,
    "start_time": "2022-03-29T21:09:14.543Z"
   },
   {
    "duration": 0,
    "start_time": "2022-03-29T21:09:14.545Z"
   },
   {
    "duration": 0,
    "start_time": "2022-03-29T21:09:14.546Z"
   },
   {
    "duration": 0,
    "start_time": "2022-03-29T21:09:14.548Z"
   },
   {
    "duration": 0,
    "start_time": "2022-03-29T21:09:14.549Z"
   },
   {
    "duration": 0,
    "start_time": "2022-03-29T21:09:14.550Z"
   },
   {
    "duration": 0,
    "start_time": "2022-03-29T21:09:14.552Z"
   },
   {
    "duration": 0,
    "start_time": "2022-03-29T21:09:14.554Z"
   },
   {
    "duration": 0,
    "start_time": "2022-03-29T21:09:14.556Z"
   },
   {
    "duration": 0,
    "start_time": "2022-03-29T21:09:14.557Z"
   },
   {
    "duration": 0,
    "start_time": "2022-03-29T21:09:14.558Z"
   },
   {
    "duration": 103,
    "start_time": "2022-03-29T21:09:32.544Z"
   },
   {
    "duration": 1387,
    "start_time": "2022-03-29T21:09:39.866Z"
   },
   {
    "duration": 25,
    "start_time": "2022-03-29T21:09:41.255Z"
   },
   {
    "duration": 56,
    "start_time": "2022-03-29T21:09:41.282Z"
   },
   {
    "duration": 12,
    "start_time": "2022-03-29T21:09:41.340Z"
   },
   {
    "duration": 69,
    "start_time": "2022-03-29T21:09:41.354Z"
   },
   {
    "duration": 3,
    "start_time": "2022-03-29T21:09:41.438Z"
   },
   {
    "duration": 8,
    "start_time": "2022-03-29T21:09:41.442Z"
   },
   {
    "duration": 8,
    "start_time": "2022-03-29T21:09:41.451Z"
   },
   {
    "duration": 6,
    "start_time": "2022-03-29T21:09:41.460Z"
   },
   {
    "duration": 18,
    "start_time": "2022-03-29T21:09:41.468Z"
   },
   {
    "duration": 5,
    "start_time": "2022-03-29T21:09:41.488Z"
   },
   {
    "duration": 8,
    "start_time": "2022-03-29T21:09:41.495Z"
   },
   {
    "duration": 34,
    "start_time": "2022-03-29T21:09:41.505Z"
   },
   {
    "duration": 7,
    "start_time": "2022-03-29T21:09:41.543Z"
   },
   {
    "duration": 15,
    "start_time": "2022-03-29T21:09:41.551Z"
   },
   {
    "duration": 11,
    "start_time": "2022-03-29T21:09:41.568Z"
   },
   {
    "duration": 15,
    "start_time": "2022-03-29T21:09:41.581Z"
   },
   {
    "duration": 16,
    "start_time": "2022-03-29T21:09:41.598Z"
   },
   {
    "duration": 140,
    "start_time": "2022-03-29T21:09:41.616Z"
   },
   {
    "duration": 0,
    "start_time": "2022-03-29T21:09:41.757Z"
   },
   {
    "duration": 0,
    "start_time": "2022-03-29T21:09:41.758Z"
   },
   {
    "duration": 0,
    "start_time": "2022-03-29T21:09:41.759Z"
   },
   {
    "duration": 0,
    "start_time": "2022-03-29T21:09:41.760Z"
   },
   {
    "duration": 0,
    "start_time": "2022-03-29T21:09:41.761Z"
   },
   {
    "duration": 0,
    "start_time": "2022-03-29T21:09:41.762Z"
   },
   {
    "duration": 0,
    "start_time": "2022-03-29T21:09:41.763Z"
   },
   {
    "duration": 0,
    "start_time": "2022-03-29T21:09:41.764Z"
   },
   {
    "duration": 0,
    "start_time": "2022-03-29T21:09:41.764Z"
   },
   {
    "duration": 0,
    "start_time": "2022-03-29T21:09:41.765Z"
   },
   {
    "duration": 0,
    "start_time": "2022-03-29T21:09:41.766Z"
   },
   {
    "duration": 0,
    "start_time": "2022-03-29T21:09:41.767Z"
   },
   {
    "duration": 0,
    "start_time": "2022-03-29T21:09:41.768Z"
   },
   {
    "duration": 0,
    "start_time": "2022-03-29T21:09:41.769Z"
   },
   {
    "duration": 0,
    "start_time": "2022-03-29T21:09:41.769Z"
   },
   {
    "duration": 0,
    "start_time": "2022-03-29T21:09:41.770Z"
   },
   {
    "duration": 0,
    "start_time": "2022-03-29T21:09:41.771Z"
   },
   {
    "duration": 0,
    "start_time": "2022-03-29T21:09:41.771Z"
   },
   {
    "duration": 0,
    "start_time": "2022-03-29T21:09:41.772Z"
   },
   {
    "duration": 17,
    "start_time": "2022-03-29T21:09:57.235Z"
   },
   {
    "duration": 7,
    "start_time": "2022-03-29T21:10:06.338Z"
   },
   {
    "duration": 6,
    "start_time": "2022-03-29T21:10:09.223Z"
   },
   {
    "duration": 1427,
    "start_time": "2022-03-29T21:10:15.926Z"
   },
   {
    "duration": 27,
    "start_time": "2022-03-29T21:10:17.355Z"
   },
   {
    "duration": 57,
    "start_time": "2022-03-29T21:10:17.384Z"
   },
   {
    "duration": 14,
    "start_time": "2022-03-29T21:10:17.443Z"
   },
   {
    "duration": 90,
    "start_time": "2022-03-29T21:10:17.460Z"
   },
   {
    "duration": 4,
    "start_time": "2022-03-29T21:10:17.552Z"
   },
   {
    "duration": 13,
    "start_time": "2022-03-29T21:10:17.558Z"
   },
   {
    "duration": 10,
    "start_time": "2022-03-29T21:10:17.573Z"
   },
   {
    "duration": 15,
    "start_time": "2022-03-29T21:10:17.585Z"
   },
   {
    "duration": 36,
    "start_time": "2022-03-29T21:10:17.602Z"
   },
   {
    "duration": 6,
    "start_time": "2022-03-29T21:10:17.640Z"
   },
   {
    "duration": 14,
    "start_time": "2022-03-29T21:10:17.647Z"
   },
   {
    "duration": 15,
    "start_time": "2022-03-29T21:10:17.663Z"
   },
   {
    "duration": 13,
    "start_time": "2022-03-29T21:10:17.682Z"
   },
   {
    "duration": 23,
    "start_time": "2022-03-29T21:10:17.697Z"
   },
   {
    "duration": 17,
    "start_time": "2022-03-29T21:10:17.722Z"
   },
   {
    "duration": 14,
    "start_time": "2022-03-29T21:10:17.741Z"
   },
   {
    "duration": 17,
    "start_time": "2022-03-29T21:10:17.757Z"
   },
   {
    "duration": 130,
    "start_time": "2022-03-29T21:10:17.775Z"
   },
   {
    "duration": 0,
    "start_time": "2022-03-29T21:10:17.907Z"
   },
   {
    "duration": 0,
    "start_time": "2022-03-29T21:10:17.908Z"
   },
   {
    "duration": 0,
    "start_time": "2022-03-29T21:10:17.910Z"
   },
   {
    "duration": 0,
    "start_time": "2022-03-29T21:10:17.911Z"
   },
   {
    "duration": 0,
    "start_time": "2022-03-29T21:10:17.912Z"
   },
   {
    "duration": 0,
    "start_time": "2022-03-29T21:10:17.913Z"
   },
   {
    "duration": 0,
    "start_time": "2022-03-29T21:10:17.914Z"
   },
   {
    "duration": 0,
    "start_time": "2022-03-29T21:10:17.915Z"
   },
   {
    "duration": 0,
    "start_time": "2022-03-29T21:10:17.916Z"
   },
   {
    "duration": 0,
    "start_time": "2022-03-29T21:10:17.917Z"
   },
   {
    "duration": 0,
    "start_time": "2022-03-29T21:10:17.919Z"
   },
   {
    "duration": 0,
    "start_time": "2022-03-29T21:10:17.919Z"
   },
   {
    "duration": 0,
    "start_time": "2022-03-29T21:10:17.938Z"
   },
   {
    "duration": 0,
    "start_time": "2022-03-29T21:10:17.940Z"
   },
   {
    "duration": 0,
    "start_time": "2022-03-29T21:10:17.941Z"
   },
   {
    "duration": 0,
    "start_time": "2022-03-29T21:10:17.942Z"
   },
   {
    "duration": 0,
    "start_time": "2022-03-29T21:10:17.942Z"
   },
   {
    "duration": 0,
    "start_time": "2022-03-29T21:10:17.944Z"
   },
   {
    "duration": 0,
    "start_time": "2022-03-29T21:10:17.945Z"
   },
   {
    "duration": 7,
    "start_time": "2022-03-29T21:10:59.256Z"
   },
   {
    "duration": 6,
    "start_time": "2022-03-29T21:11:02.217Z"
   },
   {
    "duration": 6,
    "start_time": "2022-03-29T21:11:07.247Z"
   },
   {
    "duration": 6,
    "start_time": "2022-03-29T21:11:29.893Z"
   },
   {
    "duration": 7,
    "start_time": "2022-03-29T21:11:32.978Z"
   },
   {
    "duration": 6,
    "start_time": "2022-03-29T21:11:48.819Z"
   },
   {
    "duration": 1696,
    "start_time": "2022-03-29T21:12:20.657Z"
   },
   {
    "duration": 6,
    "start_time": "2022-03-29T21:12:40.877Z"
   },
   {
    "duration": 7,
    "start_time": "2022-03-29T21:12:46.260Z"
   },
   {
    "duration": 6,
    "start_time": "2022-03-29T21:12:49.259Z"
   },
   {
    "duration": 6,
    "start_time": "2022-03-29T21:13:49.152Z"
   },
   {
    "duration": 1373,
    "start_time": "2022-03-29T21:13:55.048Z"
   },
   {
    "duration": 40,
    "start_time": "2022-03-29T21:13:56.423Z"
   },
   {
    "duration": 50,
    "start_time": "2022-03-29T21:13:56.465Z"
   },
   {
    "duration": 12,
    "start_time": "2022-03-29T21:13:56.517Z"
   },
   {
    "duration": 69,
    "start_time": "2022-03-29T21:13:56.538Z"
   },
   {
    "duration": 4,
    "start_time": "2022-03-29T21:13:56.609Z"
   },
   {
    "duration": 23,
    "start_time": "2022-03-29T21:13:56.615Z"
   },
   {
    "duration": 5,
    "start_time": "2022-03-29T21:13:56.639Z"
   },
   {
    "duration": 7,
    "start_time": "2022-03-29T21:13:56.645Z"
   },
   {
    "duration": 21,
    "start_time": "2022-03-29T21:13:56.653Z"
   },
   {
    "duration": 5,
    "start_time": "2022-03-29T21:13:56.676Z"
   },
   {
    "duration": 9,
    "start_time": "2022-03-29T21:13:56.683Z"
   },
   {
    "duration": 13,
    "start_time": "2022-03-29T21:13:56.693Z"
   },
   {
    "duration": 30,
    "start_time": "2022-03-29T21:13:56.709Z"
   },
   {
    "duration": 9,
    "start_time": "2022-03-29T21:13:56.741Z"
   },
   {
    "duration": 11,
    "start_time": "2022-03-29T21:13:56.752Z"
   },
   {
    "duration": 12,
    "start_time": "2022-03-29T21:13:56.765Z"
   },
   {
    "duration": 11,
    "start_time": "2022-03-29T21:13:56.779Z"
   },
   {
    "duration": 137,
    "start_time": "2022-03-29T21:13:56.793Z"
   },
   {
    "duration": 0,
    "start_time": "2022-03-29T21:13:56.932Z"
   },
   {
    "duration": 0,
    "start_time": "2022-03-29T21:13:56.937Z"
   },
   {
    "duration": 0,
    "start_time": "2022-03-29T21:13:56.938Z"
   },
   {
    "duration": 0,
    "start_time": "2022-03-29T21:13:56.940Z"
   },
   {
    "duration": 0,
    "start_time": "2022-03-29T21:13:56.940Z"
   },
   {
    "duration": 0,
    "start_time": "2022-03-29T21:13:56.942Z"
   },
   {
    "duration": 0,
    "start_time": "2022-03-29T21:13:56.943Z"
   },
   {
    "duration": 0,
    "start_time": "2022-03-29T21:13:56.944Z"
   },
   {
    "duration": 0,
    "start_time": "2022-03-29T21:13:56.945Z"
   },
   {
    "duration": 0,
    "start_time": "2022-03-29T21:13:56.946Z"
   },
   {
    "duration": 0,
    "start_time": "2022-03-29T21:13:56.946Z"
   },
   {
    "duration": 0,
    "start_time": "2022-03-29T21:13:56.947Z"
   },
   {
    "duration": 0,
    "start_time": "2022-03-29T21:13:56.948Z"
   },
   {
    "duration": 0,
    "start_time": "2022-03-29T21:13:56.949Z"
   },
   {
    "duration": 0,
    "start_time": "2022-03-29T21:13:56.950Z"
   },
   {
    "duration": 0,
    "start_time": "2022-03-29T21:13:56.951Z"
   },
   {
    "duration": 0,
    "start_time": "2022-03-29T21:13:56.952Z"
   },
   {
    "duration": 0,
    "start_time": "2022-03-29T21:13:56.953Z"
   },
   {
    "duration": 0,
    "start_time": "2022-03-29T21:13:56.954Z"
   },
   {
    "duration": 12,
    "start_time": "2022-03-29T21:15:13.069Z"
   },
   {
    "duration": 6,
    "start_time": "2022-03-29T21:16:33.733Z"
   },
   {
    "duration": 6,
    "start_time": "2022-03-29T21:16:36.856Z"
   },
   {
    "duration": 6,
    "start_time": "2022-03-29T21:16:39.503Z"
   },
   {
    "duration": 7,
    "start_time": "2022-03-29T21:17:00.657Z"
   },
   {
    "duration": 6,
    "start_time": "2022-03-29T21:17:03.677Z"
   },
   {
    "duration": 6,
    "start_time": "2022-03-29T21:17:07.856Z"
   },
   {
    "duration": 10,
    "start_time": "2022-03-29T21:17:11.407Z"
   },
   {
    "duration": 12,
    "start_time": "2022-03-29T21:17:13.475Z"
   },
   {
    "duration": 1378,
    "start_time": "2022-03-29T21:17:34.471Z"
   },
   {
    "duration": 24,
    "start_time": "2022-03-29T21:17:35.852Z"
   },
   {
    "duration": 52,
    "start_time": "2022-03-29T21:17:35.878Z"
   },
   {
    "duration": 15,
    "start_time": "2022-03-29T21:17:35.932Z"
   },
   {
    "duration": 70,
    "start_time": "2022-03-29T21:17:35.948Z"
   },
   {
    "duration": 3,
    "start_time": "2022-03-29T21:17:36.020Z"
   },
   {
    "duration": 5,
    "start_time": "2022-03-29T21:17:36.037Z"
   },
   {
    "duration": 9,
    "start_time": "2022-03-29T21:17:36.044Z"
   },
   {
    "duration": 7,
    "start_time": "2022-03-29T21:17:36.055Z"
   },
   {
    "duration": 21,
    "start_time": "2022-03-29T21:17:36.064Z"
   },
   {
    "duration": 54,
    "start_time": "2022-03-29T21:17:36.087Z"
   },
   {
    "duration": 6,
    "start_time": "2022-03-29T21:17:36.143Z"
   },
   {
    "duration": 12,
    "start_time": "2022-03-29T21:17:36.151Z"
   },
   {
    "duration": 7,
    "start_time": "2022-03-29T21:17:36.164Z"
   },
   {
    "duration": 10,
    "start_time": "2022-03-29T21:17:36.173Z"
   },
   {
    "duration": 60,
    "start_time": "2022-03-29T21:17:36.184Z"
   },
   {
    "duration": 14,
    "start_time": "2022-03-29T21:17:36.246Z"
   },
   {
    "duration": 12,
    "start_time": "2022-03-29T21:17:36.262Z"
   },
   {
    "duration": 269,
    "start_time": "2022-03-29T21:17:36.276Z"
   },
   {
    "duration": 0,
    "start_time": "2022-03-29T21:17:36.547Z"
   },
   {
    "duration": 0,
    "start_time": "2022-03-29T21:17:36.549Z"
   },
   {
    "duration": 0,
    "start_time": "2022-03-29T21:17:36.550Z"
   },
   {
    "duration": 0,
    "start_time": "2022-03-29T21:17:36.551Z"
   },
   {
    "duration": 0,
    "start_time": "2022-03-29T21:17:36.551Z"
   },
   {
    "duration": 0,
    "start_time": "2022-03-29T21:17:36.552Z"
   },
   {
    "duration": 0,
    "start_time": "2022-03-29T21:17:36.553Z"
   },
   {
    "duration": 0,
    "start_time": "2022-03-29T21:17:36.554Z"
   },
   {
    "duration": 0,
    "start_time": "2022-03-29T21:17:36.555Z"
   },
   {
    "duration": 0,
    "start_time": "2022-03-29T21:17:36.556Z"
   },
   {
    "duration": 0,
    "start_time": "2022-03-29T21:17:36.557Z"
   },
   {
    "duration": 0,
    "start_time": "2022-03-29T21:17:36.557Z"
   },
   {
    "duration": 0,
    "start_time": "2022-03-29T21:17:36.558Z"
   },
   {
    "duration": 0,
    "start_time": "2022-03-29T21:17:36.560Z"
   },
   {
    "duration": 0,
    "start_time": "2022-03-29T21:17:36.561Z"
   },
   {
    "duration": 0,
    "start_time": "2022-03-29T21:17:36.562Z"
   },
   {
    "duration": 0,
    "start_time": "2022-03-29T21:17:36.562Z"
   },
   {
    "duration": 0,
    "start_time": "2022-03-29T21:17:36.563Z"
   },
   {
    "duration": 0,
    "start_time": "2022-03-29T21:17:36.564Z"
   },
   {
    "duration": 14,
    "start_time": "2022-03-29T21:18:36.961Z"
   },
   {
    "duration": 6,
    "start_time": "2022-03-29T21:18:39.701Z"
   },
   {
    "duration": 6,
    "start_time": "2022-03-29T21:18:42.549Z"
   },
   {
    "duration": 10,
    "start_time": "2022-03-29T21:18:45.639Z"
   },
   {
    "duration": 11,
    "start_time": "2022-03-29T21:18:47.570Z"
   },
   {
    "duration": 17,
    "start_time": "2022-03-29T21:18:52.818Z"
   },
   {
    "duration": 1382,
    "start_time": "2022-03-29T21:19:03.451Z"
   },
   {
    "duration": 25,
    "start_time": "2022-03-29T21:19:04.835Z"
   },
   {
    "duration": 50,
    "start_time": "2022-03-29T21:19:04.862Z"
   },
   {
    "duration": 11,
    "start_time": "2022-03-29T21:19:04.914Z"
   },
   {
    "duration": 121,
    "start_time": "2022-03-29T21:19:04.928Z"
   },
   {
    "duration": 3,
    "start_time": "2022-03-29T21:19:05.051Z"
   },
   {
    "duration": 8,
    "start_time": "2022-03-29T21:19:05.056Z"
   },
   {
    "duration": 9,
    "start_time": "2022-03-29T21:19:05.065Z"
   },
   {
    "duration": 6,
    "start_time": "2022-03-29T21:19:05.076Z"
   },
   {
    "duration": 67,
    "start_time": "2022-03-29T21:19:05.084Z"
   },
   {
    "duration": 9,
    "start_time": "2022-03-29T21:19:05.153Z"
   },
   {
    "duration": 20,
    "start_time": "2022-03-29T21:19:05.164Z"
   },
   {
    "duration": 60,
    "start_time": "2022-03-29T21:19:05.185Z"
   },
   {
    "duration": 9,
    "start_time": "2022-03-29T21:19:05.248Z"
   },
   {
    "duration": 15,
    "start_time": "2022-03-29T21:19:05.258Z"
   },
   {
    "duration": 11,
    "start_time": "2022-03-29T21:19:05.275Z"
   },
   {
    "duration": 60,
    "start_time": "2022-03-29T21:19:05.287Z"
   },
   {
    "duration": 12,
    "start_time": "2022-03-29T21:19:05.349Z"
   },
   {
    "duration": 15,
    "start_time": "2022-03-29T21:19:05.363Z"
   },
   {
    "duration": 59,
    "start_time": "2022-03-29T21:19:05.380Z"
   },
   {
    "duration": 9,
    "start_time": "2022-03-29T21:19:05.441Z"
   },
   {
    "duration": 19,
    "start_time": "2022-03-29T21:19:05.452Z"
   },
   {
    "duration": 6,
    "start_time": "2022-03-29T21:19:05.473Z"
   },
   {
    "duration": 61,
    "start_time": "2022-03-29T21:19:05.481Z"
   },
   {
    "duration": 40,
    "start_time": "2022-03-29T21:19:05.544Z"
   },
   {
    "duration": 62,
    "start_time": "2022-03-29T21:19:05.586Z"
   },
   {
    "duration": 2367,
    "start_time": "2022-03-29T21:19:05.649Z"
   },
   {
    "duration": 1381,
    "start_time": "2022-03-29T21:54:56.980Z"
   },
   {
    "duration": 26,
    "start_time": "2022-03-29T21:54:58.363Z"
   },
   {
    "duration": 61,
    "start_time": "2022-03-29T21:54:58.391Z"
   },
   {
    "duration": 12,
    "start_time": "2022-03-29T21:54:58.454Z"
   },
   {
    "duration": 80,
    "start_time": "2022-03-29T21:54:58.467Z"
   },
   {
    "duration": 3,
    "start_time": "2022-03-29T21:54:58.548Z"
   },
   {
    "duration": 58,
    "start_time": "2022-03-29T21:54:58.553Z"
   },
   {
    "duration": 11,
    "start_time": "2022-03-29T21:54:58.612Z"
   },
   {
    "duration": 6,
    "start_time": "2022-03-29T21:54:58.624Z"
   },
   {
    "duration": 21,
    "start_time": "2022-03-29T21:54:58.633Z"
   },
   {
    "duration": 6,
    "start_time": "2022-03-29T21:54:58.655Z"
   },
   {
    "duration": 17,
    "start_time": "2022-03-29T21:54:58.662Z"
   },
   {
    "duration": 9,
    "start_time": "2022-03-29T21:54:58.680Z"
   },
   {
    "duration": 7,
    "start_time": "2022-03-29T21:54:58.691Z"
   },
   {
    "duration": 12,
    "start_time": "2022-03-29T21:54:58.700Z"
   },
   {
    "duration": 29,
    "start_time": "2022-03-29T21:54:58.714Z"
   },
   {
    "duration": 14,
    "start_time": "2022-03-29T21:54:58.744Z"
   },
   {
    "duration": 13,
    "start_time": "2022-03-29T21:54:58.760Z"
   },
   {
    "duration": 10,
    "start_time": "2022-03-29T21:54:58.775Z"
   },
   {
    "duration": 11,
    "start_time": "2022-03-29T21:54:58.787Z"
   },
   {
    "duration": 39,
    "start_time": "2022-03-29T21:54:58.800Z"
   },
   {
    "duration": 7,
    "start_time": "2022-03-29T21:54:58.840Z"
   },
   {
    "duration": 4,
    "start_time": "2022-03-29T21:54:58.848Z"
   },
   {
    "duration": 8,
    "start_time": "2022-03-29T21:54:58.853Z"
   },
   {
    "duration": 32,
    "start_time": "2022-03-29T21:54:58.862Z"
   },
   {
    "duration": 12,
    "start_time": "2022-03-29T21:54:58.895Z"
   },
   {
    "duration": 2804,
    "start_time": "2022-03-29T21:54:58.908Z"
   },
   {
    "duration": 1473,
    "start_time": "2022-03-29T21:55:33.987Z"
   },
   {
    "duration": 26,
    "start_time": "2022-03-29T21:55:35.461Z"
   },
   {
    "duration": 54,
    "start_time": "2022-03-29T21:55:35.488Z"
   },
   {
    "duration": 12,
    "start_time": "2022-03-29T21:55:35.544Z"
   },
   {
    "duration": 81,
    "start_time": "2022-03-29T21:55:35.558Z"
   },
   {
    "duration": 3,
    "start_time": "2022-03-29T21:55:35.641Z"
   },
   {
    "duration": 16,
    "start_time": "2022-03-29T21:55:35.646Z"
   },
   {
    "duration": 6,
    "start_time": "2022-03-29T21:55:35.663Z"
   },
   {
    "duration": 7,
    "start_time": "2022-03-29T21:55:35.671Z"
   },
   {
    "duration": 20,
    "start_time": "2022-03-29T21:55:35.680Z"
   },
   {
    "duration": 5,
    "start_time": "2022-03-29T21:55:35.702Z"
   },
   {
    "duration": 32,
    "start_time": "2022-03-29T21:55:35.709Z"
   },
   {
    "duration": 8,
    "start_time": "2022-03-29T21:55:35.743Z"
   },
   {
    "duration": 7,
    "start_time": "2022-03-29T21:55:35.752Z"
   },
   {
    "duration": 11,
    "start_time": "2022-03-29T21:55:35.760Z"
   },
   {
    "duration": 16,
    "start_time": "2022-03-29T21:55:35.773Z"
   },
   {
    "duration": 14,
    "start_time": "2022-03-29T21:55:35.790Z"
   },
   {
    "duration": 37,
    "start_time": "2022-03-29T21:55:35.805Z"
   },
   {
    "duration": 11,
    "start_time": "2022-03-29T21:55:35.844Z"
   },
   {
    "duration": 10,
    "start_time": "2022-03-29T21:55:35.857Z"
   },
   {
    "duration": 9,
    "start_time": "2022-03-29T21:55:35.869Z"
   },
   {
    "duration": 10,
    "start_time": "2022-03-29T21:55:35.880Z"
   },
   {
    "duration": 4,
    "start_time": "2022-03-29T21:55:35.892Z"
   },
   {
    "duration": 41,
    "start_time": "2022-03-29T21:55:35.897Z"
   },
   {
    "duration": 30,
    "start_time": "2022-03-29T21:55:35.940Z"
   },
   {
    "duration": 13,
    "start_time": "2022-03-29T21:55:35.972Z"
   },
   {
    "duration": 2706,
    "start_time": "2022-03-29T21:55:35.986Z"
   },
   {
    "duration": 151,
    "start_time": "2022-03-29T21:58:12.940Z"
   },
   {
    "duration": 0,
    "start_time": "2022-03-29T21:58:13.093Z"
   },
   {
    "duration": 0,
    "start_time": "2022-03-29T21:58:13.094Z"
   },
   {
    "duration": 0,
    "start_time": "2022-03-29T21:58:13.095Z"
   },
   {
    "duration": 0,
    "start_time": "2022-03-29T21:58:13.097Z"
   },
   {
    "duration": 0,
    "start_time": "2022-03-29T21:58:13.098Z"
   },
   {
    "duration": 0,
    "start_time": "2022-03-29T21:58:13.099Z"
   },
   {
    "duration": 0,
    "start_time": "2022-03-29T21:58:13.100Z"
   },
   {
    "duration": 0,
    "start_time": "2022-03-29T21:58:13.101Z"
   },
   {
    "duration": 0,
    "start_time": "2022-03-29T21:58:13.103Z"
   },
   {
    "duration": 0,
    "start_time": "2022-03-29T21:58:13.104Z"
   },
   {
    "duration": 0,
    "start_time": "2022-03-29T21:58:13.105Z"
   },
   {
    "duration": 0,
    "start_time": "2022-03-29T21:58:13.106Z"
   },
   {
    "duration": 0,
    "start_time": "2022-03-29T21:58:13.107Z"
   },
   {
    "duration": 0,
    "start_time": "2022-03-29T21:58:13.108Z"
   },
   {
    "duration": 0,
    "start_time": "2022-03-29T21:58:13.110Z"
   },
   {
    "duration": 0,
    "start_time": "2022-03-29T21:58:13.111Z"
   },
   {
    "duration": 0,
    "start_time": "2022-03-29T21:58:13.112Z"
   },
   {
    "duration": 0,
    "start_time": "2022-03-29T21:58:13.113Z"
   },
   {
    "duration": 0,
    "start_time": "2022-03-29T21:58:13.114Z"
   },
   {
    "duration": 0,
    "start_time": "2022-03-29T21:58:13.115Z"
   },
   {
    "duration": 0,
    "start_time": "2022-03-29T21:58:13.116Z"
   },
   {
    "duration": 0,
    "start_time": "2022-03-29T21:58:13.117Z"
   },
   {
    "duration": 0,
    "start_time": "2022-03-29T21:58:13.118Z"
   },
   {
    "duration": 0,
    "start_time": "2022-03-29T21:58:13.119Z"
   },
   {
    "duration": 0,
    "start_time": "2022-03-29T21:58:13.120Z"
   },
   {
    "duration": 0,
    "start_time": "2022-03-29T21:58:13.121Z"
   },
   {
    "duration": 0,
    "start_time": "2022-03-29T21:58:13.122Z"
   },
   {
    "duration": 0,
    "start_time": "2022-03-29T21:58:13.123Z"
   },
   {
    "duration": 137,
    "start_time": "2022-03-29T21:58:13.127Z"
   },
   {
    "duration": 7,
    "start_time": "2022-03-29T21:58:13.266Z"
   },
   {
    "duration": 0,
    "start_time": "2022-03-29T21:58:13.274Z"
   },
   {
    "duration": 0,
    "start_time": "2022-03-29T21:58:13.276Z"
   },
   {
    "duration": 0,
    "start_time": "2022-03-29T21:58:13.277Z"
   },
   {
    "duration": 0,
    "start_time": "2022-03-29T21:58:13.278Z"
   },
   {
    "duration": 0,
    "start_time": "2022-03-29T21:58:13.279Z"
   },
   {
    "duration": 0,
    "start_time": "2022-03-29T21:58:13.280Z"
   },
   {
    "duration": 0,
    "start_time": "2022-03-29T21:58:13.281Z"
   },
   {
    "duration": 1385,
    "start_time": "2022-03-29T22:00:53.729Z"
   },
   {
    "duration": 1454,
    "start_time": "2022-03-29T22:02:54.329Z"
   },
   {
    "duration": 67,
    "start_time": "2022-03-29T22:02:55.785Z"
   },
   {
    "duration": 112,
    "start_time": "2022-03-29T22:02:55.854Z"
   },
   {
    "duration": 13,
    "start_time": "2022-03-29T22:02:55.968Z"
   },
   {
    "duration": 125,
    "start_time": "2022-03-29T22:02:56.039Z"
   },
   {
    "duration": 4,
    "start_time": "2022-03-29T22:02:56.165Z"
   },
   {
    "duration": 7,
    "start_time": "2022-03-29T22:02:56.170Z"
   },
   {
    "duration": 60,
    "start_time": "2022-03-29T22:02:56.179Z"
   },
   {
    "duration": 5,
    "start_time": "2022-03-29T22:02:56.241Z"
   },
   {
    "duration": 19,
    "start_time": "2022-03-29T22:02:56.248Z"
   },
   {
    "duration": 6,
    "start_time": "2022-03-29T22:02:56.269Z"
   },
   {
    "duration": 65,
    "start_time": "2022-03-29T22:02:56.277Z"
   },
   {
    "duration": 13,
    "start_time": "2022-03-29T22:02:56.344Z"
   },
   {
    "duration": 6,
    "start_time": "2022-03-29T22:02:56.358Z"
   },
   {
    "duration": 10,
    "start_time": "2022-03-29T22:02:56.366Z"
   },
   {
    "duration": 61,
    "start_time": "2022-03-29T22:02:56.378Z"
   },
   {
    "duration": 12,
    "start_time": "2022-03-29T22:02:56.441Z"
   },
   {
    "duration": 12,
    "start_time": "2022-03-29T22:02:56.455Z"
   },
   {
    "duration": 12,
    "start_time": "2022-03-29T22:02:56.468Z"
   },
   {
    "duration": 67,
    "start_time": "2022-03-29T22:02:56.481Z"
   },
   {
    "duration": 9,
    "start_time": "2022-03-29T22:02:56.550Z"
   },
   {
    "duration": 12,
    "start_time": "2022-03-29T22:02:56.561Z"
   },
   {
    "duration": 6,
    "start_time": "2022-03-29T22:02:56.575Z"
   },
   {
    "duration": 9,
    "start_time": "2022-03-29T22:02:56.637Z"
   },
   {
    "duration": 93,
    "start_time": "2022-03-29T22:02:56.649Z"
   },
   {
    "duration": 13,
    "start_time": "2022-03-29T22:02:56.743Z"
   },
   {
    "duration": 2240,
    "start_time": "2022-03-29T22:02:56.757Z"
   },
   {
    "duration": 204,
    "start_time": "2022-03-29T22:02:59.001Z"
   },
   {
    "duration": 34464,
    "start_time": "2022-03-29T22:02:59.207Z"
   },
   {
    "duration": 2267,
    "start_time": "2022-03-29T22:03:33.673Z"
   },
   {
    "duration": 8,
    "start_time": "2022-03-29T22:03:35.941Z"
   },
   {
    "duration": 9,
    "start_time": "2022-03-29T22:03:36.037Z"
   },
   {
    "duration": 9,
    "start_time": "2022-03-29T22:03:36.048Z"
   },
   {
    "duration": 24,
    "start_time": "2022-03-29T22:03:36.059Z"
   },
   {
    "duration": 739,
    "start_time": "2022-03-29T22:03:36.084Z"
   },
   {
    "duration": 118,
    "start_time": "2022-03-29T22:03:36.825Z"
   },
   {
    "duration": 754,
    "start_time": "2022-03-29T22:03:36.945Z"
   },
   {
    "duration": 121,
    "start_time": "2022-03-29T22:03:37.701Z"
   },
   {
    "duration": 1558,
    "start_time": "2022-03-29T22:07:16.890Z"
   },
   {
    "duration": 27,
    "start_time": "2022-03-29T22:07:18.450Z"
   },
   {
    "duration": 164,
    "start_time": "2022-03-29T22:07:18.479Z"
   },
   {
    "duration": 13,
    "start_time": "2022-03-29T22:07:18.645Z"
   },
   {
    "duration": 185,
    "start_time": "2022-03-29T22:07:18.660Z"
   },
   {
    "duration": 4,
    "start_time": "2022-03-29T22:07:18.847Z"
   },
   {
    "duration": 28,
    "start_time": "2022-03-29T22:07:18.852Z"
   },
   {
    "duration": 57,
    "start_time": "2022-03-29T22:07:18.882Z"
   },
   {
    "duration": 48,
    "start_time": "2022-03-29T22:07:18.941Z"
   },
   {
    "duration": 55,
    "start_time": "2022-03-29T22:07:18.992Z"
   },
   {
    "duration": 7,
    "start_time": "2022-03-29T22:07:19.049Z"
   },
   {
    "duration": 84,
    "start_time": "2022-03-29T22:07:19.058Z"
   },
   {
    "duration": 24,
    "start_time": "2022-03-29T22:07:19.144Z"
   },
   {
    "duration": 19,
    "start_time": "2022-03-29T22:07:19.170Z"
   },
   {
    "duration": 52,
    "start_time": "2022-03-29T22:07:19.191Z"
   },
   {
    "duration": 27,
    "start_time": "2022-03-29T22:07:19.246Z"
   },
   {
    "duration": 14,
    "start_time": "2022-03-29T22:07:19.275Z"
   },
   {
    "duration": 53,
    "start_time": "2022-03-29T22:07:19.291Z"
   },
   {
    "duration": 11,
    "start_time": "2022-03-29T22:07:19.346Z"
   },
   {
    "duration": 12,
    "start_time": "2022-03-29T22:07:19.358Z"
   },
   {
    "duration": 70,
    "start_time": "2022-03-29T22:07:19.373Z"
   },
   {
    "duration": 8,
    "start_time": "2022-03-29T22:07:19.444Z"
   },
   {
    "duration": 3,
    "start_time": "2022-03-29T22:07:19.454Z"
   },
   {
    "duration": 11,
    "start_time": "2022-03-29T22:07:19.459Z"
   },
   {
    "duration": 81,
    "start_time": "2022-03-29T22:07:19.472Z"
   },
   {
    "duration": 12,
    "start_time": "2022-03-29T22:07:19.555Z"
   },
   {
    "duration": 2026,
    "start_time": "2022-03-29T22:07:19.569Z"
   },
   {
    "duration": 59,
    "start_time": "2022-03-29T22:07:21.599Z"
   },
   {
    "duration": 0,
    "start_time": "2022-03-29T22:07:21.660Z"
   },
   {
    "duration": 0,
    "start_time": "2022-03-29T22:07:21.661Z"
   },
   {
    "duration": 0,
    "start_time": "2022-03-29T22:07:21.662Z"
   },
   {
    "duration": 0,
    "start_time": "2022-03-29T22:07:21.663Z"
   },
   {
    "duration": 0,
    "start_time": "2022-03-29T22:07:21.664Z"
   },
   {
    "duration": 0,
    "start_time": "2022-03-29T22:07:21.665Z"
   },
   {
    "duration": 0,
    "start_time": "2022-03-29T22:07:21.666Z"
   },
   {
    "duration": 0,
    "start_time": "2022-03-29T22:07:21.666Z"
   },
   {
    "duration": 0,
    "start_time": "2022-03-29T22:07:21.667Z"
   },
   {
    "duration": 0,
    "start_time": "2022-03-29T22:07:21.668Z"
   },
   {
    "duration": 10970,
    "start_time": "2022-03-29T22:07:35.196Z"
   },
   {
    "duration": 112,
    "start_time": "2022-03-29T22:08:16.317Z"
   },
   {
    "duration": 1897,
    "start_time": "2022-03-29T22:13:37.868Z"
   },
   {
    "duration": 71,
    "start_time": "2022-03-29T22:13:39.767Z"
   },
   {
    "duration": 107,
    "start_time": "2022-03-29T22:13:39.840Z"
   },
   {
    "duration": 12,
    "start_time": "2022-03-29T22:13:39.949Z"
   },
   {
    "duration": 177,
    "start_time": "2022-03-29T22:13:39.963Z"
   },
   {
    "duration": 4,
    "start_time": "2022-03-29T22:13:40.142Z"
   },
   {
    "duration": 8,
    "start_time": "2022-03-29T22:13:40.147Z"
   },
   {
    "duration": 6,
    "start_time": "2022-03-29T22:13:40.157Z"
   },
   {
    "duration": 7,
    "start_time": "2022-03-29T22:13:40.165Z"
   },
   {
    "duration": 62,
    "start_time": "2022-03-29T22:13:40.175Z"
   },
   {
    "duration": 7,
    "start_time": "2022-03-29T22:13:40.239Z"
   },
   {
    "duration": 13,
    "start_time": "2022-03-29T22:13:40.247Z"
   },
   {
    "duration": 10,
    "start_time": "2022-03-29T22:13:40.262Z"
   },
   {
    "duration": 6,
    "start_time": "2022-03-29T22:13:40.273Z"
   },
   {
    "duration": 11,
    "start_time": "2022-03-29T22:13:40.280Z"
   },
   {
    "duration": 13,
    "start_time": "2022-03-29T22:13:40.293Z"
   },
   {
    "duration": 12,
    "start_time": "2022-03-29T22:13:40.338Z"
   },
   {
    "duration": 12,
    "start_time": "2022-03-29T22:13:40.351Z"
   },
   {
    "duration": 16,
    "start_time": "2022-03-29T22:13:40.365Z"
   },
   {
    "duration": 10,
    "start_time": "2022-03-29T22:13:40.382Z"
   },
   {
    "duration": 8,
    "start_time": "2022-03-29T22:13:40.394Z"
   },
   {
    "duration": 34,
    "start_time": "2022-03-29T22:13:40.404Z"
   },
   {
    "duration": 3,
    "start_time": "2022-03-29T22:13:40.440Z"
   },
   {
    "duration": 8,
    "start_time": "2022-03-29T22:13:40.445Z"
   },
   {
    "duration": 29,
    "start_time": "2022-03-29T22:13:40.454Z"
   },
   {
    "duration": 11,
    "start_time": "2022-03-29T22:13:40.485Z"
   },
   {
    "duration": 3964,
    "start_time": "2022-03-29T22:13:40.498Z"
   },
   {
    "duration": 1599,
    "start_time": "2022-03-29T22:15:36.139Z"
   },
   {
    "duration": 26,
    "start_time": "2022-03-29T22:15:37.740Z"
   },
   {
    "duration": 109,
    "start_time": "2022-03-29T22:15:37.768Z"
   },
   {
    "duration": 67,
    "start_time": "2022-03-29T22:15:37.879Z"
   },
   {
    "duration": 123,
    "start_time": "2022-03-29T22:15:37.947Z"
   },
   {
    "duration": 3,
    "start_time": "2022-03-29T22:15:38.072Z"
   },
   {
    "duration": 5,
    "start_time": "2022-03-29T22:15:38.077Z"
   },
   {
    "duration": 54,
    "start_time": "2022-03-29T22:15:38.084Z"
   },
   {
    "duration": 12,
    "start_time": "2022-03-29T22:15:38.140Z"
   },
   {
    "duration": 18,
    "start_time": "2022-03-29T22:15:38.155Z"
   },
   {
    "duration": 6,
    "start_time": "2022-03-29T22:15:38.175Z"
   },
   {
    "duration": 67,
    "start_time": "2022-03-29T22:15:38.182Z"
   },
   {
    "duration": 10,
    "start_time": "2022-03-29T22:15:38.251Z"
   },
   {
    "duration": 6,
    "start_time": "2022-03-29T22:15:38.262Z"
   },
   {
    "duration": 10,
    "start_time": "2022-03-29T22:15:38.270Z"
   },
   {
    "duration": 65,
    "start_time": "2022-03-29T22:15:38.282Z"
   },
   {
    "duration": 18,
    "start_time": "2022-03-29T22:15:38.349Z"
   },
   {
    "duration": 14,
    "start_time": "2022-03-29T22:15:38.369Z"
   },
   {
    "duration": 60,
    "start_time": "2022-03-29T22:15:38.385Z"
   },
   {
    "duration": 12,
    "start_time": "2022-03-29T22:15:38.447Z"
   },
   {
    "duration": 10,
    "start_time": "2022-03-29T22:15:38.461Z"
   },
   {
    "duration": 9,
    "start_time": "2022-03-29T22:15:38.472Z"
   },
   {
    "duration": 57,
    "start_time": "2022-03-29T22:15:38.483Z"
   },
   {
    "duration": 9,
    "start_time": "2022-03-29T22:15:38.542Z"
   },
   {
    "duration": 86,
    "start_time": "2022-03-29T22:15:38.553Z"
   },
   {
    "duration": 14,
    "start_time": "2022-03-29T22:15:38.641Z"
   },
   {
    "duration": 4092,
    "start_time": "2022-03-29T22:15:38.656Z"
   },
   {
    "duration": 4,
    "start_time": "2022-03-29T22:15:42.751Z"
   },
   {
    "duration": 34807,
    "start_time": "2022-03-29T22:15:42.757Z"
   },
   {
    "duration": 1774,
    "start_time": "2022-03-29T22:16:17.566Z"
   },
   {
    "duration": 96,
    "start_time": "2022-03-29T22:16:19.343Z"
   },
   {
    "duration": 8,
    "start_time": "2022-03-29T22:16:19.441Z"
   },
   {
    "duration": 9,
    "start_time": "2022-03-29T22:16:19.451Z"
   },
   {
    "duration": 23,
    "start_time": "2022-03-29T22:16:19.462Z"
   },
   {
    "duration": 716,
    "start_time": "2022-03-29T22:16:19.487Z"
   },
   {
    "duration": 138,
    "start_time": "2022-03-29T22:16:20.205Z"
   },
   {
    "duration": 759,
    "start_time": "2022-03-29T22:16:20.345Z"
   },
   {
    "duration": 131,
    "start_time": "2022-03-29T22:16:21.106Z"
   },
   {
    "duration": 52,
    "start_time": "2022-03-29T22:19:18.147Z"
   },
   {
    "duration": 3974,
    "start_time": "2022-03-29T22:19:33.677Z"
   },
   {
    "duration": 1949,
    "start_time": "2022-03-29T22:20:47.663Z"
   },
   {
    "duration": 24,
    "start_time": "2022-03-29T22:20:51.897Z"
   },
   {
    "duration": 34272,
    "start_time": "2022-03-29T22:24:43.363Z"
   },
   {
    "duration": 1288,
    "start_time": "2022-03-29T22:25:53.052Z"
   },
   {
    "duration": 6,
    "start_time": "2022-03-29T22:26:01.991Z"
   },
   {
    "duration": 5,
    "start_time": "2022-03-29T22:26:04.574Z"
   },
   {
    "duration": 10,
    "start_time": "2022-03-29T22:26:39.031Z"
   },
   {
    "duration": 29,
    "start_time": "2022-03-29T22:29:53.216Z"
   },
   {
    "duration": 629,
    "start_time": "2022-03-29T22:30:18.961Z"
   },
   {
    "duration": 123,
    "start_time": "2022-03-29T22:30:29.416Z"
   },
   {
    "duration": 569,
    "start_time": "2022-03-29T22:31:19.181Z"
   },
   {
    "duration": 112,
    "start_time": "2022-03-29T22:31:53.994Z"
   }
  ],
  "kernelspec": {
   "display_name": "Python 3 (ipykernel)",
   "language": "python",
   "name": "python3"
  },
  "language_info": {
   "codemirror_mode": {
    "name": "ipython",
    "version": 3
   },
   "file_extension": ".py",
   "mimetype": "text/x-python",
   "name": "python",
   "nbconvert_exporter": "python",
   "pygments_lexer": "ipython3",
   "version": "3.9.5"
  },
  "toc": {
   "base_numbering": 1,
   "nav_menu": {},
   "number_sections": true,
   "sideBar": true,
   "skip_h1_title": true,
   "title_cell": "Содержание",
   "title_sidebar": "Contents",
   "toc_cell": true,
   "toc_position": {
    "height": "calc(100% - 180px)",
    "left": "10px",
    "top": "150px",
    "width": "331.449px"
   },
   "toc_section_display": true,
   "toc_window_display": true
  }
 },
 "nbformat": 4,
 "nbformat_minor": 2
}
